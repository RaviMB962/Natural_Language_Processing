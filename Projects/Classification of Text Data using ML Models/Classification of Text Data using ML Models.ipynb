{
 "cells": [
  {
   "cell_type": "markdown",
   "id": "876373e8-f43d-4cca-baa4-4a77298ecbad",
   "metadata": {},
   "source": [
    "<h2 align=\"center\">Classification of Text Data</h2>\n",
    "\n",
    "**Problem Statement:** Classify whether a given text belongs to one of possible classes `['BUSINESS', 'SPORTS', 'CRIME']` based on text.\n",
    "\n",
    "**About Data: News Category Classifier**\n",
    "* This data consists of two columns. - Text - Category\n",
    "* Text are the description about a particular topic.\n",
    "* Category determine which class the text belongs to.\n",
    "* we have classes mainly of 'BUSINESS', 'SPORTS', 'CRIME' and comes under Multi-class classification Problem.\n",
    "* DataSet Link: https://www.kaggle.com/code/hengzheng/news-category-classifier-val-acc-0-65\n",
    "\n",
    "**Methods:**\n",
    "* Pre-Processing: Spacy\n",
    "* Word to Vector: Spacy wrord embedding\n",
    "* Normalization: MinMax Scalar\n",
    "* Imabalnced Data: SMOTE\n",
    "* Modelling: ML Classification methods which are best for text data (MultinomialNB, RandomForest, KNN).\n",
    "* Evaluaution Metrics: Accuracy, F1-Score"
   ]
  },
  {
   "cell_type": "markdown",
   "id": "df0a278a-ff77-41f9-aa8c-b2ad593f1bce",
   "metadata": {},
   "source": [
    "# Importing Required Libabries"
   ]
  },
  {
   "cell_type": "code",
   "execution_count": 72,
   "id": "03dc990a-92e3-4da4-96ac-7814b54fd24c",
   "metadata": {},
   "outputs": [],
   "source": [
    "import numpy as np\n",
    "import pandas as pd\n",
    "import seaborn as sns\n",
    "import matplotlib.pyplot as plt\n",
    "import spacy\n",
    "\n",
    "from imblearn.over_sampling import SMOTE\n",
    "\n",
    "from sklearn.model_selection import train_test_split\n",
    "from sklearn.preprocessing import MinMaxScaler\n",
    "\n",
    "\n",
    "from sklearn.pipeline import Pipeline\n",
    "from sklearn.tree import DecisionTreeClassifier\n",
    "from sklearn.ensemble import RandomForestClassifier\n",
    "from sklearn.naive_bayes import MultinomialNB\n",
    "from  sklearn.neighbors import KNeighborsClassifier\n",
    "from sklearn.ensemble import RandomForestClassifier, GradientBoostingClassifier\n",
    "from sklearn.metrics import classification_report\n",
    "from sklearn.metrics import accuracy_score, f1_score, precision_score, recall_score\n",
    "from sklearn.metrics import confusion_matrix"
   ]
  },
  {
   "cell_type": "code",
   "execution_count": 2,
   "id": "f2444717-f2b9-4a0b-95e2-41c68442e9d1",
   "metadata": {},
   "outputs": [],
   "source": [
    "#importing Large model\n",
    "nlp = spacy.load(\"en_core_web_lg\")"
   ]
  },
  {
   "cell_type": "code",
   "execution_count": 3,
   "id": "117ee5d5-1458-4c1f-9c4e-8b69f6dd5d9b",
   "metadata": {},
   "outputs": [
    {
     "data": {
      "text/html": [
       "<div>\n",
       "<style scoped>\n",
       "    .dataframe tbody tr th:only-of-type {\n",
       "        vertical-align: middle;\n",
       "    }\n",
       "\n",
       "    .dataframe tbody tr th {\n",
       "        vertical-align: top;\n",
       "    }\n",
       "\n",
       "    .dataframe thead th {\n",
       "        text-align: right;\n",
       "    }\n",
       "</style>\n",
       "<table border=\"1\" class=\"dataframe\">\n",
       "  <thead>\n",
       "    <tr style=\"text-align: right;\">\n",
       "      <th></th>\n",
       "      <th>text</th>\n",
       "      <th>category</th>\n",
       "    </tr>\n",
       "  </thead>\n",
       "  <tbody>\n",
       "    <tr>\n",
       "      <th>0</th>\n",
       "      <td>Watching Schrödinger's Cat Die University of C...</td>\n",
       "      <td>SCIENCE</td>\n",
       "    </tr>\n",
       "    <tr>\n",
       "      <th>1</th>\n",
       "      <td>WATCH: Freaky Vortex Opens Up In Flooded Lake</td>\n",
       "      <td>SCIENCE</td>\n",
       "    </tr>\n",
       "    <tr>\n",
       "      <th>2</th>\n",
       "      <td>Entrepreneurs Today Don't Need a Big Budget to...</td>\n",
       "      <td>BUSINESS</td>\n",
       "    </tr>\n",
       "    <tr>\n",
       "      <th>3</th>\n",
       "      <td>These Roads Could Recharge Your Electric Car A...</td>\n",
       "      <td>BUSINESS</td>\n",
       "    </tr>\n",
       "    <tr>\n",
       "      <th>4</th>\n",
       "      <td>Civilian 'Guard' Fires Gun While 'Protecting' ...</td>\n",
       "      <td>CRIME</td>\n",
       "    </tr>\n",
       "  </tbody>\n",
       "</table>\n",
       "</div>"
      ],
      "text/plain": [
       "                                                text  category\n",
       "0  Watching Schrödinger's Cat Die University of C...   SCIENCE\n",
       "1     WATCH: Freaky Vortex Opens Up In Flooded Lake    SCIENCE\n",
       "2  Entrepreneurs Today Don't Need a Big Budget to...  BUSINESS\n",
       "3  These Roads Could Recharge Your Electric Car A...  BUSINESS\n",
       "4  Civilian 'Guard' Fires Gun While 'Protecting' ...     CRIME"
      ]
     },
     "execution_count": 3,
     "metadata": {},
     "output_type": "execute_result"
    }
   ],
   "source": [
    "#create daraframe\n",
    "\n",
    "df = pd.read_json(\"news_dataset.json\")\n",
    "df.head()"
   ]
  },
  {
   "cell_type": "markdown",
   "id": "983d30da-70b5-4f22-a6f3-e058894e7261",
   "metadata": {},
   "source": [
    "# Checking Info & basics"
   ]
  },
  {
   "cell_type": "code",
   "execution_count": 4,
   "id": "3c8dc3a9-f1b9-4439-be27-0ad97f794609",
   "metadata": {},
   "outputs": [
    {
     "data": {
      "text/plain": [
       "(12695, 2)"
      ]
     },
     "execution_count": 4,
     "metadata": {},
     "output_type": "execute_result"
    }
   ],
   "source": [
    "df.shape"
   ]
  },
  {
   "cell_type": "code",
   "execution_count": 5,
   "id": "0ca1ec2e-c0d5-4822-8c23-16b6d0d5385f",
   "metadata": {},
   "outputs": [
    {
     "data": {
      "text/plain": [
       "text        0\n",
       "category    0\n",
       "dtype: int64"
      ]
     },
     "execution_count": 5,
     "metadata": {},
     "output_type": "execute_result"
    }
   ],
   "source": [
    "df.isnull().sum()"
   ]
  },
  {
   "cell_type": "code",
   "execution_count": 6,
   "id": "672aeb72-f65e-4a55-bcf7-5c450c32f378",
   "metadata": {},
   "outputs": [
    {
     "data": {
      "text/plain": [
       "category\n",
       "BUSINESS    4254\n",
       "SPORTS      4167\n",
       "CRIME       2893\n",
       "SCIENCE     1381\n",
       "Name: count, dtype: int64"
      ]
     },
     "execution_count": 6,
     "metadata": {},
     "output_type": "execute_result"
    }
   ],
   "source": [
    "#checking is data is balanced\n",
    "\n",
    "value_counts =  pd.Series(df.category.value_counts())\n",
    "value_counts"
   ]
  },
  {
   "cell_type": "markdown",
   "id": "bdb9f3ec-3c9d-4fb8-8aa6-e2fbf022b1da",
   "metadata": {},
   "source": [
    "As per the required problem statment, we don't want \"SCIENCE' Target, hence drop those rows"
   ]
  },
  {
   "cell_type": "code",
   "execution_count": 7,
   "id": "a56b3cb6-c3bf-4f23-82ea-7c072574dee6",
   "metadata": {},
   "outputs": [],
   "source": [
    "df = df.drop(index=df[df.category==\"SCIENCE\"].index)"
   ]
  },
  {
   "cell_type": "code",
   "execution_count": 8,
   "id": "23971ce6-eb16-45e1-8802-2c89f200dfb2",
   "metadata": {},
   "outputs": [
    {
     "data": {
      "text/plain": [
       "(11314, 2)"
      ]
     },
     "execution_count": 8,
     "metadata": {},
     "output_type": "execute_result"
    }
   ],
   "source": [
    "df.shape"
   ]
  },
  {
   "cell_type": "code",
   "execution_count": 9,
   "id": "10b30781-bef4-4988-b840-e2c7fc08f5fb",
   "metadata": {},
   "outputs": [
    {
     "data": {
      "text/plain": [
       "category\n",
       "BUSINESS    4254\n",
       "SPORTS      4167\n",
       "CRIME       2893\n",
       "Name: count, dtype: int64"
      ]
     },
     "execution_count": 9,
     "metadata": {},
     "output_type": "execute_result"
    }
   ],
   "source": [
    "value_counts =  pd.Series(df.category.value_counts())\n",
    "value_counts"
   ]
  },
  {
   "cell_type": "code",
   "execution_count": 10,
   "id": "e33d086e-3015-4dba-a376-92c9d7660551",
   "metadata": {},
   "outputs": [
    {
     "name": "stdout",
     "output_type": "stream",
     "text": [
      "Category: BUSINESS  |  4254  |  Percentage 37.60 %\n",
      "Category: SPORTS  |  4167  |  Percentage 36.83 %\n",
      "Category: CRIME  |  2893  |  Percentage 25.57 %\n"
     ]
    }
   ],
   "source": [
    "for category, count in value_counts.items():\n",
    "    print(\"Category:\", category ,\" | \", count,\" | \", \"Percentage\", \"{:.2f}\".format(count/df.shape[0]*100),\"%\")"
   ]
  },
  {
   "cell_type": "code",
   "execution_count": 11,
   "id": "3320da29-aff4-4810-8da2-d7c4da245317",
   "metadata": {},
   "outputs": [
    {
     "data": {
      "image/png": "[encoded data removed]",
      "text/plain": [
       "<Figure size 640x480 with 1 Axes>"
      ]
     },
     "metadata": {},
     "output_type": "display_data"
    }
   ],
   "source": [
    "#map\n",
    "\n",
    "value_counts.plot(kind=\"bar\",  fontsize = 10.00)\n",
    "plt.xlabel(\"Label\", fontsize=10)\n",
    "plt.ylabel(\"Value Counts\", fontsize=10)\n",
    "plt.title(\"Values Counts in each Label\", fontsize=20 )\n",
    "plt.show()"
   ]
  },
  {
   "cell_type": "markdown",
   "id": "05c0f1c9-0d50-4df9-8fa1-f278f0278227",
   "metadata": {},
   "source": [
    "* Compared to `BUSINESS` and `SPORTS`, `CRIME` having less data, here our target varibles is imblanced\n",
    "* Hence , we need to make it balanced,  there are so many techniques to make it balance.\n",
    "* Here, we are going to use oversampling technique `SMOTE (Synthetic Minority Over-sampling Technique)`."
   ]
  },
  {
   "cell_type": "markdown",
   "id": "98b93ff3-8d19-4147-8f90-de39aaff13fa",
   "metadata": {},
   "source": [
    "# Label Target Variable"
   ]
  },
  {
   "cell_type": "code",
   "execution_count": 12,
   "id": "adb7af05-9fed-42c3-afff-9f8f2c6fd878",
   "metadata": {},
   "outputs": [
    {
     "data": {
      "text/html": [
       "<div>\n",
       "<style scoped>\n",
       "    .dataframe tbody tr th:only-of-type {\n",
       "        vertical-align: middle;\n",
       "    }\n",
       "\n",
       "    .dataframe tbody tr th {\n",
       "        vertical-align: top;\n",
       "    }\n",
       "\n",
       "    .dataframe thead th {\n",
       "        text-align: right;\n",
       "    }\n",
       "</style>\n",
       "<table border=\"1\" class=\"dataframe\">\n",
       "  <thead>\n",
       "    <tr style=\"text-align: right;\">\n",
       "      <th></th>\n",
       "      <th>text</th>\n",
       "      <th>category</th>\n",
       "    </tr>\n",
       "  </thead>\n",
       "  <tbody>\n",
       "    <tr>\n",
       "      <th>2</th>\n",
       "      <td>Entrepreneurs Today Don't Need a Big Budget to...</td>\n",
       "      <td>0</td>\n",
       "    </tr>\n",
       "    <tr>\n",
       "      <th>3</th>\n",
       "      <td>These Roads Could Recharge Your Electric Car A...</td>\n",
       "      <td>0</td>\n",
       "    </tr>\n",
       "    <tr>\n",
       "      <th>4</th>\n",
       "      <td>Civilian 'Guard' Fires Gun While 'Protecting' ...</td>\n",
       "      <td>2</td>\n",
       "    </tr>\n",
       "    <tr>\n",
       "      <th>5</th>\n",
       "      <td>Trump Pays Penalty For Ethically Questionable ...</td>\n",
       "      <td>0</td>\n",
       "    </tr>\n",
       "    <tr>\n",
       "      <th>6</th>\n",
       "      <td>LIVE: Argentina vs. Iran</td>\n",
       "      <td>1</td>\n",
       "    </tr>\n",
       "  </tbody>\n",
       "</table>\n",
       "</div>"
      ],
      "text/plain": [
       "                                                text  category\n",
       "2  Entrepreneurs Today Don't Need a Big Budget to...         0\n",
       "3  These Roads Could Recharge Your Electric Car A...         0\n",
       "4  Civilian 'Guard' Fires Gun While 'Protecting' ...         2\n",
       "5  Trump Pays Penalty For Ethically Questionable ...         0\n",
       "6                          LIVE: Argentina vs. Iran          1"
      ]
     },
     "execution_count": 12,
     "metadata": {},
     "output_type": "execute_result"
    }
   ],
   "source": [
    "df[\"category\"] = df.category.map({\"BUSINESS\":0, \"SPORTS\":1, \"CRIME\":2})\n",
    "df.head()"
   ]
  },
  {
   "cell_type": "markdown",
   "id": "df5209ef-4751-47c7-af71-18ea805b934d",
   "metadata": {},
   "source": [
    "# Data is Imbalanced, when we need to appy SMOTE???!!!\n",
    "\n",
    "The decision of whether to apply SMOTE before or after preprocessing the text data can depend on the specific characteristics of your dataset and the preprocessing steps you plan to perform.\n",
    "\n",
    "**Apply SMOTE after preprocess:**\n",
    "\n",
    "* If doing preprocessing techniques like removing stop words, stemming/lemmatization and vectorization (eg. TF-IDF, CountVectorizer).\n",
    "* Applying SMOTE after preprocessing ensures that the synthetic samples generated by SMOTE are consistent with the processed text data. This can help in creating more meaningful synthetic samples that are closer to the original samples in the feature space.\n",
    "*  Additionally, applying SMOTE after preprocessing allows you to avoid generating synthetic samples based on noisy or irrelevant text data (e.g., stop words, punctuation) that might be removed during preprocessing.\n",
    "\n",
    "**Apply SMOTE before preprocessing:**\n",
    "\n",
    "* If preprocessing steps do not significantly alter the structure of the text data (e.g., lowercasing, basic cleaning), you might choose to apply SMOTE before preprocessing.\n",
    "* This approach could potentially reduce the computational cost of preprocessing by balancing the dataset before performing expensive text processing operations.\n",
    "\n",
    "\n",
    "\n",
    "`From above points, here we are considering to apply SMOTE after the preprocessing of text data.`"
   ]
  },
  {
   "cell_type": "markdown",
   "id": "40bfb9e9-312c-4b37-83b8-a732b557b87c",
   "metadata": {},
   "source": [
    "# Pre- Processing TEXT Data\n",
    "\n",
    "* Removing the stop words\n",
    "* Convert to base form  using lemmatization"
   ]
  },
  {
   "cell_type": "code",
   "execution_count": 13,
   "id": "eede1f67-44d5-4e6a-89b6-fe851671aa3d",
   "metadata": {},
   "outputs": [],
   "source": [
    "def preprocess(text):\n",
    "    doc = nlp(text)\n",
    "    filtered_tokens = []\n",
    "    for token in doc:\n",
    "        if token.is_stop or token.is_punct:\n",
    "            continue\n",
    "        filtered_tokens.append(token.lemma_)\n",
    "    return ' '.join(filtered_tokens)"
   ]
  },
  {
   "cell_type": "code",
   "execution_count": 14,
   "id": "ab7505eb-7feb-4366-82fc-fa0b53719680",
   "metadata": {},
   "outputs": [
    {
     "data": {
      "text/html": [
       "<div>\n",
       "<style scoped>\n",
       "    .dataframe tbody tr th:only-of-type {\n",
       "        vertical-align: middle;\n",
       "    }\n",
       "\n",
       "    .dataframe tbody tr th {\n",
       "        vertical-align: top;\n",
       "    }\n",
       "\n",
       "    .dataframe thead th {\n",
       "        text-align: right;\n",
       "    }\n",
       "</style>\n",
       "<table border=\"1\" class=\"dataframe\">\n",
       "  <thead>\n",
       "    <tr style=\"text-align: right;\">\n",
       "      <th></th>\n",
       "      <th>text</th>\n",
       "      <th>category</th>\n",
       "      <th>preprocessed_text</th>\n",
       "    </tr>\n",
       "  </thead>\n",
       "  <tbody>\n",
       "    <tr>\n",
       "      <th>2</th>\n",
       "      <td>Entrepreneurs Today Don't Need a Big Budget to...</td>\n",
       "      <td>0</td>\n",
       "      <td>entrepreneur today need Big Budget start year ...</td>\n",
       "    </tr>\n",
       "    <tr>\n",
       "      <th>3</th>\n",
       "      <td>These Roads Could Recharge Your Electric Car A...</td>\n",
       "      <td>0</td>\n",
       "      <td>road recharge Electric Car drive high tech hig...</td>\n",
       "    </tr>\n",
       "    <tr>\n",
       "      <th>4</th>\n",
       "      <td>Civilian 'Guard' Fires Gun While 'Protecting' ...</td>\n",
       "      <td>2</td>\n",
       "      <td>civilian Guard Fires Gun protect Recruiting Ce...</td>\n",
       "    </tr>\n",
       "    <tr>\n",
       "      <th>5</th>\n",
       "      <td>Trump Pays Penalty For Ethically Questionable ...</td>\n",
       "      <td>0</td>\n",
       "      <td>Trump Pays Penalty ethically questionable poli...</td>\n",
       "    </tr>\n",
       "    <tr>\n",
       "      <th>6</th>\n",
       "      <td>LIVE: Argentina vs. Iran</td>\n",
       "      <td>1</td>\n",
       "      <td>live Argentina vs. Iran</td>\n",
       "    </tr>\n",
       "  </tbody>\n",
       "</table>\n",
       "</div>"
      ],
      "text/plain": [
       "                                                text  category  \\\n",
       "2  Entrepreneurs Today Don't Need a Big Budget to...         0   \n",
       "3  These Roads Could Recharge Your Electric Car A...         0   \n",
       "4  Civilian 'Guard' Fires Gun While 'Protecting' ...         2   \n",
       "5  Trump Pays Penalty For Ethically Questionable ...         0   \n",
       "6                          LIVE: Argentina vs. Iran          1   \n",
       "\n",
       "                                   preprocessed_text  \n",
       "2  entrepreneur today need Big Budget start year ...  \n",
       "3  road recharge Electric Car drive high tech hig...  \n",
       "4  civilian Guard Fires Gun protect Recruiting Ce...  \n",
       "5  Trump Pays Penalty ethically questionable poli...  \n",
       "6                            live Argentina vs. Iran  "
      ]
     },
     "execution_count": 14,
     "metadata": {},
     "output_type": "execute_result"
    }
   ],
   "source": [
    "#create preprocessed_text\n",
    "\n",
    "df[\"preprocessed_text\"] = df.text.apply(preprocess)\n",
    "\n",
    "df.head()"
   ]
  },
  {
   "cell_type": "code",
   "execution_count": 15,
   "id": "b9b397d3-1460-4e11-bfad-62cbafa1ee73",
   "metadata": {},
   "outputs": [
    {
     "data": {
      "text/html": [
       "<div>\n",
       "<style scoped>\n",
       "    .dataframe tbody tr th:only-of-type {\n",
       "        vertical-align: middle;\n",
       "    }\n",
       "\n",
       "    .dataframe tbody tr th {\n",
       "        vertical-align: top;\n",
       "    }\n",
       "\n",
       "    .dataframe thead th {\n",
       "        text-align: right;\n",
       "    }\n",
       "</style>\n",
       "<table border=\"1\" class=\"dataframe\">\n",
       "  <thead>\n",
       "    <tr style=\"text-align: right;\">\n",
       "      <th></th>\n",
       "      <th>category</th>\n",
       "      <th>preprocessed_text</th>\n",
       "    </tr>\n",
       "  </thead>\n",
       "  <tbody>\n",
       "    <tr>\n",
       "      <th>2</th>\n",
       "      <td>0</td>\n",
       "      <td>entrepreneur today need Big Budget start year ...</td>\n",
       "    </tr>\n",
       "    <tr>\n",
       "      <th>3</th>\n",
       "      <td>0</td>\n",
       "      <td>road recharge Electric Car drive high tech hig...</td>\n",
       "    </tr>\n",
       "    <tr>\n",
       "      <th>4</th>\n",
       "      <td>2</td>\n",
       "      <td>civilian Guard Fires Gun protect Recruiting Ce...</td>\n",
       "    </tr>\n",
       "    <tr>\n",
       "      <th>5</th>\n",
       "      <td>0</td>\n",
       "      <td>Trump Pays Penalty ethically questionable poli...</td>\n",
       "    </tr>\n",
       "    <tr>\n",
       "      <th>6</th>\n",
       "      <td>1</td>\n",
       "      <td>live Argentina vs. Iran</td>\n",
       "    </tr>\n",
       "    <tr>\n",
       "      <th>...</th>\n",
       "      <td>...</td>\n",
       "      <td>...</td>\n",
       "    </tr>\n",
       "    <tr>\n",
       "      <th>12688</th>\n",
       "      <td>0</td>\n",
       "      <td>Basic Premise Social Integration Easy advisors...</td>\n",
       "    </tr>\n",
       "    <tr>\n",
       "      <th>12689</th>\n",
       "      <td>2</td>\n",
       "      <td>5 year Old Girl abandon NYC Bus Terminal Mothe...</td>\n",
       "    </tr>\n",
       "    <tr>\n",
       "      <th>12690</th>\n",
       "      <td>1</td>\n",
       "      <td>coach shake Hands imaginary Players oppose Tea...</td>\n",
       "    </tr>\n",
       "    <tr>\n",
       "      <th>12693</th>\n",
       "      <td>1</td>\n",
       "      <td>Richard Sherman want talk Police shooting Game...</td>\n",
       "    </tr>\n",
       "    <tr>\n",
       "      <th>12694</th>\n",
       "      <td>0</td>\n",
       "      <td>customer ignore email communicate customer inu...</td>\n",
       "    </tr>\n",
       "  </tbody>\n",
       "</table>\n",
       "<p>11314 rows × 2 columns</p>\n",
       "</div>"
      ],
      "text/plain": [
       "       category                                  preprocessed_text\n",
       "2             0  entrepreneur today need Big Budget start year ...\n",
       "3             0  road recharge Electric Car drive high tech hig...\n",
       "4             2  civilian Guard Fires Gun protect Recruiting Ce...\n",
       "5             0  Trump Pays Penalty ethically questionable poli...\n",
       "6             1                            live Argentina vs. Iran\n",
       "...         ...                                                ...\n",
       "12688         0  Basic Premise Social Integration Easy advisors...\n",
       "12689         2  5 year Old Girl abandon NYC Bus Terminal Mothe...\n",
       "12690         1  coach shake Hands imaginary Players oppose Tea...\n",
       "12693         1  Richard Sherman want talk Police shooting Game...\n",
       "12694         0  customer ignore email communicate customer inu...\n",
       "\n",
       "[11314 rows x 2 columns]"
      ]
     },
     "execution_count": 15,
     "metadata": {},
     "output_type": "execute_result"
    }
   ],
   "source": [
    "df = df.drop(columns=[\"text\"])\n",
    "df"
   ]
  },
  {
   "cell_type": "markdown",
   "id": "80754cd7-9e3f-4eb2-aee2-42967c5c1b4e",
   "metadata": {},
   "source": [
    "# Get the spacy embeddings for each preprocessed text"
   ]
  },
  {
   "cell_type": "code",
   "execution_count": 33,
   "id": "4358badd-4ec3-4876-99af-034e23fe97e4",
   "metadata": {},
   "outputs": [],
   "source": [
    "df[\"vector\"] = df.preprocessed_text.apply(lambda x: nlp(x).vector)"
   ]
  },
  {
   "cell_type": "code",
   "execution_count": 34,
   "id": "ad69b2f3-4f9c-4ae6-97f3-c71ea75a4894",
   "metadata": {},
   "outputs": [
    {
     "data": {
      "text/html": [
       "<div>\n",
       "<style scoped>\n",
       "    .dataframe tbody tr th:only-of-type {\n",
       "        vertical-align: middle;\n",
       "    }\n",
       "\n",
       "    .dataframe tbody tr th {\n",
       "        vertical-align: top;\n",
       "    }\n",
       "\n",
       "    .dataframe thead th {\n",
       "        text-align: right;\n",
       "    }\n",
       "</style>\n",
       "<table border=\"1\" class=\"dataframe\">\n",
       "  <thead>\n",
       "    <tr style=\"text-align: right;\">\n",
       "      <th></th>\n",
       "      <th>category</th>\n",
       "      <th>preprocessed_text</th>\n",
       "      <th>vector</th>\n",
       "    </tr>\n",
       "  </thead>\n",
       "  <tbody>\n",
       "    <tr>\n",
       "      <th>2</th>\n",
       "      <td>0</td>\n",
       "      <td>entrepreneur today need Big Budget start year ...</td>\n",
       "      <td>[0.088981755, 0.5882564, -1.2281352, -0.320762...</td>\n",
       "    </tr>\n",
       "    <tr>\n",
       "      <th>3</th>\n",
       "      <td>0</td>\n",
       "      <td>road recharge Electric Car drive high tech hig...</td>\n",
       "      <td>[-1.0280653, 4.349204, -1.06896, -1.045683, 1....</td>\n",
       "    </tr>\n",
       "    <tr>\n",
       "      <th>4</th>\n",
       "      <td>2</td>\n",
       "      <td>civilian Guard Fires Gun protect Recruiting Ce...</td>\n",
       "      <td>[-1.4220493, 0.9367255, -1.8070079, 3.1870718,...</td>\n",
       "    </tr>\n",
       "    <tr>\n",
       "      <th>5</th>\n",
       "      <td>0</td>\n",
       "      <td>Trump Pays Penalty ethically questionable poli...</td>\n",
       "      <td>[-0.81497276, 0.061516695, -2.0144162, 2.39536...</td>\n",
       "    </tr>\n",
       "    <tr>\n",
       "      <th>6</th>\n",
       "      <td>1</td>\n",
       "      <td>live Argentina vs. Iran</td>\n",
       "      <td>[-0.87503004, 1.0373, -2.0184674, 3.4055748, 3...</td>\n",
       "    </tr>\n",
       "  </tbody>\n",
       "</table>\n",
       "</div>"
      ],
      "text/plain": [
       "   category                                  preprocessed_text  \\\n",
       "2         0  entrepreneur today need Big Budget start year ...   \n",
       "3         0  road recharge Electric Car drive high tech hig...   \n",
       "4         2  civilian Guard Fires Gun protect Recruiting Ce...   \n",
       "5         0  Trump Pays Penalty ethically questionable poli...   \n",
       "6         1                            live Argentina vs. Iran   \n",
       "\n",
       "                                              vector  \n",
       "2  [0.088981755, 0.5882564, -1.2281352, -0.320762...  \n",
       "3  [-1.0280653, 4.349204, -1.06896, -1.045683, 1....  \n",
       "4  [-1.4220493, 0.9367255, -1.8070079, 3.1870718,...  \n",
       "5  [-0.81497276, 0.061516695, -2.0144162, 2.39536...  \n",
       "6  [-0.87503004, 1.0373, -2.0184674, 3.4055748, 3...  "
      ]
     },
     "execution_count": 34,
     "metadata": {},
     "output_type": "execute_result"
    }
   ],
   "source": [
    "df.head()"
   ]
  },
  {
   "cell_type": "markdown",
   "id": "4b2a272d-4de2-427f-9890-49739b145a92",
   "metadata": {},
   "source": [
    "# Train Test Split"
   ]
  },
  {
   "cell_type": "markdown",
   "id": "c78ac7ec-5261-4309-a56e-b4fa45d1f451",
   "metadata": {},
   "source": [
    "To avoid data leakage & maintain integrity in our evaluation process we are doing train test split first"
   ]
  },
  {
   "cell_type": "code",
   "execution_count": 35,
   "id": "66e0ed8f-5705-47fd-bb58-4317b4d1bd68",
   "metadata": {},
   "outputs": [],
   "source": [
    "x_train, x_test, y_train, y_test = train_test_split(df.vector.values, df.category, random_state=52, test_size=0.2, stratify=df.category)"
   ]
  },
  {
   "cell_type": "code",
   "execution_count": 36,
   "id": "1b4fb80e-8f02-4f33-8dae-f2e639c3e9d2",
   "metadata": {},
   "outputs": [
    {
     "data": {
      "text/plain": [
       "(9051,)"
      ]
     },
     "execution_count": 36,
     "metadata": {},
     "output_type": "execute_result"
    }
   ],
   "source": [
    "x_train.shape"
   ]
  },
  {
   "cell_type": "code",
   "execution_count": 37,
   "id": "075b5f2c-fdf1-4216-a99b-d07a0630aa22",
   "metadata": {},
   "outputs": [
    {
     "data": {
      "text/plain": [
       "(9051,)"
      ]
     },
     "execution_count": 37,
     "metadata": {},
     "output_type": "execute_result"
    }
   ],
   "source": [
    "y_train.shape"
   ]
  },
  {
   "cell_type": "code",
   "execution_count": 38,
   "id": "35cb39c3-4db2-44c6-9ce3-484dea073e7f",
   "metadata": {},
   "outputs": [
    {
     "data": {
      "text/plain": [
       "(2263,)"
      ]
     },
     "execution_count": 38,
     "metadata": {},
     "output_type": "execute_result"
    }
   ],
   "source": [
    "x_test.shape"
   ]
  },
  {
   "cell_type": "code",
   "execution_count": 39,
   "id": "0cf2aca5-6a3f-4b54-be80-6e5974703c0c",
   "metadata": {},
   "outputs": [
    {
     "data": {
      "text/plain": [
       "(2263,)"
      ]
     },
     "execution_count": 39,
     "metadata": {},
     "output_type": "execute_result"
    }
   ],
   "source": [
    "y_test.shape"
   ]
  },
  {
   "cell_type": "code",
   "execution_count": 40,
   "id": "fa7fc2c7-9022-47a0-956d-14146977d122",
   "metadata": {},
   "outputs": [
    {
     "data": {
      "text/plain": [
       "category\n",
       "0    3403\n",
       "1    3334\n",
       "2    2314\n",
       "Name: count, dtype: int64"
      ]
     },
     "execution_count": 40,
     "metadata": {},
     "output_type": "execute_result"
    }
   ],
   "source": [
    "y_train.value_counts()"
   ]
  },
  {
   "cell_type": "code",
   "execution_count": 41,
   "id": "fa45f0c8-1b0f-4cb5-858a-e6be6c8876fb",
   "metadata": {},
   "outputs": [
    {
     "data": {
      "text/plain": [
       "category\n",
       "0    851\n",
       "1    833\n",
       "2    579\n",
       "Name: count, dtype: int64"
      ]
     },
     "execution_count": 41,
     "metadata": {},
     "output_type": "execute_result"
    }
   ],
   "source": [
    "y_test.value_counts()"
   ]
  },
  {
   "cell_type": "code",
   "execution_count": 47,
   "id": "0d0fd781-9d43-47bd-a609-c7f2a94fadd9",
   "metadata": {},
   "outputs": [
    {
     "data": {
      "text/plain": [
       "array([array([-5.58773756e-01, -6.33907557e-01,  6.53664991e-02, -1.81815028e-01,\n",
       "               1.36143625e+00,  7.04450309e-02,  1.56875253e+00,  2.00585008e+00,\n",
       "              -1.03698874e+00, -3.34957123e-01,  1.86109746e+00,  1.11142635e+00,\n",
       "              -7.07257509e-01, -1.19236791e+00,  1.09577131e+00, -4.15208757e-01,\n",
       "               5.76087415e-01, -2.73553759e-01, -1.02887630e+00,  1.02406836e+00,\n",
       "               1.98023841e-02, -2.28228241e-01, -1.04858112e+00, -3.19525898e-02,\n",
       "               4.96987402e-02, -1.31990111e+00, -6.20797515e-01,  1.50711238e-01,\n",
       "               7.86236286e-01,  1.49360609e+00,  4.34370071e-01,  9.66227472e-01,\n",
       "               1.20395374e+00,  1.05816901e+00, -2.15381885e+00, -9.47781205e-01,\n",
       "               1.44888729e-01,  6.48363769e-01,  5.68598747e-01,  1.21690118e+00,\n",
       "              -9.98331785e-01, -7.72443771e-01, -3.91902626e-01, -6.35349989e-01,\n",
       "              -1.31917667e+00, -1.61308736e-01,  1.22308671e+00, -1.17020881e+00,\n",
       "              -3.20508778e-01,  1.65788984e+00, -6.87321246e-01, -3.73157531e-01,\n",
       "               9.38400030e-02, -1.23051643e+00, -1.25807631e+00, -1.10818994e+00,\n",
       "              -1.62978768e-01, -2.79871255e-01,  1.32928371e+00,  1.03077126e+00,\n",
       "              -9.74276960e-02, -8.48699868e-01, -6.90197468e-01, -8.49610031e-01,\n",
       "               7.87384987e-01,  4.82863098e-01, -6.37254894e-01, -1.71314633e+00,\n",
       "               1.15349507e+00,  9.50010300e-01,  7.04752505e-01, -1.56571239e-01,\n",
       "              -1.72002888e+00, -1.88251257e-01, -3.74046266e-01,  4.31456119e-01,\n",
       "              -8.63409996e-01,  1.86867619e+00, -8.87539983e-01, -5.77536076e-02,\n",
       "              -1.87798631e+00, -4.14311230e-01, -1.87043995e-01,  6.90420449e-01,\n",
       "               5.55831254e-01,  3.45075011e-01, -1.21306372e+00, -9.78957534e-01,\n",
       "               2.43210614e-01, -3.52823734e-01,  4.08177465e-01,  3.86677504e-01,\n",
       "               1.10623252e+00, -2.03163481e+00,  8.78509432e-02, -2.47003898e-01,\n",
       "               2.00857148e-01,  7.87103653e-01,  7.23045051e-01,  5.86100876e-01,\n",
       "               1.07520843e+00,  1.80306244e+00,  1.41910219e+00,  2.53431010e+00,\n",
       "              -1.42934000e+00,  1.97064996e+00,  7.51124978e-01, -3.33693385e-01,\n",
       "              -1.03644443e+00, -1.86207998e+00, -3.60285968e-01, -5.65643787e-01,\n",
       "              -5.53171754e-01,  1.70896262e-01,  3.24337482e-01,  3.47247541e-01,\n",
       "              -2.30752254e+00,  1.15918763e-01, -2.84620285e-01,  6.11126184e-01,\n",
       "              -6.27023757e-01, -2.97248626e+00,  2.43663773e-01, -3.21550459e-01,\n",
       "              -5.80801249e-01, -1.28073633e+00,  9.28375006e-01, -4.23072517e-01,\n",
       "               2.43264985e+00, -1.55700922e+00, -1.88955545e+00,  1.00776625e+00,\n",
       "              -1.07849836e-02,  4.27865475e-01, -5.16978741e-01,  9.24959958e-01,\n",
       "              -8.74148726e-01,  4.08298820e-02,  2.69421887e+00, -1.19103503e+00,\n",
       "              -5.13739944e-01, -8.32568765e-01,  9.29903448e-01,  9.14454877e-01,\n",
       "              -4.86344993e-01,  5.28470993e-01, -3.79778767e+00,  8.50324869e-01,\n",
       "               1.00536442e+00,  8.47983718e-01,  9.59446251e-01,  1.04170370e+00,\n",
       "              -2.45896250e-01,  1.16981757e+00, -3.33462209e-01,  2.17682004e-01,\n",
       "               1.10811257e+00, -7.39751220e-01, -1.07419121e+00, -1.09245837e+00,\n",
       "               2.19776258e-01, -2.34033155e+00, -3.97927523e-01,  1.31872988e+00,\n",
       "              -1.35171735e+00, -7.19796479e-01, -3.16778779e-01,  1.23466372e+00,\n",
       "              -4.08198774e-01,  1.13085127e+00,  5.28710008e-01,  1.14448500e+00,\n",
       "               8.88771236e-01, -6.93137527e-01,  1.86382258e+00,  1.22338271e+00,\n",
       "              -9.07202899e-01,  1.54290748e+00, -6.81312382e-02, -8.95637512e-01,\n",
       "               7.60849953e-01, -5.15241265e-01,  1.41022205e+00,  1.11847746e+00,\n",
       "              -4.44652259e-01,  4.35651273e-01, -1.70246506e+00,  5.90192497e-01,\n",
       "               7.89011955e-01,  1.01580751e+00, -1.72006249e-01, -4.86156344e-01,\n",
       "              -5.31230032e-01, -1.30078748e-01, -9.26439881e-01,  7.75737688e-02,\n",
       "              -2.54783750e+00, -4.70108807e-01,  1.46546751e-01, -1.02498755e-01,\n",
       "              -9.78068709e-01, -1.60933733e-01, -1.14192128e-01, -2.21370888e+00,\n",
       "               3.85084927e-01,  4.37531233e-01, -5.23703814e-01,  4.52459842e-01,\n",
       "              -1.15618742e+00, -4.65887561e-02, -1.17550874e+00, -6.62706345e-02,\n",
       "              -6.46228731e-01,  3.82755011e-01,  1.91882148e-01,  1.94726002e+00,\n",
       "              -4.36738759e-01, -3.18081290e-01, -4.80031163e-01,  5.00672758e-01,\n",
       "              -7.62120008e-01,  1.62152529e+00, -4.38303798e-01,  1.00680256e+00,\n",
       "              -1.86290383e+00,  4.90099072e-01, -1.67677507e-01,  1.15688503e+00,\n",
       "               5.91621280e-01,  3.93867493e-01,  1.16005492e+00, -1.24315369e+00,\n",
       "              -6.80311739e-01,  6.43648744e-01,  1.81169248e+00,  8.84383857e-01,\n",
       "              -5.67865014e-01,  9.05553639e-01,  7.57274777e-02,  2.15813741e-01,\n",
       "              -4.62311745e-01,  1.77508697e-01,  1.71723759e+00,  7.87124485e-02,\n",
       "              -5.18387496e-01,  6.21131241e-01,  7.53287375e-02, -1.48317397e+00,\n",
       "              -8.74910057e-01,  1.52647245e+00, -9.47037265e-02, -5.64848900e-01,\n",
       "              -3.41594505e+00, -4.54092503e-01,  7.48510003e-01, -1.98915005e+00,\n",
       "               3.03892851e-01, -6.20301247e-01,  8.30256147e-04,  5.48248708e-01,\n",
       "              -6.67729735e-01,  1.13660884e+00,  1.88095498e+00,  1.01470625e+00,\n",
       "               2.20806241e-01, -2.03867525e-01, -1.40349194e-01,  1.19730616e+00,\n",
       "              -3.06609011e+00, -1.28008515e-01, -4.05208737e-01, -6.14391267e-01,\n",
       "               1.88620195e-01, -8.50839689e-02,  1.08920884e+00,  5.40327013e-01,\n",
       "               9.26339984e-01, -3.12192470e-01, -6.97883725e-01,  1.10279250e+00,\n",
       "              -5.51482499e-01,  1.13672510e-01,  8.62553716e-02,  4.60718006e-01,\n",
       "               5.59058785e-01,  3.98268700e-01,  9.77409959e-01,  3.84952545e-01,\n",
       "              -4.15762514e-01, -7.81558752e-01,  8.25072408e-01, -5.25533557e-01,\n",
       "               2.96210021e-01, -3.76896262e-01, -1.00303757e+00, -6.76420033e-01,\n",
       "               1.25442994e+00, -4.78898734e-01, -5.44212461e-01,  9.06424999e-01],\n",
       "             dtype=float32)                                                       ,\n",
       "       array([-6.62123859e-01,  1.62985742e+00, -1.87822068e+00, -1.23103291e-01,\n",
       "               2.15805459e+00,  1.54339671e+00,  7.14899898e-01,  2.76968670e+00,\n",
       "               2.71546692e-01, -5.52370012e-01,  7.62870669e-01,  7.19367638e-02,\n",
       "              -1.87106526e+00,  6.29976034e-01, -3.64748031e-01, -1.11218262e+00,\n",
       "               8.59395444e-01, -6.60455346e-01,  6.12478971e-01,  1.46330523e+00,\n",
       "               7.18051255e-01,  1.75882089e+00,  1.62811422e+00, -2.27521920e+00,\n",
       "              -3.47189844e-01, -1.50594532e+00, -1.34313858e+00, -7.44793952e-01,\n",
       "               1.72001219e+00,  9.12990630e-01,  8.90747309e-01,  6.73994601e-01,\n",
       "               3.69330674e-01, -4.80252475e-01, -9.02724028e-01, -6.86642110e-01,\n",
       "               1.00064683e+00,  1.56217003e+00, -1.13177407e+00, -5.43599367e-01,\n",
       "              -9.53683734e-01, -1.12757909e+00,  5.36338568e-01,  4.60735321e-01,\n",
       "               1.02226853e+00,  1.22621536e+00,  6.56262100e-01, -2.06979319e-01,\n",
       "              -1.17914462e+00,  1.62334776e+00,  1.57547784e+00,  6.65059924e-01,\n",
       "               1.30975688e+00, -7.84428000e-01, -3.03470492e-01, -5.15720844e-01,\n",
       "               4.74298686e-01, -8.10127318e-01,  8.06158721e-01,  3.34420621e-01,\n",
       "              -4.66087967e-01, -1.11585885e-01, -3.05542302e+00,  6.72767401e-01,\n",
       "               1.96160614e+00,  6.65444613e-01, -1.73361051e+00, -1.27027869e+00,\n",
       "              -5.38135290e-01,  2.20555592e+00,  1.06998134e+00, -9.03053582e-02,\n",
       "              -9.58093330e-02,  2.32620556e-02, -5.17473221e-02,  2.16212463e+00,\n",
       "              -6.28966689e-01,  3.28660160e-01, -1.29825437e+00, -3.41002047e-01,\n",
       "              -1.64855933e+00, -7.59718120e-01,  1.13212012e-01, -2.73146033e-01,\n",
       "               1.67459056e-01, -9.25439596e-01, -1.73593268e-01, -1.62348258e+00,\n",
       "              -1.40126526e+00, -1.43972009e-01, -3.93603295e-01,  1.32536805e+00,\n",
       "               3.92561316e-01, -2.89062083e-01,  9.37453985e-01,  4.71771896e-01,\n",
       "               3.23769301e-01, -1.48674726e+00,  1.97856641e+00,  1.02807117e+00,\n",
       "               8.65036011e-01,  2.53172487e-01,  1.19397509e+00,  8.22616577e-01,\n",
       "              -6.67891324e-01,  9.96213317e-01, -1.37788749e+00, -1.03842723e+00,\n",
       "               9.03989434e-01, -1.69434845e+00, -3.24263394e-01, -5.62201329e-02,\n",
       "               1.72356039e-01,  3.50703031e-01,  1.33265948e+00,  4.34366688e-02,\n",
       "              -3.37932587e+00, -1.03603327e+00, -5.78900039e-01,  9.11002696e-01,\n",
       "              -1.66402543e+00, -1.36890066e+00,  2.84720033e-01, -8.04679930e-01,\n",
       "              -1.63718796e+00, -7.13889301e-01,  2.55980158e+00,  9.10281301e-01,\n",
       "               1.68100381e+00, -5.24353348e-02, -8.89547408e-01,  4.07313444e-02,\n",
       "               2.77498770e+00, -4.43043292e-01, -4.75591987e-01, -9.70463932e-01,\n",
       "              -1.56713165e-02,  1.07392645e+00,  7.62763262e-01,  2.62369335e-01,\n",
       "              -2.13296533e+00, -4.84934717e-01, -9.03199837e-02,  5.82061172e-01,\n",
       "              -5.92959858e-02,  5.40740609e-01, -2.69914675e+00, -7.15260357e-02,\n",
       "               1.30889976e+00,  1.61165014e-01,  1.19237673e+00, -4.94140685e-01,\n",
       "              -4.26690042e-01,  7.31468022e-01, -4.07768101e-01,  9.98129964e-01,\n",
       "               1.02276862e+00,  4.77427274e-01,  6.77889645e-01, -9.58420336e-01,\n",
       "              -1.44614398e+00, -2.28210378e+00, -1.80290446e-01,  3.63784969e-01,\n",
       "              -1.71573591e+00,  1.34170079e+00, -4.92159307e-01, -3.58000666e-01,\n",
       "              -1.39656210e+00, -2.94403970e-01,  7.67320752e-01,  1.70049679e+00,\n",
       "              -2.42546692e-01,  1.52355582e-01,  1.77979290e+00,  3.11953314e-02,\n",
       "              -1.15885544e+00, -1.52013791e+00,  1.40998080e-01, -6.78370059e-01,\n",
       "              -8.39168012e-01, -9.64708090e-01,  1.17208397e+00,  6.38941944e-01,\n",
       "              -6.60842001e-01,  5.47975957e-01, -7.67270625e-01, -9.81640756e-01,\n",
       "               1.90565491e+00,  5.04167974e-01,  1.25557601e+00,  9.46954012e-01,\n",
       "               2.10417300e-01,  1.78923413e-01,  1.95280045e-01, -1.37757897e+00,\n",
       "              -1.83178931e-01,  1.03503990e+00, -1.31713724e+00, -6.79399967e-02,\n",
       "               4.04639661e-01, -5.17061353e-01, -1.74079514e+00, -1.94953740e+00,\n",
       "               1.42958671e-01, -6.21840619e-02,  1.88745305e-01,  1.67289868e-01,\n",
       "              -1.76134598e+00,  6.08188473e-02,  5.21596014e-01, -1.15141552e-02,\n",
       "               5.57553113e-01,  2.01531959e+00,  8.59537184e-01,  4.77581292e-01,\n",
       "               7.77331293e-01, -4.46803421e-01, -1.52373478e-01,  9.26946819e-01,\n",
       "              -9.86577570e-01, -4.54694182e-01, -1.37431964e-01,  5.60120642e-01,\n",
       "              -3.38484704e-01,  8.76350421e-03,  1.07410684e-01,  1.12227941e+00,\n",
       "               1.30968523e+00, -8.45001459e-01,  6.48119926e-01, -1.27237582e+00,\n",
       "              -1.06220996e+00,  1.16461790e+00, -9.30060074e-02,  3.76437992e-01,\n",
       "              -1.74643314e+00,  1.22533798e+00, -2.67287314e-01, -1.66047251e+00,\n",
       "              -1.44213289e-01, -7.03920007e-01,  1.59622335e+00,  8.40199739e-02,\n",
       "               1.35987723e+00, -4.54044968e-01, -2.34807298e-01,  5.78519940e-01,\n",
       "               2.56949365e-01,  1.58232296e+00,  2.87208200e-01, -2.89437681e-01,\n",
       "              -1.41611719e+00,  3.74281079e-01,  3.39557290e-01, -1.89746648e-01,\n",
       "               5.82622111e-01,  5.57384372e-01,  8.47684443e-01,  9.85606611e-01,\n",
       "              -2.14590654e-01,  6.21588647e-01,  1.11249936e+00, -1.59235969e-01,\n",
       "               3.82070631e-01, -2.58462453e+00, -5.49933352e-02,  1.88280320e+00,\n",
       "              -8.29576075e-01, -4.97341156e-04,  9.23996508e-01,  4.76846576e-01,\n",
       "               2.76516020e-01,  1.94080606e-01, -4.61046100e-01, -1.31053450e-02,\n",
       "              -1.18368471e+00,  4.45751369e-01, -6.60207152e-01,  6.17619865e-02,\n",
       "               2.98459053e-01, -1.81068629e-01,  1.44717252e+00,  4.46928680e-01,\n",
       "               4.38007307e+00,  4.98715371e-01, -1.29187346e+00,  2.01620683e-01,\n",
       "              -2.98149824e+00, -1.13944399e+00,  1.72017729e+00, -8.25412631e-01,\n",
       "               2.68966645e-01,  2.17132702e-01, -1.46276414e+00, -8.62306714e-01,\n",
       "               8.05994868e-01, -4.97993350e-01, -6.64704084e-01,  1.22797608e+00],\n",
       "             dtype=float32)                                                       ,\n",
       "       array([-1.06845   , -4.758225  , -2.0748823 ,  2.6314352 ,  6.4431753 ,\n",
       "              -2.86607   ,  1.287025  ,  1.0582975 , -1.42085   ,  0.37795004,\n",
       "               1.2064675 ,  0.6248475 , -0.666675  , -0.93683493,  1.9711    ,\n",
       "              -2.167975  ,  1.8447    ,  1.9625552 ,  0.6855775 ,  2.43635   ,\n",
       "              -0.61457497,  1.6705775 ,  0.89049757,  2.815995  , -2.5889502 ,\n",
       "               0.7021    , -3.88827   ,  0.08491001, -1.4366775 ,  3.3938549 ,\n",
       "               2.7646365 , -0.01519753, -0.5986812 , -1.0080072 , -1.2655826 ,\n",
       "              -3.8071377 , -0.75465   ,  0.50745   , -0.81746745, -2.5822399 ,\n",
       "               2.2793727 ,  2.77181   , -4.287385  ,  0.83816254,  0.39727485,\n",
       "               0.9604098 ,  0.93905747,  1.8964047 ,  2.9987001 ,  0.69780004,\n",
       "              -0.06265248,  0.39976248, -2.643075  , -0.44849998,  0.028015  ,\n",
       "               2.775535  , -5.3795753 ,  1.851315  , -2.51737   , -0.16494998,\n",
       "              -1.18223   , -1.1537249 ,  0.037055  ,  0.5878024 ,  2.249325  ,\n",
       "              -0.45388752, -0.946525  , -1.38689   , -1.0895674 ,  0.083415  ,\n",
       "               1.77468   ,  0.68332505,  0.5847075 , -0.30005246, -1.3317876 ,\n",
       "               0.9621451 ,  2.3054101 ,  2.42585   ,  0.15639997,  1.1533425 ,\n",
       "              -1.354075  ,  0.30715   , -3.8118248 , -0.08895004,  0.477125  ,\n",
       "              -0.80156827,  0.54502493, -0.02484751, -3.3128    , -0.575     ,\n",
       "              -1.01365   ,  4.151375  , -0.3640751 ,  2.636445  , -2.7993798 ,\n",
       "               2.7591374 , -0.02222496,  1.33494   ,  1.9779999 , -0.27215505,\n",
       "               1.563585  , -0.41136247,  2.8760204 ,  2.666425  , -0.6139    ,\n",
       "               1.9359925 , -1.1456724 , -0.03990008, -0.44437248, -2.6350951 ,\n",
       "               1.036185  , -2.7296524 , -0.05912516, -4.16072   , -2.4382849 ,\n",
       "              -0.75692505, -1.4284075 ,  0.9397175 ,  0.1710251 , -1.2798376 ,\n",
       "              -0.15067074,  0.717005  ,  3.498975  , -3.2405498 , -1.001835  ,\n",
       "              -1.269325  ,  0.82978   , -1.6732199 ,  0.02325249, -0.9804075 ,\n",
       "              -3.179045  ,  0.38184997,  1.772925  ,  2.2433    ,  3.252675  ,\n",
       "               1.4201897 , -1.5046499 ,  1.5177476 , -1.0330099 ,  0.37439   ,\n",
       "               0.5198674 ,  2.7992    , -3.15114   ,  1.55651   ,  1.0429    ,\n",
       "               1.458535  , -1.8127575 , -0.6483049 ,  0.19793995,  2.3141325 ,\n",
       "              -0.03955001,  0.71563494, -1.6069924 , -3.0107448 ,  0.643     ,\n",
       "              -4.0354023 ,  1.3171749 , -0.91882247,  0.32495   , -3.7226026 ,\n",
       "              -0.64462495,  0.42696244,  2.9203374 ,  2.30565   , -0.45100003,\n",
       "              -1.2832276 , -1.0594101 , -4.307775  ,  1.4386168 ,  1.4148426 ,\n",
       "              -3.116725  , -0.34015   , -0.960025  , -2.6047    ,  0.76430005,\n",
       "               3.3194726 , -0.11337501,  0.02055503, -0.69771254, -0.6515876 ,\n",
       "              -0.25509724,  4.5198846 , -5.4109864 , -0.45563748, -0.3540725 ,\n",
       "               2.467475  , -0.7297925 , -0.30939996, -1.0949637 , -0.19200754,\n",
       "              -1.2277099 , -0.88264745,  0.38312   , -3.0896974 ,  1.269775  ,\n",
       "               2.943     , -0.71325004, -1.9649426 ,  1.3994725 , -1.4982849 ,\n",
       "              -0.97400457, -1.4169325 ,  0.91255   , -3.8821576 ,  3.840499  ,\n",
       "              -1.38087   ,  1.3457725 ,  3.8097525 , -0.7403075 ,  0.748935  ,\n",
       "              -1.1947646 ,  3.6280525 , -1.9135101 ,  0.8401824 , -1.1931726 ,\n",
       "               1.2049426 ,  3.722785  , -2.7606425 ,  0.20654997, -3.1658273 ,\n",
       "              -0.2710425 ,  1.8638875 , -1.8544312 , -2.4117498 , -3.4395752 ,\n",
       "               0.8449575 , -0.6507101 ,  1.3959498 , -3.547975  ,  1.3973651 ,\n",
       "               2.1932626 , -1.9163425 , -0.48219994, -0.12396044,  0.40507495,\n",
       "              -0.08290251,  1.428775  , -0.7719    , -1.815875  ,  3.5263975 ,\n",
       "               0.9505026 ,  0.96500254, -0.9614498 ,  0.2143725 ,  1.1087    ,\n",
       "              -0.89182013,  0.30432004,  1.959865  ,  1.2211599 , -0.94077516,\n",
       "               3.0406775 , -1.8766501 , -0.65585   , -0.751775  , -1.7603751 ,\n",
       "              -1.251675  ,  0.39972755, -2.912725  ,  0.7695501 , -1.6597726 ,\n",
       "              -1.240635  ,  1.066     ,  0.9277726 , -0.850725  ,  0.1431615 ,\n",
       "              -0.9797499 ,  1.090295  ,  1.0589174 , -1.6514801 , -1.917285  ,\n",
       "               0.1961    ,  0.11525998, -1.662475  , -0.83456993, -0.69948006,\n",
       "               2.4690552 ,  3.0385773 , -3.3858876 ,  1.7469587 , -1.8535001 ,\n",
       "               2.105525  , -1.672585  ,  1.78715   ,  0.039455  , -1.590355  ,\n",
       "              -3.5795174 ,  2.369275  , -1.0039275 , -0.44361007,  0.399     ,\n",
       "              -1.1201677 ,  1.2473285 ,  0.21006751,  0.7687751 ,  0.64802504,\n",
       "              -2.26895   ,  3.1090624 , -1.404475  ,  0.90263003,  1.542925  ],\n",
       "             dtype=float32)                                                    ,\n",
       "       ...,\n",
       "       array([-5.4899257e-01, -6.5025651e-01, -5.3752527e-02,  3.0787137e-01,\n",
       "               1.6122347e+00,  1.1079868e+00, -5.2986735e-01,  1.1314626e+00,\n",
       "              -1.6700312e+00, -8.2696104e-01,  3.2671254e+00,  8.2693923e-01,\n",
       "              -3.8654871e+00,  1.5799404e+00, -1.9489712e+00,  2.3792911e+00,\n",
       "               1.6996330e+00,  2.1219079e+00,  2.0123223e-02,  1.1510689e+00,\n",
       "               7.9547691e-01, -2.8999862e-01, -1.0613792e+00,  6.5345842e-01,\n",
       "               7.2107297e-01, -1.4563777e+00, -2.9007323e+00,  1.1758476e+00,\n",
       "              -2.2591257e-01, -7.2442420e-02, -3.5343319e-01,  1.6988968e+00,\n",
       "              -2.0906995e-01,  5.1729399e-01, -1.3925108e+00, -1.7368956e+00,\n",
       "              -1.9786591e-03, -9.5174521e-01,  6.5760523e-01,  1.3807515e+00,\n",
       "              -5.9539217e-01, -5.5681318e-01, -7.8514564e-01,  1.7841475e+00,\n",
       "              -1.4054962e+00,  1.5320079e+00,  9.5098650e-01, -3.1409810e+00,\n",
       "              -6.5084940e-01, -1.1554213e+00, -3.3162603e-01,  1.8413488e+00,\n",
       "               1.8605307e-01, -2.5055244e+00,  9.2409089e-02,  2.0334604e-01,\n",
       "              -1.6728549e+00,  1.4141541e+00, -3.6641255e-01,  3.8258529e-01,\n",
       "               1.8550088e+00, -9.0171701e-01, -3.7334267e-02, -1.0530304e-01,\n",
       "               2.3554885e+00,  1.5329565e+00, -2.0243256e+00, -2.4590814e+00,\n",
       "               1.0714171e+00,  3.2642043e+00,  1.4322327e+00,  7.7500790e-01,\n",
       "              -7.8923911e-01,  1.4594784e-01,  5.2193560e-02, -2.7989206e-01,\n",
       "               1.4784262e-01,  2.4787540e+00, -1.6522483e+00, -5.6645268e-01,\n",
       "              -1.5292201e+00,  2.4686179e-01, -3.2706580e-01,  1.4865187e+00,\n",
       "              -5.1608908e-01,  1.0809518e+00, -2.6727340e-01, -2.3456097e+00,\n",
       "               6.2954885e-01, -1.2634759e+00, -2.6200926e-02,  1.1418555e+00,\n",
       "              -5.7287782e-01, -8.2747000e-01,  1.5669374e+00,  8.4578741e-01,\n",
       "              -2.0248632e+00, -2.0801551e+00,  2.1490440e+00,  1.2203106e+00,\n",
       "               2.1654990e+00,  5.4751670e-01,  4.3692088e-01,  2.7510903e+00,\n",
       "              -7.4348998e-01,  2.3873587e+00, -1.1256287e+00, -1.3966941e+00,\n",
       "               8.4539264e-01, -4.0830240e+00,  2.4453194e+00,  4.7392371e-01,\n",
       "              -5.4945779e-01, -8.0980492e-01,  1.1164503e+00,  2.3554413e+00,\n",
       "              -1.7110778e+00, -7.7408433e-01, -1.1476463e+00, -1.5616734e+00,\n",
       "              -4.6052220e-01, -1.9815047e+00,  2.9925163e+00, -7.9481617e-02,\n",
       "              -3.8619563e-01, -2.1960270e+00,  1.5858265e+00, -1.0665931e+00,\n",
       "               4.8838911e+00, -2.6007740e+00, -2.3045766e+00, -1.1963073e+00,\n",
       "               2.6218512e+00,  1.3081018e+00, -1.6592834e+00, -1.8494577e+00,\n",
       "              -1.4697334e-01, -3.5331491e-01,  1.8163391e+00,  1.6882422e+00,\n",
       "              -7.6671493e-01,  7.6103461e-01,  6.4753729e-01,  1.7961867e+00,\n",
       "               7.0876479e-01, -2.8282768e-01, -2.4084444e+00,  1.2346115e+00,\n",
       "              -1.7096914e+00,  1.4999802e+00, -1.0937196e+00,  7.0561945e-01,\n",
       "              -6.2413782e-01,  1.3621601e+00, -1.8094296e+00, -9.2622560e-01,\n",
       "               1.2592351e+00,  8.4043488e-02, -2.1367784e-01, -2.4305260e+00,\n",
       "               9.0376085e-01, -3.1728780e+00, -1.2644898e+00,  1.0121733e-01,\n",
       "              -1.3140520e+00, -1.4528720e+00, -1.4404098e+00,  2.5263053e-01,\n",
       "               2.1751423e-01, -1.1896796e+00,  1.3696826e-01, -1.4555845e+00,\n",
       "               1.1395767e+00, -8.4492785e-01,  6.3645530e-01,  2.9652362e+00,\n",
       "               8.9758760e-01, -9.3191004e-01, -1.6251824e+00, -3.6220062e-01,\n",
       "               4.1389781e-01,  1.6657737e+00,  1.4906806e+00,  6.4480555e-01,\n",
       "               2.5425813e-01,  3.4168327e-01,  4.2299855e-01, -1.1186761e+00,\n",
       "               1.2505774e+00,  2.9512420e+00,  1.0290607e+00, -5.7962167e-01,\n",
       "               8.7314665e-01,  8.1971610e-01,  1.3704373e+00,  1.5908386e+00,\n",
       "              -1.6722580e+00, -1.1001590e+00, -7.1974799e-02,  2.7141783e-01,\n",
       "              -4.3506709e-01,  4.3662602e-01,  1.6003346e-02, -6.6502953e-01,\n",
       "               1.4525646e+00,  5.4528785e-01, -1.6561043e+00,  9.5833224e-01,\n",
       "              -4.1660479e-01,  1.7728479e+00, -1.3997324e+00, -3.1625748e-01,\n",
       "              -1.1932355e+00,  1.4285686e+00, -5.3638256e-01,  1.0287452e+00,\n",
       "               2.1948647e+00, -2.2621958e+00,  2.5936263e+00, -8.1537229e-01,\n",
       "              -6.9021016e-01,  3.1929114e-01, -8.4161037e-01, -9.7431529e-01,\n",
       "              -1.0078791e+00, -1.8039410e+00,  4.5123863e-01,  1.8153230e+00,\n",
       "              -8.7422216e-01, -1.8138352e-01,  2.1168704e+00, -4.1289296e+00,\n",
       "              -2.3311651e+00,  1.0949128e+00,  1.2821957e+00, -6.5513605e-01,\n",
       "              -1.8413182e+00, -9.6745795e-01,  3.6671704e-01, -7.5131625e-01,\n",
       "              -6.4829838e-01, -1.1032929e+00,  8.7797540e-01,  7.4366611e-01,\n",
       "               5.8775312e-01,  2.1813915e+00, -1.4935656e+00, -1.2794600e+00,\n",
       "               2.1773347e-01,  2.4702954e+00, -9.8942274e-01, -3.2585390e+00,\n",
       "              -2.3530254e+00, -2.3144748e+00,  2.1710792e+00, -3.0336564e+00,\n",
       "               3.1939670e-01, -2.2541115e+00,  3.9564693e-01, -3.0747361e-02,\n",
       "              -1.2229058e+00,  9.6607637e-01,  1.8464375e-01,  1.3433356e+00,\n",
       "               2.5103939e+00, -5.7124633e-01,  4.6408668e-02,  2.0796256e+00,\n",
       "              -4.1878480e-01, -1.1549294e+00, -1.7568555e+00,  1.5343078e+00,\n",
       "               7.7626616e-01, -3.0434051e+00,  5.8357811e-01, -1.3482804e+00,\n",
       "               1.1722318e+00, -2.6480958e+00, -2.0662599e+00,  2.1647851e+00,\n",
       "               2.0598571e+00, -2.6889348e-01,  4.2989692e-01, -5.5951178e-01,\n",
       "               3.1206167e+00,  3.8757971e-01,  2.0424523e+00,  1.0322783e+00,\n",
       "              -2.4304872e+00, -1.7125229e+00, -1.2182477e+00,  4.5005956e-01,\n",
       "              -2.0324268e+00, -5.7015932e-01, -1.9663743e+00, -2.0484531e-01,\n",
       "               9.7127579e-02, -1.5209299e+00,  7.2812891e-01,  6.3602358e-01],\n",
       "             dtype=float32)                                                   ,\n",
       "       array([-3.43097186e+00, -2.84886646e+00, -8.33831787e+00,  4.18989992e+00,\n",
       "               3.72963142e+00,  5.59750617e-01,  4.07241678e+00,  3.52153325e+00,\n",
       "               2.29880834e+00, -4.78883386e-01, -3.79903227e-01, -3.20412183e+00,\n",
       "              -1.21546829e+00, -9.69749987e-01, -5.52741671e+00,  1.51613533e+00,\n",
       "               7.03750074e-01, -2.17451668e+00, -3.82547855e+00,  8.87604892e-01,\n",
       "              -3.26750010e-01,  1.95509160e+00, -9.59349930e-01,  4.62893486e+00,\n",
       "               7.84691036e-01,  2.56806326e+00,  2.04816699e+00, -1.58721650e+00,\n",
       "              -4.62175041e-01, -1.06466733e-01,  2.56315017e+00,  5.90240049e+00,\n",
       "               1.54429674e+00, -3.26536655e+00,  4.01026297e+00, -2.92418027e+00,\n",
       "               3.93540668e+00, -3.07309651e+00, -8.80983695e-02,  3.28750014e+00,\n",
       "              -2.39505839e+00, -2.03536645e-01, -5.34003317e-01,  6.46759272e+00,\n",
       "              -2.30730009e+00,  3.14816684e-01,  8.05363357e-01,  4.25161695e+00,\n",
       "               4.58085203e+00,  1.57655156e+00, -3.17419839e+00,  1.23867667e+00,\n",
       "              -5.19307137e+00, -4.65059996e+00, -2.90760016e+00,  2.25124884e+00,\n",
       "               5.92700183e-01, -3.20251775e-03,  7.39206553e-01, -1.24101853e+00,\n",
       "              -1.53833497e+00,  1.78080332e+00,  9.63715017e-01, -2.96464849e+00,\n",
       "               4.91420889e+00, -2.16723323e-01,  4.63049978e-01,  3.23966002e+00,\n",
       "              -5.04111719e+00,  2.79022336e+00,  9.29051697e-01, -2.37842464e+00,\n",
       "              -1.70994985e+00,  8.66716802e-01, -1.07733500e+00,  1.77482331e+00,\n",
       "               2.13667488e+00,  4.83350039e-01, -2.38933954e-02,  3.77699661e+00,\n",
       "              -1.31644154e+00,  1.40234673e+00,  1.15535188e+00, -3.09573263e-01,\n",
       "              -6.67105818e+00,  3.11281651e-01, -3.76299977e+00, -1.78586674e+00,\n",
       "              -4.00555849e+00,  2.89687753e+00, -2.10376665e-01,  3.29803824e+00,\n",
       "              -8.75318348e-01,  1.54919827e+00,  3.75335026e+00,  3.97441173e+00,\n",
       "              -1.79024661e+00,  2.43409932e-01,  2.66531157e+00, -9.91977215e-01,\n",
       "               3.37719154e+00, -4.08895826e+00,  1.29073989e+00, -2.59547305e+00,\n",
       "              -1.92865837e+00,  5.12023354e+00, -1.38628149e+00, -2.14901662e+00,\n",
       "              -1.14488356e-01, -3.64076209e+00, -2.65261680e-01, -1.68856490e+00,\n",
       "              -7.22583354e-01,  2.19304824e+00, -1.02591670e+00,  3.00646996e+00,\n",
       "              -5.18436337e+00, -3.17465138e+00,  1.74965000e+00,  6.26421750e-01,\n",
       "               3.43913341e+00, -1.55086660e+00,  9.55683291e-01, -2.13218331e+00,\n",
       "              -4.39206600e-01, -1.37210000e+00,  1.60769954e-01,  2.27916670e+00,\n",
       "              -2.74874687e+00, -1.15936315e+00, -1.21283531e-02, -6.35807371e+00,\n",
       "               5.76698303e+00,  3.41042328e+00, -8.82753372e-01, -1.82342160e+00,\n",
       "               1.87156665e+00,  3.79749489e+00, -5.37912321e+00, -5.52333184e-02,\n",
       "               8.69250000e-01, -2.21851969e+00,  5.37651491e+00, -5.63721716e-01,\n",
       "              -2.50456166e+00,  4.18986177e+00,  5.70439994e-01, -4.70027637e+00,\n",
       "              -2.02083158e+00,  8.07236195e-01, -3.44620919e+00,  7.21368313e-01,\n",
       "              -2.49249935e-01,  6.26193380e+00,  3.04268003e+00, -1.44766843e+00,\n",
       "               1.27140009e+00, -7.85311639e-01, -2.12503648e+00, -7.96011686e+00,\n",
       "               1.17378366e+00,  2.53225160e+00,  3.52592850e+00,  8.32266629e-01,\n",
       "               6.91721737e-01,  3.93806672e+00, -1.75859988e+00,  5.09467125e-02,\n",
       "               1.36698341e+00,  3.39454842e+00, -5.71207476e+00,  4.50150013e-01,\n",
       "              -5.40820885e+00,  6.23829186e-01,  5.56766808e-01,  7.39618540e+00,\n",
       "              -1.62019825e+00,  3.20094180e+00, -2.63778806e+00, -6.97888374e-01,\n",
       "              -5.23557138e+00,  4.21389723e+00, -2.22117925e+00, -3.65716629e-02,\n",
       "              -2.34834981e+00, -4.35650080e-01,  1.18158329e+00,  3.41455007e+00,\n",
       "               1.92980003e+00,  3.50304985e+00,  2.06908965e+00,  1.68527830e+00,\n",
       "              -7.91146708e+00, -1.44779491e+00,  1.62765658e+00,  3.92035134e-02,\n",
       "              -1.55553329e+00, -6.50746536e+00, -3.70482850e+00,  2.87490010e+00,\n",
       "              -1.84782684e+00, -4.21201181e+00,  1.11691332e+00,  1.72601163e+00,\n",
       "               8.39346695e+00, -2.26861668e+00, -2.11861685e-01,  3.50904852e-01,\n",
       "               3.90943319e-01,  9.58864033e-01, -1.60607827e+00, -7.79239953e-01,\n",
       "               3.82031441e-01, -1.52109492e+00,  3.09466672e+00, -1.53072011e+00,\n",
       "               8.81723309e+00, -2.61671162e+00, -3.21754646e+00,  1.58235228e+00,\n",
       "               4.03219652e+00, -2.46018338e+00,  1.99766839e+00, -6.67730522e+00,\n",
       "               1.30183399e-01, -3.56678176e+00, -3.09449983e+00,  2.03649640e+00,\n",
       "              -3.43261647e+00,  3.30643344e+00,  2.40571666e+00, -6.24732161e+00,\n",
       "              -1.21243167e+00,  4.34424967e-01,  1.59333515e+00,  8.02329957e-01,\n",
       "               2.26030326e+00,  3.04634857e+00, -3.13700050e-01, -7.59599984e-01,\n",
       "              -1.48742163e+00, -2.84603983e-01, -3.67301822e+00,  2.69048333e+00,\n",
       "               1.94273150e+00,  1.72920501e+00,  3.16857982e+00,  3.71561694e+00,\n",
       "               9.04078960e+00,  1.66325843e+00, -1.67404020e+00, -2.82487845e+00,\n",
       "               1.47171652e+00, -2.22469997e+00,  3.04350078e-01,  1.54503334e+00,\n",
       "              -1.71880996e+00, -2.51702666e+00,  6.34948349e+00, -2.52457166e+00,\n",
       "               3.16361666e-01,  4.37831640e+00, -2.26719975e+00, -1.19255173e+00,\n",
       "              -3.33608240e-01, -2.20265079e+00,  6.22754991e-01, -1.41111529e+00,\n",
       "              -1.22431171e+00,  6.35746479e-01, -1.57721508e+00,  4.93304968e+00,\n",
       "               1.49326837e+00, -9.47733462e-01, -2.47040677e+00, -2.17233360e-01,\n",
       "              -4.42293215e+00, -3.57246661e+00, -1.24846697e-01, -1.85486495e+00,\n",
       "               7.02008295e+00,  8.42758358e-01,  1.57170010e+00, -3.32543659e+00,\n",
       "               1.68741691e+00,  8.44489872e-01,  2.64623332e+00,  3.21008325e-01,\n",
       "              -2.13712192e+00,  5.20924866e-01, -1.84999835e+00,  4.53482199e+00,\n",
       "              -2.34226799e+00,  5.18529654e+00,  7.17567280e-02,  4.02028179e+00,\n",
       "              -3.17852706e-01,  2.65003353e-01, -8.93183127e-02,  4.61302137e+00],\n",
       "             dtype=float32)                                                       ,\n",
       "       array([-9.2354584e-01, -9.9708927e-01,  1.2289842e+00,  6.2663704e-01,\n",
       "               2.4259160e+00,  8.7357646e-01,  7.1004999e-01,  2.6163814e+00,\n",
       "               4.1162285e-01, -4.4795078e-01,  7.6034009e-01,  2.3593500e-01,\n",
       "              -2.3007088e+00, -5.1380354e-01, -4.8587866e-02,  1.2325145e+00,\n",
       "              -1.1586353e+00, -3.4113646e-01,  2.1768715e+00, -1.6337998e-01,\n",
       "               1.0258688e+00,  1.3399705e+00,  1.3300092e+00,  1.5053728e+00,\n",
       "              -4.4287714e-01,  2.0134667e-01, -3.5092790e+00, -1.1660542e-01,\n",
       "               2.3573406e+00,  6.6061509e-01,  1.7391622e+00,  7.6135981e-01,\n",
       "               2.1816714e+00, -1.1410335e+00,  2.9503283e-01, -2.2265525e+00,\n",
       "              -2.2284474e+00,  2.6196149e-01, -2.6225784e+00, -1.8377349e+00,\n",
       "              -1.4109518e-01,  1.0281608e+00, -2.3215713e-01,  1.2975122e+00,\n",
       "              -9.5014982e-02, -1.5331250e+00, -3.2624072e-01,  2.2706072e+00,\n",
       "               1.2855872e+00,  1.1144029e+00, -1.0648949e+00, -3.8240738e-02,\n",
       "              -1.5870427e-01, -8.9887369e-01,  6.5870678e-01,  7.6331139e-01,\n",
       "              -1.3425350e+00, -4.0519688e-01,  1.5616566e+00, -3.1050354e-01,\n",
       "              -9.0235144e-01,  1.3464601e+00, -5.7784653e-01,  7.2999138e-01,\n",
       "               2.7908571e+00, -5.4791719e-01, -6.1124712e-01,  1.4508442e+00,\n",
       "              -1.9186749e-01,  1.9629999e+00,  1.6108084e+00, -1.0961343e+00,\n",
       "              -9.2656054e-02,  6.6368580e-02,  3.4595904e-01,  4.7689977e-01,\n",
       "              -1.7073529e-02,  2.0375650e+00,  7.1885005e-02,  8.7393492e-01,\n",
       "              -1.0802701e+00, -8.1600434e-01, -8.6981434e-01,  2.2103497e-01,\n",
       "               1.0699394e+00, -1.0020930e-01,  5.9692419e-01, -1.4023420e+00,\n",
       "              -5.6184357e-01, -5.3966087e-01, -5.9001321e-01, -3.3072375e-02,\n",
       "               1.0025496e-01, -2.5286284e-01,  1.7411856e-01,  1.7619550e+00,\n",
       "               2.5101969e-01, -6.3118786e-01,  1.0261785e+00,  4.8806402e-01,\n",
       "               9.7956955e-01,  1.2327156e-02,  6.5216869e-01,  2.0531521e+00,\n",
       "              -8.6519158e-01,  4.3156284e-01, -5.9738302e-01,  4.9571753e-01,\n",
       "               3.3402711e-01, -2.0922358e+00, -1.0563924e+00,  3.0321565e-03,\n",
       "              -7.6666534e-01,  7.3997922e-02, -9.4724280e-01, -7.5957876e-01,\n",
       "              -1.7519504e+00, -1.7196710e-01, -6.6612720e-01,  8.8602573e-01,\n",
       "               7.5933570e-01, -1.6440123e+00,  2.1421788e+00, -2.0235085e+00,\n",
       "               3.0022499e-01,  2.7996233e-01,  3.6635712e-01, -2.1065269e-01,\n",
       "               1.8782989e+00,  8.3839998e-02, -2.8497520e-01, -1.0736001e+00,\n",
       "               2.1006641e-01,  1.8124713e-01,  1.3619096e+00, -1.4898249e+00,\n",
       "              -9.2288578e-01,  3.8421588e+00,  5.2972130e-02, -1.0816449e+00,\n",
       "               6.2309784e-01,  1.6882935e+00, -1.1614293e+00,  9.8985779e-01,\n",
       "               1.2351812e+00,  2.3683820e+00, -2.6654713e+00, -1.7626826e+00,\n",
       "               1.5418093e+00,  9.6831930e-01,  7.1397144e-01,  3.3618149e-01,\n",
       "               1.3102257e+00,  6.1615950e-01, -5.9095299e-01, -5.4233354e-01,\n",
       "              -2.9555073e-01,  4.3178844e-01, -2.0180933e+00, -2.1597230e+00,\n",
       "              -1.2634617e+00, -1.9398615e+00,  6.7640859e-01, -1.3958631e-01,\n",
       "              -5.7619506e-01,  3.0480641e-01, -7.2488308e-01, -3.7989601e-01,\n",
       "               5.3496164e-01,  2.8256828e-01,  4.9362116e-02,  2.2599607e+00,\n",
       "              -1.0631136e+00,  1.8417443e-01,  8.2518643e-01,  1.7038263e+00,\n",
       "              -1.7608253e+00, -3.9114141e-01, -1.3594586e+00,  8.6233601e-02,\n",
       "              -1.1583263e+00,  6.0570002e-01, -1.3762499e-01,  7.1472007e-01,\n",
       "              -1.0949043e+00,  1.5687077e+00,  5.3064638e-01, -1.4010927e-01,\n",
       "               7.9478729e-01,  8.3166081e-01,  7.8846496e-01, -2.0393716e-01,\n",
       "              -2.3723648e+00, -1.4929285e+00,  8.3119708e-01, -1.1979038e-01,\n",
       "              -6.2515575e-01, -6.7961752e-01, -1.3818328e+00,  5.5151922e-01,\n",
       "               9.2848927e-01, -1.8778216e+00,  1.1778177e+00, -1.9596872e+00,\n",
       "               1.1208657e+00, -1.3229798e+00,  7.4859224e-02,  2.6293576e-01,\n",
       "              -2.1644988e+00,  1.5468611e-01,  1.5395853e-01,  6.2070686e-01,\n",
       "              -6.5599149e-01,  1.4818691e+00,  1.0509342e+00,  1.3582505e+00,\n",
       "               1.2648955e-01,  4.7734499e-01, -1.4081289e-01, -6.0960931e-01,\n",
       "              -9.8112464e-02, -7.1184224e-01, -1.4770793e+00,  7.1281582e-02,\n",
       "              -3.2836242e+00, -1.4698614e+00, -4.8676279e-01,  2.3973129e+00,\n",
       "              -2.7142426e-01, -8.3721930e-01,  2.3280003e+00, -1.7721142e-01,\n",
       "              -3.9582571e-01,  1.4636246e+00,  9.4313145e-01,  2.3583786e-01,\n",
       "              -1.1443701e+00,  3.4392500e-01, -1.4239300e+00, -3.9378563e-01,\n",
       "               3.3178800e-01,  1.7408264e+00,  2.3249249e-01, -2.3528001e-01,\n",
       "               1.6014999e+00, -4.7687608e-01,  8.0666637e-01,  2.9256290e-01,\n",
       "               4.4854498e-01,  5.8718210e-01, -8.0309093e-01, -6.2215507e-01,\n",
       "              -1.5751058e+00,  5.9187216e-01,  7.9226391e-03,  7.0843601e-01,\n",
       "               5.5275834e-01, -9.4433135e-01,  2.3080151e+00,  1.3191946e+00,\n",
       "              -2.4944791e-01, -9.9444991e-01,  7.3068583e-01,  3.0419001e-01,\n",
       "               9.0459251e-01, -2.6029095e-01, -7.5474435e-01,  8.4190643e-01,\n",
       "              -1.3563014e+00,  2.1715219e-01, -6.9030422e-01,  6.3499147e-01,\n",
       "              -1.0432837e+00,  4.2677206e-01, -8.4946387e-02,  2.4678600e-01,\n",
       "               4.3581452e-02, -2.8971931e-01,  2.7587858e-01,  6.2491047e-01,\n",
       "               8.4297258e-01,  3.1632978e-01,  1.7063366e+00, -1.0727972e-01,\n",
       "               2.2126756e+00,  1.0428358e+00,  1.2355058e+00, -5.7106328e-01,\n",
       "              -2.2451651e+00, -5.5034494e-01,  2.0840521e+00,  1.9048288e-01,\n",
       "              -2.7431362e+00,  2.8482728e+00,  2.0222957e-01,  1.5448570e-02,\n",
       "               2.3570392e+00,  1.0794783e-01,  5.6980211e-01, -9.5637091e-02],\n",
       "             dtype=float32)                                                   ],\n",
       "      dtype=object)"
      ]
     },
     "execution_count": 47,
     "metadata": {},
     "output_type": "execute_result"
    }
   ],
   "source": [
    "x_train"
   ]
  },
  {
   "cell_type": "code",
   "execution_count": 48,
   "id": "1b52c00d-8ccd-4c06-bfb2-cdf2dfdc561c",
   "metadata": {},
   "outputs": [],
   "source": [
    "#convert 3d array to 2d array  using numpy stack function\n",
    "\n",
    "x_train_stacked = np.stack(x_train)\n",
    "x_test_stacked = np.stack(x_test)"
   ]
  },
  {
   "cell_type": "code",
   "execution_count": 49,
   "id": "a8549dd3-2d61-4627-a1c5-002ba151e19c",
   "metadata": {},
   "outputs": [
    {
     "data": {
      "text/plain": [
       "array([[-0.55877376, -0.63390756,  0.0653665 , ..., -0.47889873,\n",
       "        -0.54421246,  0.906425  ],\n",
       "       [-0.66212386,  1.6298574 , -1.8782207 , ..., -0.49799335,\n",
       "        -0.6647041 ,  1.2279761 ],\n",
       "       [-1.06845   , -4.758225  , -2.0748823 , ..., -1.404475  ,\n",
       "         0.90263003,  1.542925  ],\n",
       "       ...,\n",
       "       [-0.5489926 , -0.6502565 , -0.05375253, ..., -1.5209299 ,\n",
       "         0.7281289 ,  0.6360236 ],\n",
       "       [-3.4309719 , -2.8488665 , -8.338318  , ...,  0.26500335,\n",
       "        -0.08931831,  4.6130214 ],\n",
       "       [-0.92354584, -0.99708927,  1.2289842 , ...,  0.10794783,\n",
       "         0.5698021 , -0.09563709]], dtype=float32)"
      ]
     },
     "execution_count": 49,
     "metadata": {},
     "output_type": "execute_result"
    }
   ],
   "source": [
    "x_train_stacked"
   ]
  },
  {
   "cell_type": "markdown",
   "id": "740dd4d4-1417-4a50-9945-f0425b0888a8",
   "metadata": {},
   "source": [
    "# Balancing Imabalned Data by SMOTE"
   ]
  },
  {
   "cell_type": "code",
   "execution_count": 42,
   "id": "d6eb4c8a-8f52-4f87-92b7-7c953493ca9b",
   "metadata": {},
   "outputs": [],
   "source": [
    "# Instantiate SMOTE\n",
    "smote = SMOTE(random_state=42)"
   ]
  },
  {
   "cell_type": "code",
   "execution_count": 50,
   "id": "7cb214ad-cf7d-4b39-9236-ab011c3e1465",
   "metadata": {},
   "outputs": [],
   "source": [
    "x_train_resampled, y_train_resampled = smote.fit_resample(x_train_stacked, y_train)"
   ]
  },
  {
   "cell_type": "code",
   "execution_count": 52,
   "id": "e80e121e-aa3d-4f62-b22b-4472304b73b7",
   "metadata": {},
   "outputs": [
    {
     "data": {
      "text/plain": [
       "category\n",
       "1    3403\n",
       "0    3403\n",
       "2    3403\n",
       "Name: count, dtype: int64"
      ]
     },
     "execution_count": 52,
     "metadata": {},
     "output_type": "execute_result"
    }
   ],
   "source": [
    "y_train_resampled.value_counts()"
   ]
  },
  {
   "cell_type": "markdown",
   "id": "afe23da6-2197-41d7-87a3-b6c478626921",
   "metadata": {},
   "source": [
    "_Woww!!!! it's nice our `training data is balanced now`...._"
   ]
  },
  {
   "cell_type": "markdown",
   "id": "59ea96f9-32da-432c-ba34-7ee6a78f5bde",
   "metadata": {},
   "source": [
    "# Modelling:"
   ]
  },
  {
   "cell_type": "markdown",
   "id": "2c7b8d60-d6ad-4885-b824-ee228e5310c4",
   "metadata": {},
   "source": [
    "<h2>Random Forest:</h2>"
   ]
  },
  {
   "cell_type": "code",
   "execution_count": 54,
   "id": "e3206bfa-2b63-4ff8-b2a9-2095be75f5a0",
   "metadata": {},
   "outputs": [],
   "source": [
    "#Create pipeline for DT model\n",
    "\n",
    "rf_pipeline = Pipeline([\n",
    "    ('scaler', MinMaxScaler()), \n",
    "    ('clf', RandomForestClassifier()) \n",
    "])"
   ]
  },
  {
   "cell_type": "code",
   "execution_count": 55,
   "id": "a939fe13-32d6-43f2-b3d8-8d4521034136",
   "metadata": {},
   "outputs": [
    {
     "data": {
      "text/html": [
       "<style>#sk-container-id-1 {color: black;background-color: white;}#sk-container-id-1 pre{padding: 0;}#sk-container-id-1 div.sk-toggleable {background-color: white;}#sk-container-id-1 label.sk-toggleable__label {cursor: pointer;display: block;width: 100%;margin-bottom: 0;padding: 0.3em;box-sizing: border-box;text-align: center;}#sk-container-id-1 label.sk-toggleable__label-arrow:before {content: \"▸\";float: left;margin-right: 0.25em;color: #696969;}#sk-container-id-1 label.sk-toggleable__label-arrow:hover:before {color: black;}#sk-container-id-1 div.sk-estimator:hover label.sk-toggleable__label-arrow:before {color: black;}#sk-container-id-1 div.sk-toggleable__content {max-height: 0;max-width: 0;overflow: hidden;text-align: left;background-color: #f0f8ff;}#sk-container-id-1 div.sk-toggleable__content pre {margin: 0.2em;color: black;border-radius: 0.25em;background-color: #f0f8ff;}#sk-container-id-1 input.sk-toggleable__control:checked~div.sk-toggleable__content {max-height: 200px;max-width: 100%;overflow: auto;}#sk-container-id-1 input.sk-toggleable__control:checked~label.sk-toggleable__label-arrow:before {content: \"▾\";}#sk-container-id-1 div.sk-estimator input.sk-toggleable__control:checked~label.sk-toggleable__label {background-color: #d4ebff;}#sk-container-id-1 div.sk-label input.sk-toggleable__control:checked~label.sk-toggleable__label {background-color: #d4ebff;}#sk-container-id-1 input.sk-hidden--visually {border: 0;clip: rect(1px 1px 1px 1px);clip: rect(1px, 1px, 1px, 1px);height: 1px;margin: -1px;overflow: hidden;padding: 0;position: absolute;width: 1px;}#sk-container-id-1 div.sk-estimator {font-family: monospace;background-color: #f0f8ff;border: 1px dotted black;border-radius: 0.25em;box-sizing: border-box;margin-bottom: 0.5em;}#sk-container-id-1 div.sk-estimator:hover {background-color: #d4ebff;}#sk-container-id-1 div.sk-parallel-item::after {content: \"\";width: 100%;border-bottom: 1px solid gray;flex-grow: 1;}#sk-container-id-1 div.sk-label:hover label.sk-toggleable__label {background-color: #d4ebff;}#sk-container-id-1 div.sk-serial::before {content: \"\";position: absolute;border-left: 1px solid gray;box-sizing: border-box;top: 0;bottom: 0;left: 50%;z-index: 0;}#sk-container-id-1 div.sk-serial {display: flex;flex-direction: column;align-items: center;background-color: white;padding-right: 0.2em;padding-left: 0.2em;position: relative;}#sk-container-id-1 div.sk-item {position: relative;z-index: 1;}#sk-container-id-1 div.sk-parallel {display: flex;align-items: stretch;justify-content: center;background-color: white;position: relative;}#sk-container-id-1 div.sk-item::before, #sk-container-id-1 div.sk-parallel-item::before {content: \"\";position: absolute;border-left: 1px solid gray;box-sizing: border-box;top: 0;bottom: 0;left: 50%;z-index: -1;}#sk-container-id-1 div.sk-parallel-item {display: flex;flex-direction: column;z-index: 1;position: relative;background-color: white;}#sk-container-id-1 div.sk-parallel-item:first-child::after {align-self: flex-end;width: 50%;}#sk-container-id-1 div.sk-parallel-item:last-child::after {align-self: flex-start;width: 50%;}#sk-container-id-1 div.sk-parallel-item:only-child::after {width: 0;}#sk-container-id-1 div.sk-dashed-wrapped {border: 1px dashed gray;margin: 0 0.4em 0.5em 0.4em;box-sizing: border-box;padding-bottom: 0.4em;background-color: white;}#sk-container-id-1 div.sk-label label {font-family: monospace;font-weight: bold;display: inline-block;line-height: 1.2em;}#sk-container-id-1 div.sk-label-container {text-align: center;}#sk-container-id-1 div.sk-container {/* jupyter's `normalize.less` sets `[hidden] { display: none; }` but bootstrap.min.css set `[hidden] { display: none !important; }` so we also need the `!important` here to be able to override the default hidden behavior on the sphinx rendered scikit-learn.org. See: https://github.com/scikit-learn/scikit-learn/issues/21755 */display: inline-block !important;position: relative;}#sk-container-id-1 div.sk-text-repr-fallback {display: none;}</style><div id=\"sk-container-id-1\" class=\"sk-top-container\"><div class=\"sk-text-repr-fallback\"><pre>Pipeline(steps=[(&#x27;scaler&#x27;, MinMaxScaler()), (&#x27;clf&#x27;, RandomForestClassifier())])</pre><b>In a Jupyter environment, please rerun this cell to show the HTML representation or trust the notebook. <br />On GitHub, the HTML representation is unable to render, please try loading this page with nbviewer.org.</b></div><div class=\"sk-container\" hidden><div class=\"sk-item sk-dashed-wrapped\"><div class=\"sk-label-container\"><div class=\"sk-label sk-toggleable\"><input class=\"sk-toggleable__control sk-hidden--visually\" id=\"sk-estimator-id-1\" type=\"checkbox\" ><label for=\"sk-estimator-id-1\" class=\"sk-toggleable__label sk-toggleable__label-arrow\">Pipeline</label><div class=\"sk-toggleable__content\"><pre>Pipeline(steps=[(&#x27;scaler&#x27;, MinMaxScaler()), (&#x27;clf&#x27;, RandomForestClassifier())])</pre></div></div></div><div class=\"sk-serial\"><div class=\"sk-item\"><div class=\"sk-estimator sk-toggleable\"><input class=\"sk-toggleable__control sk-hidden--visually\" id=\"sk-estimator-id-2\" type=\"checkbox\" ><label for=\"sk-estimator-id-2\" class=\"sk-toggleable__label sk-toggleable__label-arrow\">MinMaxScaler</label><div class=\"sk-toggleable__content\"><pre>MinMaxScaler()</pre></div></div></div><div class=\"sk-item\"><div class=\"sk-estimator sk-toggleable\"><input class=\"sk-toggleable__control sk-hidden--visually\" id=\"sk-estimator-id-3\" type=\"checkbox\" ><label for=\"sk-estimator-id-3\" class=\"sk-toggleable__label sk-toggleable__label-arrow\">RandomForestClassifier</label><div class=\"sk-toggleable__content\"><pre>RandomForestClassifier()</pre></div></div></div></div></div></div></div>"
      ],
      "text/plain": [
       "Pipeline(steps=[('scaler', MinMaxScaler()), ('clf', RandomForestClassifier())])"
      ]
     },
     "execution_count": 55,
     "metadata": {},
     "output_type": "execute_result"
    }
   ],
   "source": [
    "rf_pipeline.fit(x_train_resampled, y_train_resampled)"
   ]
  },
  {
   "cell_type": "code",
   "execution_count": 56,
   "id": "0dc5ccea-aa4f-47ef-9fe3-4e07528e0caa",
   "metadata": {},
   "outputs": [],
   "source": [
    "y_pred = rf_pipeline.predict(x_test_stacked)"
   ]
  },
  {
   "cell_type": "code",
   "execution_count": 57,
   "id": "2699616c-a919-4d4b-ac83-385606aa09c6",
   "metadata": {},
   "outputs": [
    {
     "name": "stdout",
     "output_type": "stream",
     "text": [
      "              precision    recall  f1-score   support\n",
      "\n",
      "           0       0.87      0.90      0.89       851\n",
      "           1       0.89      0.87      0.88       833\n",
      "           2       0.86      0.85      0.85       579\n",
      "\n",
      "    accuracy                           0.87      2263\n",
      "   macro avg       0.87      0.87      0.87      2263\n",
      "weighted avg       0.87      0.87      0.87      2263\n",
      "\n"
     ]
    }
   ],
   "source": [
    "print(classification_report(y_test, y_pred))"
   ]
  },
  {
   "cell_type": "code",
   "execution_count": 58,
   "id": "a480ba43-5c71-4830-bc3b-25b8aca7be36",
   "metadata": {},
   "outputs": [],
   "source": [
    "rf_accuracy_score = \"{:.4f}\".format(accuracy_score(y_test, y_pred))\n",
    "rf_f1_score = \"{:.4f}\".format(f1_score(y_test, y_pred, average='macro'))\n",
    "rf_precision_score =  \"{:.4f}\".format(precision_score(y_test, y_pred, average='macro'))\n",
    "rf_recall_score =  \"{:.4f}\".format(recall_score(y_test, y_pred, average='macro'))"
   ]
  },
  {
   "cell_type": "code",
   "execution_count": 59,
   "id": "371a9144-11d8-4d1e-ba8a-8c220ee0165b",
   "metadata": {},
   "outputs": [],
   "source": [
    "train_accuracy = rf_pipeline.score(x_train_resampled, y_train_resampled)\n",
    "test_accuracy = rf_pipeline.score(x_test_stacked, y_test)"
   ]
  },
  {
   "cell_type": "code",
   "execution_count": 60,
   "id": "a2b92d5a-b8ab-40ad-924f-212852f1c9b4",
   "metadata": {},
   "outputs": [
    {
     "data": {
      "text/html": [
       "<div>\n",
       "<style scoped>\n",
       "    .dataframe tbody tr th:only-of-type {\n",
       "        vertical-align: middle;\n",
       "    }\n",
       "\n",
       "    .dataframe tbody tr th {\n",
       "        vertical-align: top;\n",
       "    }\n",
       "\n",
       "    .dataframe thead th {\n",
       "        text-align: right;\n",
       "    }\n",
       "</style>\n",
       "<table border=\"1\" class=\"dataframe\">\n",
       "  <thead>\n",
       "    <tr style=\"text-align: right;\">\n",
       "      <th></th>\n",
       "      <th>Model</th>\n",
       "      <th>Train Accuracy</th>\n",
       "      <th>Test Accuracy</th>\n",
       "      <th>F1 Score</th>\n",
       "      <th>Accuracy Score</th>\n",
       "      <th>Precision</th>\n",
       "      <th>Recall</th>\n",
       "    </tr>\n",
       "  </thead>\n",
       "  <tbody>\n",
       "    <tr>\n",
       "      <th>0</th>\n",
       "      <td>Random Forest</td>\n",
       "      <td>1.0</td>\n",
       "      <td>0.874503</td>\n",
       "      <td>0.8721</td>\n",
       "      <td>0.8745</td>\n",
       "      <td>0.8731</td>\n",
       "      <td>0.8714</td>\n",
       "    </tr>\n",
       "  </tbody>\n",
       "</table>\n",
       "</div>"
      ],
      "text/plain": [
       "           Model  Train Accuracy  Test Accuracy F1 Score Accuracy Score  \\\n",
       "0  Random Forest             1.0       0.874503   0.8721         0.8745   \n",
       "\n",
       "  Precision  Recall  \n",
       "0    0.8731  0.8714  "
      ]
     },
     "execution_count": 60,
     "metadata": {},
     "output_type": "execute_result"
    }
   ],
   "source": [
    "# create dataframe to track all models details\n",
    "\n",
    "model_scores = pd.DataFrame( [[\"Random Forest\", train_accuracy,test_accuracy, rf_f1_score, rf_accuracy_score, rf_precision_score, rf_recall_score]],\n",
    "                              columns= [ \"Model\", \"Train Accuracy\", \"Test Accuracy\", \"F1 Score\", \"Accuracy Score\", \"Precision\", \"Recall\"])\n",
    "\n",
    "model_scores"
   ]
  },
  {
   "cell_type": "markdown",
   "id": "2089569c-aac1-4a2b-ab71-c13baf2b1d6d",
   "metadata": {},
   "source": [
    "<h2>Decision Tree:</h2>"
   ]
  },
  {
   "cell_type": "code",
   "execution_count": 61,
   "id": "80366d97-33ac-45ad-8b71-a4252a3aa390",
   "metadata": {},
   "outputs": [
    {
     "name": "stdout",
     "output_type": "stream",
     "text": [
      " Classification Report - Decision Tree Model:               precision    recall  f1-score   support\n",
      "\n",
      "           0       0.77      0.78      0.77       851\n",
      "           1       0.73      0.74      0.73       833\n",
      "           2       0.71      0.69      0.70       579\n",
      "\n",
      "    accuracy                           0.74      2263\n",
      "   macro avg       0.74      0.73      0.74      2263\n",
      "weighted avg       0.74      0.74      0.74      2263\n",
      "\n"
     ]
    }
   ],
   "source": [
    "#Create pipeline for DT model\n",
    "\n",
    "dt_pipeline = Pipeline([\n",
    "    ('scaler', MinMaxScaler()), \n",
    "    ('clf', DecisionTreeClassifier()) \n",
    "])\n",
    "\n",
    "dt_pipeline.fit(x_train_resampled, y_train_resampled)\n",
    "\n",
    "y_pred = dt_pipeline.predict(x_test_stacked)\n",
    "\n",
    "dt_accuracy_score = \"{:.4f}\".format(accuracy_score(y_test, y_pred))\n",
    "dt_f1_score = \"{:.4f}\".format(f1_score(y_test, y_pred, average='macro'))\n",
    "dt_precision_score =  \"{:.4f}\".format(precision_score(y_test, y_pred, average='macro'))\n",
    "dt_recall_score =  \"{:.4f}\".format(recall_score(y_test, y_pred, average='macro'))\n",
    "\n",
    "train_accuracy = \"{:.4f}\".format(dt_pipeline.score(x_train_resampled, y_train_resampled))\n",
    "test_accuracy = \"{:.4f}\".format(dt_pipeline.score(x_test_stacked, y_test))\n",
    "\n",
    "print(\" Classification Report - Decision Tree Model:\\n\",classification_report(y_test, y_pred))"
   ]
  },
  {
   "cell_type": "code",
   "execution_count": 63,
   "id": "d191ceab-a0f9-45c2-9294-b8c54c934b73",
   "metadata": {},
   "outputs": [
    {
     "data": {
      "text/html": [
       "<div>\n",
       "<style scoped>\n",
       "    .dataframe tbody tr th:only-of-type {\n",
       "        vertical-align: middle;\n",
       "    }\n",
       "\n",
       "    .dataframe tbody tr th {\n",
       "        vertical-align: top;\n",
       "    }\n",
       "\n",
       "    .dataframe thead th {\n",
       "        text-align: right;\n",
       "    }\n",
       "</style>\n",
       "<table border=\"1\" class=\"dataframe\">\n",
       "  <thead>\n",
       "    <tr style=\"text-align: right;\">\n",
       "      <th></th>\n",
       "      <th>Model</th>\n",
       "      <th>Train Accuracy</th>\n",
       "      <th>Test Accuracy</th>\n",
       "      <th>F1 Score</th>\n",
       "      <th>Accuracy Score</th>\n",
       "      <th>Precision</th>\n",
       "      <th>Recall</th>\n",
       "    </tr>\n",
       "  </thead>\n",
       "  <tbody>\n",
       "    <tr>\n",
       "      <th>0</th>\n",
       "      <td>Random Forest</td>\n",
       "      <td>1.0</td>\n",
       "      <td>0.874503</td>\n",
       "      <td>0.8721</td>\n",
       "      <td>0.8745</td>\n",
       "      <td>0.8731</td>\n",
       "      <td>0.8714</td>\n",
       "    </tr>\n",
       "    <tr>\n",
       "      <th>1</th>\n",
       "      <td>Decision Tree</td>\n",
       "      <td>1.0000</td>\n",
       "      <td>0.7397</td>\n",
       "      <td>0.7353</td>\n",
       "      <td>0.7397</td>\n",
       "      <td>0.7364</td>\n",
       "      <td>0.7343</td>\n",
       "    </tr>\n",
       "  </tbody>\n",
       "</table>\n",
       "</div>"
      ],
      "text/plain": [
       "           Model Train Accuracy Test Accuracy F1 Score Accuracy Score  \\\n",
       "0  Random Forest            1.0      0.874503   0.8721         0.8745   \n",
       "1  Decision Tree         1.0000        0.7397   0.7353         0.7397   \n",
       "\n",
       "  Precision  Recall  \n",
       "0    0.8731  0.8714  \n",
       "1    0.7364  0.7343  "
      ]
     },
     "execution_count": 63,
     "metadata": {},
     "output_type": "execute_result"
    }
   ],
   "source": [
    "new_details =pd.DataFrame( {\n",
    "    \"Model\": \"Decision Tree\",\n",
    "    \"Train Accuracy\": [train_accuracy],\n",
    "    \"Test Accuracy\":[ test_accuracy ],\n",
    "    \"F1 Score\": [dt_f1_score],\n",
    "    \"Accuracy Score\": [dt_accuracy_score],\n",
    "    \"Precision\": [dt_precision_score],\n",
    "    \"Recall\": [dt_recall_score]\n",
    "})\n",
    "model_scores = pd.concat([model_scores, new_details], ignore_index=True)\n",
    "model_scores"
   ]
  },
  {
   "cell_type": "code",
   "execution_count": 64,
   "id": "100925dd-f3d4-4f6c-a77a-f4ae59e09674",
   "metadata": {},
   "outputs": [
    {
     "data": {
      "text/html": [
       "<div>\n",
       "<style scoped>\n",
       "    .dataframe tbody tr th:only-of-type {\n",
       "        vertical-align: middle;\n",
       "    }\n",
       "\n",
       "    .dataframe tbody tr th {\n",
       "        vertical-align: top;\n",
       "    }\n",
       "\n",
       "    .dataframe thead th {\n",
       "        text-align: right;\n",
       "    }\n",
       "</style>\n",
       "<table border=\"1\" class=\"dataframe\">\n",
       "  <thead>\n",
       "    <tr style=\"text-align: right;\">\n",
       "      <th></th>\n",
       "      <th>Model</th>\n",
       "      <th>F1 Score</th>\n",
       "      <th>Accuracy Score</th>\n",
       "      <th>Precision</th>\n",
       "      <th>Recall</th>\n",
       "    </tr>\n",
       "  </thead>\n",
       "  <tbody>\n",
       "    <tr>\n",
       "      <th>0</th>\n",
       "      <td>Random Forest</td>\n",
       "      <td>0.8721</td>\n",
       "      <td>0.8745</td>\n",
       "      <td>0.8731</td>\n",
       "      <td>0.8714</td>\n",
       "    </tr>\n",
       "    <tr>\n",
       "      <th>1</th>\n",
       "      <td>Decision Tree</td>\n",
       "      <td>0.7353</td>\n",
       "      <td>0.7397</td>\n",
       "      <td>0.7364</td>\n",
       "      <td>0.7343</td>\n",
       "    </tr>\n",
       "  </tbody>\n",
       "</table>\n",
       "</div>"
      ],
      "text/plain": [
       "           Model F1 Score Accuracy Score Precision  Recall\n",
       "0  Random Forest   0.8721         0.8745    0.8731  0.8714\n",
       "1  Decision Tree   0.7353         0.7397    0.7364  0.7343"
      ]
     },
     "execution_count": 64,
     "metadata": {},
     "output_type": "execute_result"
    }
   ],
   "source": [
    "model_scores= model_scores.drop(columns=[\"Train Accuracy\", \"Test Accuracy\"])\n",
    "model_scores"
   ]
  },
  {
   "cell_type": "markdown",
   "id": "7b777d70-f067-4502-99ad-74a5bf12d74c",
   "metadata": {},
   "source": [
    "<h2>MultinomialNB:</h2>"
   ]
  },
  {
   "cell_type": "code",
   "execution_count": 78,
   "id": "1a99e1cb-5122-48d4-92b9-3e6a21030275",
   "metadata": {},
   "outputs": [
    {
     "name": "stdout",
     "output_type": "stream",
     "text": [
      " Classification Report - MultinomialNB Model:\n",
      "               precision    recall  f1-score   support\n",
      "\n",
      "           0       0.83      0.83      0.83       851\n",
      "           1       0.85      0.80      0.82       833\n",
      "           2       0.80      0.87      0.83       579\n",
      "\n",
      "    accuracy                           0.83      2263\n",
      "   macro avg       0.83      0.83      0.83      2263\n",
      "weighted avg       0.83      0.83      0.83      2263\n",
      "\n"
     ]
    }
   ],
   "source": [
    "#Create pipeline for DT model\n",
    "\n",
    "dt_pipeline = Pipeline([\n",
    "    ('scaler', MinMaxScaler()), \n",
    "    ('clf', MultinomialNB()) \n",
    "])\n",
    "\n",
    "dt_pipeline.fit(x_train_resampled, y_train_resampled)\n",
    "\n",
    "y_pred = dt_pipeline.predict(x_test_stacked)\n",
    "\n",
    "model_accuracy_score = \"{:.4f}\".format(accuracy_score(y_test, y_pred))\n",
    "model_f1_score = \"{:.4f}\".format(f1_score(y_test, y_pred, average='macro'))\n",
    "model_precision_score =  \"{:.4f}\".format(precision_score(y_test, y_pred, average='macro'))\n",
    "model_recall_score =  \"{:.4f}\".format(recall_score(y_test, y_pred, average='macro'))\n",
    "\n",
    "print(\" Classification Report - MultinomialNB Model:\\n\",classification_report(y_test, y_pred))"
   ]
  },
  {
   "cell_type": "code",
   "execution_count": 79,
   "id": "615593ff-cd26-4ee5-a21e-307eb278f600",
   "metadata": {},
   "outputs": [
    {
     "data": {
      "text/html": [
       "<div>\n",
       "<style scoped>\n",
       "    .dataframe tbody tr th:only-of-type {\n",
       "        vertical-align: middle;\n",
       "    }\n",
       "\n",
       "    .dataframe tbody tr th {\n",
       "        vertical-align: top;\n",
       "    }\n",
       "\n",
       "    .dataframe thead th {\n",
       "        text-align: right;\n",
       "    }\n",
       "</style>\n",
       "<table border=\"1\" class=\"dataframe\">\n",
       "  <thead>\n",
       "    <tr style=\"text-align: right;\">\n",
       "      <th></th>\n",
       "      <th>Model</th>\n",
       "      <th>F1 Score</th>\n",
       "      <th>Accuracy Score</th>\n",
       "      <th>Precision</th>\n",
       "      <th>Recall</th>\n",
       "    </tr>\n",
       "  </thead>\n",
       "  <tbody>\n",
       "    <tr>\n",
       "      <th>0</th>\n",
       "      <td>Random Forest</td>\n",
       "      <td>0.8721</td>\n",
       "      <td>0.8745</td>\n",
       "      <td>0.8731</td>\n",
       "      <td>0.8714</td>\n",
       "    </tr>\n",
       "    <tr>\n",
       "      <th>1</th>\n",
       "      <td>Decision Tree</td>\n",
       "      <td>0.7353</td>\n",
       "      <td>0.7397</td>\n",
       "      <td>0.7364</td>\n",
       "      <td>0.7343</td>\n",
       "    </tr>\n",
       "    <tr>\n",
       "      <th>2</th>\n",
       "      <td>MultinomialNB</td>\n",
       "      <td>0.8289</td>\n",
       "      <td>0.8285</td>\n",
       "      <td>0.8264</td>\n",
       "      <td>0.8332</td>\n",
       "    </tr>\n",
       "  </tbody>\n",
       "</table>\n",
       "</div>"
      ],
      "text/plain": [
       "           Model F1 Score Accuracy Score Precision  Recall\n",
       "0  Random Forest   0.8721         0.8745    0.8731  0.8714\n",
       "1  Decision Tree   0.7353         0.7397    0.7364  0.7343\n",
       "2  MultinomialNB   0.8289         0.8285    0.8264  0.8332"
      ]
     },
     "execution_count": 79,
     "metadata": {},
     "output_type": "execute_result"
    }
   ],
   "source": [
    "new_details =pd.DataFrame( {\n",
    "    \"Model\": \"MultinomialNB\",\n",
    "    \"F1 Score\": [model_f1_score],\n",
    "    \"Accuracy Score\": [model_accuracy_score],\n",
    "    \"Precision\": [model_precision_score],\n",
    "    \"Recall\": [model_recall_score]\n",
    "})\n",
    "model_scores = pd.concat([model_scores, new_details], ignore_index=True)\n",
    "model_scores"
   ]
  },
  {
   "cell_type": "markdown",
   "id": "eb5cee7e-4908-445b-bd93-9cf308d58c28",
   "metadata": {},
   "source": [
    "<h2> KNeighborsClassifier</h2>"
   ]
  },
  {
   "cell_type": "code",
   "execution_count": 80,
   "id": "1ec0d31b-146b-4848-acbc-0aa1a7230a3c",
   "metadata": {},
   "outputs": [
    {
     "name": "stdout",
     "output_type": "stream",
     "text": [
      " Classification Report - KNeighborsClassifier Model:\n",
      "               precision    recall  f1-score   support\n",
      "\n",
      "           0       0.90      0.83      0.86       851\n",
      "           1       0.93      0.77      0.84       833\n",
      "           2       0.70      0.94      0.80       579\n",
      "\n",
      "    accuracy                           0.84      2263\n",
      "   macro avg       0.84      0.85      0.84      2263\n",
      "weighted avg       0.86      0.84      0.84      2263\n",
      "\n"
     ]
    }
   ],
   "source": [
    "#Create pipeline for KNeighborsClassifier model\n",
    "\n",
    "pipeline = Pipeline([\n",
    "    ('scaler', MinMaxScaler()), \n",
    "    ('clf', KNeighborsClassifier()) \n",
    "])\n",
    "\n",
    "pipeline.fit(x_train_resampled, y_train_resampled)\n",
    "\n",
    "y_pred = pipeline.predict(x_test_stacked)\n",
    "\n",
    "model_accuracy_score = \"{:.4f}\".format(accuracy_score(y_test, y_pred))\n",
    "model_f1_score = \"{:.4f}\".format(f1_score(y_test, y_pred, average='macro'))\n",
    "model_precision_score =  \"{:.4f}\".format(precision_score(y_test, y_pred, average='macro'))\n",
    "model_recall_score =  \"{:.4f}\".format(recall_score(y_test, y_pred, average='macro'))\n",
    "\n",
    "print(\" Classification Report - KNeighborsClassifier Model:\\n\",classification_report(y_test, y_pred))"
   ]
  },
  {
   "cell_type": "code",
   "execution_count": 81,
   "id": "52428636-f85e-4c0b-9a2f-b6d91eddab25",
   "metadata": {},
   "outputs": [
    {
     "data": {
      "text/html": [
       "<div>\n",
       "<style scoped>\n",
       "    .dataframe tbody tr th:only-of-type {\n",
       "        vertical-align: middle;\n",
       "    }\n",
       "\n",
       "    .dataframe tbody tr th {\n",
       "        vertical-align: top;\n",
       "    }\n",
       "\n",
       "    .dataframe thead th {\n",
       "        text-align: right;\n",
       "    }\n",
       "</style>\n",
       "<table border=\"1\" class=\"dataframe\">\n",
       "  <thead>\n",
       "    <tr style=\"text-align: right;\">\n",
       "      <th></th>\n",
       "      <th>Model</th>\n",
       "      <th>F1 Score</th>\n",
       "      <th>Accuracy Score</th>\n",
       "      <th>Precision</th>\n",
       "      <th>Recall</th>\n",
       "    </tr>\n",
       "  </thead>\n",
       "  <tbody>\n",
       "    <tr>\n",
       "      <th>0</th>\n",
       "      <td>Random Forest</td>\n",
       "      <td>0.8721</td>\n",
       "      <td>0.8745</td>\n",
       "      <td>0.8731</td>\n",
       "      <td>0.8714</td>\n",
       "    </tr>\n",
       "    <tr>\n",
       "      <th>1</th>\n",
       "      <td>Decision Tree</td>\n",
       "      <td>0.7353</td>\n",
       "      <td>0.7397</td>\n",
       "      <td>0.7364</td>\n",
       "      <td>0.7343</td>\n",
       "    </tr>\n",
       "    <tr>\n",
       "      <th>2</th>\n",
       "      <td>MultinomialNB</td>\n",
       "      <td>0.8289</td>\n",
       "      <td>0.8285</td>\n",
       "      <td>0.8264</td>\n",
       "      <td>0.8332</td>\n",
       "    </tr>\n",
       "    <tr>\n",
       "      <th>3</th>\n",
       "      <td>KNeighborsClassifier</td>\n",
       "      <td>0.8357</td>\n",
       "      <td>0.8378</td>\n",
       "      <td>0.8411</td>\n",
       "      <td>0.8480</td>\n",
       "    </tr>\n",
       "  </tbody>\n",
       "</table>\n",
       "</div>"
      ],
      "text/plain": [
       "                  Model F1 Score Accuracy Score Precision  Recall\n",
       "0         Random Forest   0.8721         0.8745    0.8731  0.8714\n",
       "1         Decision Tree   0.7353         0.7397    0.7364  0.7343\n",
       "2         MultinomialNB   0.8289         0.8285    0.8264  0.8332\n",
       "3  KNeighborsClassifier   0.8357         0.8378    0.8411  0.8480"
      ]
     },
     "execution_count": 81,
     "metadata": {},
     "output_type": "execute_result"
    }
   ],
   "source": [
    "new_details =pd.DataFrame( {\n",
    "    \"Model\": \"KNeighborsClassifier\",\n",
    "    \"F1 Score\": [model_f1_score],\n",
    "    \"Accuracy Score\": [model_accuracy_score],\n",
    "    \"Precision\": [model_precision_score],\n",
    "    \"Recall\": [model_recall_score]\n",
    "})\n",
    "model_scores = pd.concat([model_scores, new_details], ignore_index=True)\n",
    "model_scores"
   ]
  },
  {
   "cell_type": "markdown",
   "id": "e498717b-e180-4f06-8a5d-a282fe51c38b",
   "metadata": {},
   "source": [
    "<h2>GradientBoostingClassifier</h2>"
   ]
  },
  {
   "cell_type": "code",
   "execution_count": 82,
   "id": "bda64daa-a907-4dce-86d2-aa49c071e5e7",
   "metadata": {},
   "outputs": [
    {
     "name": "stdout",
     "output_type": "stream",
     "text": [
      " Classification Report - GradientBoostingClassifier Model:\n",
      "               precision    recall  f1-score   support\n",
      "\n",
      "           0       0.90      0.92      0.91       851\n",
      "           1       0.91      0.88      0.90       833\n",
      "           2       0.86      0.88      0.87       579\n",
      "\n",
      "    accuracy                           0.90      2263\n",
      "   macro avg       0.89      0.89      0.89      2263\n",
      "weighted avg       0.90      0.90      0.90      2263\n",
      "\n"
     ]
    }
   ],
   "source": [
    "#Create pipeline for GradientBoostingClassifier model\n",
    "\n",
    "pipeline = Pipeline([\n",
    "    ('scaler', MinMaxScaler()), \n",
    "    ('clf', GradientBoostingClassifier()) \n",
    "])\n",
    "\n",
    "pipeline.fit(x_train_resampled, y_train_resampled)\n",
    "\n",
    "y_pred = pipeline.predict(x_test_stacked)\n",
    "\n",
    "model_accuracy_score = \"{:.4f}\".format(accuracy_score(y_test, y_pred))\n",
    "model_f1_score = \"{:.4f}\".format(f1_score(y_test, y_pred, average='macro'))\n",
    "model_precision_score =  \"{:.4f}\".format(precision_score(y_test, y_pred, average='macro'))\n",
    "model_recall_score =  \"{:.4f}\".format(recall_score(y_test, y_pred, average='macro'))\n",
    "\n",
    "print(\" Classification Report - GradientBoostingClassifier Model:\\n\",classification_report(y_test, y_pred))"
   ]
  },
  {
   "cell_type": "code",
   "execution_count": 85,
   "id": "46f43385-f41d-4e81-8604-79777705145b",
   "metadata": {},
   "outputs": [
    {
     "data": {
      "text/html": [
       "<div>\n",
       "<style scoped>\n",
       "    .dataframe tbody tr th:only-of-type {\n",
       "        vertical-align: middle;\n",
       "    }\n",
       "\n",
       "    .dataframe tbody tr th {\n",
       "        vertical-align: top;\n",
       "    }\n",
       "\n",
       "    .dataframe thead th {\n",
       "        text-align: right;\n",
       "    }\n",
       "</style>\n",
       "<table border=\"1\" class=\"dataframe\">\n",
       "  <thead>\n",
       "    <tr style=\"text-align: right;\">\n",
       "      <th></th>\n",
       "      <th>Model</th>\n",
       "      <th>F1 Score</th>\n",
       "      <th>Accuracy Score</th>\n",
       "      <th>Precision</th>\n",
       "      <th>Recall</th>\n",
       "    </tr>\n",
       "  </thead>\n",
       "  <tbody>\n",
       "    <tr>\n",
       "      <th>0</th>\n",
       "      <td>Random Forest</td>\n",
       "      <td>0.8721</td>\n",
       "      <td>0.8745</td>\n",
       "      <td>0.8731</td>\n",
       "      <td>0.8714</td>\n",
       "    </tr>\n",
       "    <tr>\n",
       "      <th>1</th>\n",
       "      <td>Decision Tree</td>\n",
       "      <td>0.7353</td>\n",
       "      <td>0.7397</td>\n",
       "      <td>0.7364</td>\n",
       "      <td>0.7343</td>\n",
       "    </tr>\n",
       "    <tr>\n",
       "      <th>2</th>\n",
       "      <td>MultinomialNB</td>\n",
       "      <td>0.8289</td>\n",
       "      <td>0.8285</td>\n",
       "      <td>0.8264</td>\n",
       "      <td>0.8332</td>\n",
       "    </tr>\n",
       "    <tr>\n",
       "      <th>3</th>\n",
       "      <td>KNeighborsClassifier</td>\n",
       "      <td>0.8357</td>\n",
       "      <td>0.8378</td>\n",
       "      <td>0.8411</td>\n",
       "      <td>0.8480</td>\n",
       "    </tr>\n",
       "    <tr>\n",
       "      <th>4</th>\n",
       "      <td>GradientBoostingClassifier</td>\n",
       "      <td>0.8928</td>\n",
       "      <td>0.8953</td>\n",
       "      <td>0.8922</td>\n",
       "      <td>0.8936</td>\n",
       "    </tr>\n",
       "  </tbody>\n",
       "</table>\n",
       "</div>"
      ],
      "text/plain": [
       "                        Model F1 Score Accuracy Score Precision  Recall\n",
       "0               Random Forest   0.8721         0.8745    0.8731  0.8714\n",
       "1               Decision Tree   0.7353         0.7397    0.7364  0.7343\n",
       "2               MultinomialNB   0.8289         0.8285    0.8264  0.8332\n",
       "3        KNeighborsClassifier   0.8357         0.8378    0.8411  0.8480\n",
       "4  GradientBoostingClassifier   0.8928         0.8953    0.8922  0.8936"
      ]
     },
     "execution_count": 85,
     "metadata": {},
     "output_type": "execute_result"
    }
   ],
   "source": [
    "new_details =pd.DataFrame( {\n",
    "    \"Model\": \"GradientBoostingClassifier\",\n",
    "    \"F1 Score\": [model_f1_score],\n",
    "    \"Accuracy Score\": [model_accuracy_score],\n",
    "    \"Precision\": [model_precision_score],\n",
    "    \"Recall\": [model_recall_score]\n",
    "})\n",
    "model_scores = pd.concat([model_scores, new_details], ignore_index=True)\n",
    "model_scores"
   ]
  },
  {
   "cell_type": "markdown",
   "id": "b4c2d732-18e0-4954-9747-26102498c355",
   "metadata": {},
   "source": [
    "<h2>Conclusion:</h2>"
   ]
  },
  {
   "cell_type": "code",
   "execution_count": 90,
   "id": "cd34b56e-988f-4d4f-9d00-01f430fc2709",
   "metadata": {},
   "outputs": [
    {
     "data": {
      "text/html": [
       "<div>\n",
       "<style scoped>\n",
       "    .dataframe tbody tr th:only-of-type {\n",
       "        vertical-align: middle;\n",
       "    }\n",
       "\n",
       "    .dataframe tbody tr th {\n",
       "        vertical-align: top;\n",
       "    }\n",
       "\n",
       "    .dataframe thead th {\n",
       "        text-align: right;\n",
       "    }\n",
       "</style>\n",
       "<table border=\"1\" class=\"dataframe\">\n",
       "  <thead>\n",
       "    <tr style=\"text-align: right;\">\n",
       "      <th></th>\n",
       "      <th>Model</th>\n",
       "      <th>F1 Score</th>\n",
       "      <th>Accuracy Score</th>\n",
       "      <th>Precision</th>\n",
       "      <th>Recall</th>\n",
       "    </tr>\n",
       "  </thead>\n",
       "  <tbody>\n",
       "    <tr>\n",
       "      <th>4</th>\n",
       "      <td>GradientBoostingClassifier</td>\n",
       "      <td>0.8928</td>\n",
       "      <td>0.8953</td>\n",
       "      <td>0.8922</td>\n",
       "      <td>0.8936</td>\n",
       "    </tr>\n",
       "    <tr>\n",
       "      <th>0</th>\n",
       "      <td>Random Forest</td>\n",
       "      <td>0.8721</td>\n",
       "      <td>0.8745</td>\n",
       "      <td>0.8731</td>\n",
       "      <td>0.8714</td>\n",
       "    </tr>\n",
       "    <tr>\n",
       "      <th>3</th>\n",
       "      <td>KNeighborsClassifier</td>\n",
       "      <td>0.8357</td>\n",
       "      <td>0.8378</td>\n",
       "      <td>0.8411</td>\n",
       "      <td>0.8480</td>\n",
       "    </tr>\n",
       "    <tr>\n",
       "      <th>2</th>\n",
       "      <td>MultinomialNB</td>\n",
       "      <td>0.8289</td>\n",
       "      <td>0.8285</td>\n",
       "      <td>0.8264</td>\n",
       "      <td>0.8332</td>\n",
       "    </tr>\n",
       "    <tr>\n",
       "      <th>1</th>\n",
       "      <td>Decision Tree</td>\n",
       "      <td>0.7353</td>\n",
       "      <td>0.7397</td>\n",
       "      <td>0.7364</td>\n",
       "      <td>0.7343</td>\n",
       "    </tr>\n",
       "  </tbody>\n",
       "</table>\n",
       "</div>"
      ],
      "text/plain": [
       "                        Model F1 Score Accuracy Score Precision  Recall\n",
       "4  GradientBoostingClassifier   0.8928         0.8953    0.8922  0.8936\n",
       "0               Random Forest   0.8721         0.8745    0.8731  0.8714\n",
       "3        KNeighborsClassifier   0.8357         0.8378    0.8411  0.8480\n",
       "2               MultinomialNB   0.8289         0.8285    0.8264  0.8332\n",
       "1               Decision Tree   0.7353         0.7397    0.7364  0.7343"
      ]
     },
     "execution_count": 90,
     "metadata": {},
     "output_type": "execute_result"
    }
   ],
   "source": [
    "model_scores.sort_values(by=[\"Accuracy Score\"], ascending=False)"
   ]
  },
  {
   "cell_type": "markdown",
   "id": "1642fd75-03ac-40f8-be8a-6ddc1d4e3c8a",
   "metadata": {},
   "source": [
    "`GradientBoostingClassifier` is giving a best results in all the metrics"
   ]
  },
  {
   "cell_type": "code",
   "execution_count": 91,
   "id": "4e972fe5-2f49-4707-9d12-aee308ee8c7e",
   "metadata": {},
   "outputs": [
    {
     "data": {
      "text/plain": [
       "array([[782,  38,  31],\n",
       "       [ 49, 734,  50],\n",
       "       [ 35,  34, 510]], dtype=int64)"
      ]
     },
     "execution_count": 91,
     "metadata": {},
     "output_type": "execute_result"
    }
   ],
   "source": [
    "#Confusion Matrix\n",
    "cm = confusion_matrix(y_test, y_pred)\n",
    "cm\n",
    "\n"
   ]
  },
  {
   "cell_type": "code",
   "execution_count": 97,
   "id": "88c818b1-67ea-4954-92e8-1fa2c283a811",
   "metadata": {},
   "outputs": [
    {
     "data": {
      "image/png": "[encoded data removed]",
      "text/plain": [
       "<Figure size 700x500 with 2 Axes>"
      ]
     },
     "metadata": {},
     "output_type": "display_data"
    }
   ],
   "source": [
    "plt.figure(figsize = (7,5))\n",
    "sns.heatmap(cm, annot=True, fmt='d')\n",
    "plt.title(\"Confusion Matrix for GradientBoostingClassifier results\")\n",
    "plt.xlabel('Prediction')\n",
    "plt.ylabel('Truth')\n",
    "plt.show()"
   ]
  },
  {
   "cell_type": "code",
   "execution_count": null,
   "id": "3ed88a03-1ab8-4351-9b92-08f5bd08a9cd",
   "metadata": {},
   "outputs": [],
   "source": []
  }
 ],
 "metadata": {
  "kernelspec": {
   "display_name": "Python 3 (ipykernel)",
   "language": "python",
   "name": "python3"
  },
  "language_info": {
   "codemirror_mode": {
    "name": "ipython",
    "version": 3
   },
   "file_extension": ".py",
   "mimetype": "text/x-python",
   "name": "python",
   "nbconvert_exporter": "python",
   "pygments_lexer": "ipython3",
   "version": "3.11.5"
  }
 },
 "nbformat": 4,
 "nbformat_minor": 5
}
