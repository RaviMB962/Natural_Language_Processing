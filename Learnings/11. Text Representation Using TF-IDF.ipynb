{
 "cells": [
  {
   "cell_type": "markdown",
   "id": "841fdaf0-7c2f-4221-9b68-f6bd95ed2104",
   "metadata": {},
   "source": [
    "<h2 align=\"center\">Text Representation Using TF-IDF</h2>"
   ]
  },
  {
   "cell_type": "markdown",
   "id": "78c14798-75fd-426d-94b2-e3066ea74b74",
   "metadata": {},
   "source": [
    "# What is TF-IDF?\n",
    "\n",
    "* TF stands for `Term Frequency` and denotes the ratio of number of times a particular word appeared in a Document to total number of words in the document.\n",
    "\n",
    "            Term Frequency(TF) = [number of times word appeared / total no of words in a document]\n",
    "\n",
    "* Term Frequency values ranges between 0 and 1. If a word occurs more number of times, then it's value will be close to 1.\n",
    "* IDF stands for `Inverse Document Frequency` and denotes the log of ratio of total number of documents/datapoints in the whole dataset to the number of documents that contains the particular word.\n",
    "\n",
    "            Inverse Document Frequency(IDF) = [log(Total number of documents / number of documents that contains the word)]\n",
    "\n",
    "* In IDF, if a word occured in more number of documents and is common across all documents, then it's value will be less and ratio will approaches to 0.\n",
    "* So, `TF-IDF = Term Frequency(TF) * Inverse Document Frequency(IDF)`"
   ]
  },
  {
   "cell_type": "code",
   "execution_count": 1,
   "id": "d8fc6785-e68d-4f99-999e-ce7ef3c694e5",
   "metadata": {},
   "outputs": [],
   "source": [
    "from sklearn.feature_extraction.text import TfidfVectorizer\n",
    "\n",
    "corpus = [\n",
    "    \"Thor eating pizza, Loki is eating pizza, Ironman ate pizza already\",\n",
    "    \"Apple is announcing new iphone tomorrow\",\n",
    "    \"Tesla is announcing new model-3 tomorrow\",\n",
    "    \"Google is announcing new pixel-6 tomorrow\",\n",
    "    \"Microsoft is announcing new surface tomorrow\",\n",
    "    \"Amazon is announcing new eco-dot tomorrow\",\n",
    "    \"I am eating biryani and you are eating grapes\"\n",
    "]"
   ]
  },
  {
   "cell_type": "code",
   "execution_count": 5,
   "id": "5ee810b0-62d6-4688-8914-fcf44a405b6d",
   "metadata": {},
   "outputs": [
    {
     "name": "stdout",
     "output_type": "stream",
     "text": [
      "{'thor': 25, 'eating': 10, 'pizza': 22, 'loki': 17, 'is': 16, 'ironman': 15, 'ate': 7, 'already': 0, 'apple': 5, 'announcing': 4, 'new': 20, 'iphone': 14, 'tomorrow': 26, 'tesla': 24, 'model': 19, 'google': 12, 'pixel': 21, 'microsoft': 18, 'surface': 23, 'amazon': 2, 'eco': 11, 'dot': 9, 'am': 1, 'biryani': 8, 'and': 3, 'you': 27, 'are': 6, 'grapes': 13}\n"
     ]
    }
   ],
   "source": [
    "v= TfidfVectorizer()\n",
    "transformed_output = v.fit_transform(corpus)\n",
    "print(v.vocabulary_)"
   ]
  },
  {
   "cell_type": "code",
   "execution_count": 8,
   "id": "e1484240-74db-4e05-8327-08962ff3865e",
   "metadata": {},
   "outputs": [
    {
     "name": "stdout",
     "output_type": "stream",
     "text": [
      "already: 2.386294361119891\n",
      "am: 2.386294361119891\n",
      "amazon: 2.386294361119891\n",
      "and: 2.386294361119891\n",
      "announcing: 1.2876820724517808\n",
      "apple: 2.386294361119891\n",
      "are: 2.386294361119891\n",
      "ate: 2.386294361119891\n",
      "biryani: 2.386294361119891\n",
      "dot: 2.386294361119891\n",
      "eating: 1.9808292530117262\n",
      "eco: 2.386294361119891\n",
      "google: 2.386294361119891\n",
      "grapes: 2.386294361119891\n",
      "iphone: 2.386294361119891\n",
      "ironman: 2.386294361119891\n",
      "is: 1.1335313926245225\n",
      "loki: 2.386294361119891\n",
      "microsoft: 2.386294361119891\n",
      "model: 2.386294361119891\n",
      "new: 1.2876820724517808\n",
      "pixel: 2.386294361119891\n",
      "pizza: 2.386294361119891\n",
      "surface: 2.386294361119891\n",
      "tesla: 2.386294361119891\n",
      "thor: 2.386294361119891\n",
      "tomorrow: 1.2876820724517808\n",
      "you: 2.386294361119891\n"
     ]
    }
   ],
   "source": [
    "all_feature_names = v.get_feature_names_out()\n",
    "\n",
    "for word in all_feature_names:\n",
    "    indx = v.vocabulary_.get(word)\n",
    "    print(f\"{word}: {v.idf_[indx]}\")"
   ]
  },
  {
   "cell_type": "code",
   "execution_count": 9,
   "id": "dcbdaa7b-60cc-4840-b31e-f89f74298340",
   "metadata": {},
   "outputs": [
    {
     "data": {
      "text/plain": [
       "['Thor eating pizza, Loki is eating pizza, Ironman ate pizza already',\n",
       " 'Apple is announcing new iphone tomorrow']"
      ]
     },
     "execution_count": 9,
     "metadata": {},
     "output_type": "execute_result"
    }
   ],
   "source": [
    "corpus[:2]"
   ]
  },
  {
   "cell_type": "code",
   "execution_count": 12,
   "id": "ba1b09c3-4b07-4290-aadc-c49d9167e003",
   "metadata": {},
   "outputs": [
    {
     "data": {
      "text/plain": [
       "array([[0.24266547, 0.        , 0.        , 0.        , 0.        ,\n",
       "        0.        , 0.        , 0.24266547, 0.        , 0.        ,\n",
       "        0.40286636, 0.        , 0.        , 0.        , 0.        ,\n",
       "        0.24266547, 0.11527033, 0.24266547, 0.        , 0.        ,\n",
       "        0.        , 0.        , 0.72799642, 0.        , 0.        ,\n",
       "        0.24266547, 0.        , 0.        ],\n",
       "       [0.        , 0.        , 0.        , 0.        , 0.30652086,\n",
       "        0.5680354 , 0.        , 0.        , 0.        , 0.        ,\n",
       "        0.        , 0.        , 0.        , 0.        , 0.5680354 ,\n",
       "        0.        , 0.26982671, 0.        , 0.        , 0.        ,\n",
       "        0.30652086, 0.        , 0.        , 0.        , 0.        ,\n",
       "        0.        , 0.30652086, 0.        ]])"
      ]
     },
     "execution_count": 12,
     "metadata": {},
     "output_type": "execute_result"
    }
   ],
   "source": [
    "transformed_output.toarray()[:2]"
   ]
  },
  {
   "cell_type": "markdown",
   "id": "694f01f1-1c3b-4095-aa46-fb621076c38e",
   "metadata": {},
   "source": [
    "# Work On E-Commerce Dataset\n",
    "\n",
    "Dataset: https://www.kaggle.com/datasets/saurabhshahane/ecommerce-text-classification"
   ]
  },
  {
   "cell_type": "code",
   "execution_count": 159,
   "id": "93ad9022-0554-4891-956d-1e9948a8b84e",
   "metadata": {},
   "outputs": [],
   "source": [
    "import pandas as pd\n",
    "import matplotlib.pyplot as plt\n",
    "import seaborn as sns\n",
    "import spacy\n",
    "from sklearn.feature_extraction.text import TfidfVectorizer\n",
    "from sklearn.model_selection import train_test_split\n",
    "from sklearn.ensemble import RandomForestClassifier\n",
    "from  sklearn.neighbors import KNeighborsClassifier\n",
    "from sklearn.naive_bayes import MultinomialNB\n",
    "from sklearn.pipeline import Pipeline\n",
    "from sklearn.metrics import classification_report\n",
    "from sklearn.metrics import confusion_matrix"
   ]
  },
  {
   "cell_type": "code",
   "execution_count": 127,
   "id": "1b42ee8a-89c0-44dd-9bf6-c7f78a811f78",
   "metadata": {},
   "outputs": [
    {
     "data": {
      "text/html": [
       "<div>\n",
       "<style scoped>\n",
       "    .dataframe tbody tr th:only-of-type {\n",
       "        vertical-align: middle;\n",
       "    }\n",
       "\n",
       "    .dataframe tbody tr th {\n",
       "        vertical-align: top;\n",
       "    }\n",
       "\n",
       "    .dataframe thead th {\n",
       "        text-align: right;\n",
       "    }\n",
       "</style>\n",
       "<table border=\"1\" class=\"dataframe\">\n",
       "  <thead>\n",
       "    <tr style=\"text-align: right;\">\n",
       "      <th></th>\n",
       "      <th>Text</th>\n",
       "      <th>label</th>\n",
       "    </tr>\n",
       "  </thead>\n",
       "  <tbody>\n",
       "    <tr>\n",
       "      <th>0</th>\n",
       "      <td>Urban Ladder Eisner Low Back Study-Office Comp...</td>\n",
       "      <td>Household</td>\n",
       "    </tr>\n",
       "    <tr>\n",
       "      <th>1</th>\n",
       "      <td>Contrast living Wooden Decorative Box,Painted ...</td>\n",
       "      <td>Household</td>\n",
       "    </tr>\n",
       "    <tr>\n",
       "      <th>2</th>\n",
       "      <td>IO Crest SY-PCI40010 PCI RAID Host Controller ...</td>\n",
       "      <td>Electronics</td>\n",
       "    </tr>\n",
       "    <tr>\n",
       "      <th>3</th>\n",
       "      <td>ISAKAA Baby Socks from Just Born to 8 Years- P...</td>\n",
       "      <td>Clothing &amp; Accessories</td>\n",
       "    </tr>\n",
       "    <tr>\n",
       "      <th>4</th>\n",
       "      <td>Indira Designer Women's Art Mysore Silk Saree ...</td>\n",
       "      <td>Clothing &amp; Accessories</td>\n",
       "    </tr>\n",
       "  </tbody>\n",
       "</table>\n",
       "</div>"
      ],
      "text/plain": [
       "                                                Text                   label\n",
       "0  Urban Ladder Eisner Low Back Study-Office Comp...               Household\n",
       "1  Contrast living Wooden Decorative Box,Painted ...               Household\n",
       "2  IO Crest SY-PCI40010 PCI RAID Host Controller ...             Electronics\n",
       "3  ISAKAA Baby Socks from Just Born to 8 Years- P...  Clothing & Accessories\n",
       "4  Indira Designer Women's Art Mysore Silk Saree ...  Clothing & Accessories"
      ]
     },
     "execution_count": 127,
     "metadata": {},
     "output_type": "execute_result"
    }
   ],
   "source": [
    "df_balanced = pd.read_csv(\"Ecommerce_data.csv\")\n",
    "df_balanced.head()"
   ]
  },
  {
   "cell_type": "code",
   "execution_count": 128,
   "id": "3c9ad2d6-6006-445f-9a80-cb8e3530199b",
   "metadata": {},
   "outputs": [
    {
     "data": {
      "text/plain": [
       "(24000, 2)"
      ]
     },
     "execution_count": 128,
     "metadata": {},
     "output_type": "execute_result"
    }
   ],
   "source": [
    "df_balanced.shape"
   ]
  },
  {
   "cell_type": "code",
   "execution_count": 129,
   "id": "90cc6405-960a-4859-a25e-6f6b7aded0c8",
   "metadata": {},
   "outputs": [
    {
     "data": {
      "text/plain": [
       "Text     0\n",
       "label    0\n",
       "dtype: int64"
      ]
     },
     "execution_count": 129,
     "metadata": {},
     "output_type": "execute_result"
    }
   ],
   "source": [
    "df_balanced.isnull().sum()"
   ]
  },
  {
   "cell_type": "raw",
   "id": "5a7a34c2-94ab-4c3b-8d02-83267ba5105f",
   "metadata": {},
   "source": [
    "df_balanced = df.dropna()"
   ]
  },
  {
   "cell_type": "code",
   "execution_count": 130,
   "id": "beebc498-dda6-41b7-a0ba-4e59d9987949",
   "metadata": {},
   "outputs": [
    {
     "data": {
      "text/plain": [
       "(24000, 2)"
      ]
     },
     "execution_count": 130,
     "metadata": {},
     "output_type": "execute_result"
    }
   ],
   "source": [
    "df_balanced.shape"
   ]
  },
  {
   "cell_type": "code",
   "execution_count": 131,
   "id": "0b820cb9-be53-4bf1-b365-a7c857572842",
   "metadata": {},
   "outputs": [
    {
     "data": {
      "text/plain": [
       "label\n",
       "Household                 6000\n",
       "Electronics               6000\n",
       "Clothing & Accessories    6000\n",
       "Books                     6000\n",
       "Name: count, dtype: int64"
      ]
     },
     "execution_count": 131,
     "metadata": {},
     "output_type": "execute_result"
    }
   ],
   "source": [
    "value_counts = pd.Series(df_balanced[\"label\"].value_counts())\n",
    "value_counts"
   ]
  },
  {
   "cell_type": "code",
   "execution_count": 132,
   "id": "5f221039-8054-43ea-bc0f-038c767bae09",
   "metadata": {},
   "outputs": [
    {
     "data": {
      "image/png": "[encoded data removed]",
      "text/plain": [
       "<Figure size 640x480 with 1 Axes>"
      ]
     },
     "metadata": {},
     "output_type": "display_data"
    }
   ],
   "source": [
    "value_counts.plot(kind=\"bar\",  fontsize = 10.00)\n",
    "plt.xlabel(\"Label\", fontsize=10)\n",
    "plt.ylabel(\"Value Counts\", fontsize=10)\n",
    "plt.title(\"Values Counts in each Label\", fontsize=20 )\n",
    "plt.show()"
   ]
  },
  {
   "cell_type": "raw",
   "id": "041327e2-bd22-4fa9-a61c-069f209b6dad",
   "metadata": {},
   "source": [
    "for label, count in value_counts.items():\n",
    "    print(\"Label:\", label ,\" | \", count,\" | \", \"Percentage\", \"{:.2f}\".format(count/df.shape[0]*100),\"%\")"
   ]
  },
  {
   "cell_type": "markdown",
   "id": "c6e3cdfe-0ede-487e-8050-98f0f3de27b3",
   "metadata": {},
   "source": [
    "Here `Household` having more numbers of data, so we need to make tgis imbalanced dataset to balaned one.\n",
    "\n",
    "**Handle Imbalance**\n",
    "\n",
    "There are more techniques to this , here we are ussing `under sampling` method."
   ]
  },
  {
   "cell_type": "raw",
   "id": "c9ddc7e9-a3ca-45a1-b119-572e3972d24d",
   "metadata": {},
   "source": [
    "min_sample  = 5000 # we have these many Clothing & Accessories articles and Clothing & Accessories is our minority class\n",
    "\n",
    "df_Household = df[df.label ==\"Household\"].sample(min_sample, random_state=200)\n",
    "df_Books = df[df.label ==\"Books\"].sample(min_sample, random_state=200)\n",
    "df_Electronics = df[df.label ==\"Electronics\"].sample(min_sample, random_state=2022)\n",
    "df_Clothing_Accessories = df[df.label ==\"Clothing & Accessories\"].sample(min_sample, random_state=2022)"
   ]
  },
  {
   "cell_type": "raw",
   "id": "3731217a-a912-42f9-86f4-fdc1b7e65280",
   "metadata": {},
   "source": [
    "df_balanced = pd.concat([df_Household, df_Books, df_Electronics, df_Clothing_Accessories], axis=0)\n",
    "df_balanced.head()"
   ]
  },
  {
   "cell_type": "raw",
   "id": "39846200-e322-4c66-bbd9-d27c485860f3",
   "metadata": {},
   "source": [
    "df_balanced.shape"
   ]
  },
  {
   "cell_type": "code",
   "execution_count": 133,
   "id": "5f67422c-e2d6-433f-bbd5-86a299b3d047",
   "metadata": {},
   "outputs": [
    {
     "data": {
      "text/plain": [
       "label\n",
       "Household                 6000\n",
       "Electronics               6000\n",
       "Clothing & Accessories    6000\n",
       "Books                     6000\n",
       "Name: count, dtype: int64"
      ]
     },
     "execution_count": 133,
     "metadata": {},
     "output_type": "execute_result"
    }
   ],
   "source": [
    "df_balanced.label.value_counts()"
   ]
  },
  {
   "cell_type": "markdown",
   "id": "6ddfbf9d-d528-4114-8cf3-fc03d67bd686",
   "metadata": {},
   "source": [
    "Now it's balanced"
   ]
  },
  {
   "cell_type": "code",
   "execution_count": 134,
   "id": "a2be29f4-50fd-465b-845d-72ceb66aa2f9",
   "metadata": {},
   "outputs": [],
   "source": [
    "df_balanced[\"label\"] = df_balanced.label.replace({\"Household\": 0, \"Books\":1, \"Electronics\":2, \"Clothing & Accessories\":3})"
   ]
  },
  {
   "cell_type": "code",
   "execution_count": 135,
   "id": "07b704e9-2d91-4c1d-8835-81de66aecefe",
   "metadata": {},
   "outputs": [
    {
     "data": {
      "text/html": [
       "<div>\n",
       "<style scoped>\n",
       "    .dataframe tbody tr th:only-of-type {\n",
       "        vertical-align: middle;\n",
       "    }\n",
       "\n",
       "    .dataframe tbody tr th {\n",
       "        vertical-align: top;\n",
       "    }\n",
       "\n",
       "    .dataframe thead th {\n",
       "        text-align: right;\n",
       "    }\n",
       "</style>\n",
       "<table border=\"1\" class=\"dataframe\">\n",
       "  <thead>\n",
       "    <tr style=\"text-align: right;\">\n",
       "      <th></th>\n",
       "      <th>Text</th>\n",
       "      <th>label</th>\n",
       "    </tr>\n",
       "  </thead>\n",
       "  <tbody>\n",
       "    <tr>\n",
       "      <th>0</th>\n",
       "      <td>Urban Ladder Eisner Low Back Study-Office Comp...</td>\n",
       "      <td>0</td>\n",
       "    </tr>\n",
       "    <tr>\n",
       "      <th>1</th>\n",
       "      <td>Contrast living Wooden Decorative Box,Painted ...</td>\n",
       "      <td>0</td>\n",
       "    </tr>\n",
       "    <tr>\n",
       "      <th>2</th>\n",
       "      <td>IO Crest SY-PCI40010 PCI RAID Host Controller ...</td>\n",
       "      <td>2</td>\n",
       "    </tr>\n",
       "    <tr>\n",
       "      <th>3</th>\n",
       "      <td>ISAKAA Baby Socks from Just Born to 8 Years- P...</td>\n",
       "      <td>3</td>\n",
       "    </tr>\n",
       "    <tr>\n",
       "      <th>4</th>\n",
       "      <td>Indira Designer Women's Art Mysore Silk Saree ...</td>\n",
       "      <td>3</td>\n",
       "    </tr>\n",
       "  </tbody>\n",
       "</table>\n",
       "</div>"
      ],
      "text/plain": [
       "                                                Text  label\n",
       "0  Urban Ladder Eisner Low Back Study-Office Comp...      0\n",
       "1  Contrast living Wooden Decorative Box,Painted ...      0\n",
       "2  IO Crest SY-PCI40010 PCI RAID Host Controller ...      2\n",
       "3  ISAKAA Baby Socks from Just Born to 8 Years- P...      3\n",
       "4  Indira Designer Women's Art Mysore Silk Saree ...      3"
      ]
     },
     "execution_count": 135,
     "metadata": {},
     "output_type": "execute_result"
    }
   ],
   "source": [
    "df_balanced.head()"
   ]
  },
  {
   "cell_type": "code",
   "execution_count": 136,
   "id": "9e619c2e-d664-429b-936a-7a21e1057e8d",
   "metadata": {},
   "outputs": [],
   "source": [
    "#Train test split\n",
    "\n",
    "x_train, x_test, y_train, y_test = train_test_split(df_balanced[\"Text\"], df_balanced[\"label\"], test_size=0.2, random_state=52,\n",
    "                                                    stratify=df_balanced.label)"
   ]
  },
  {
   "cell_type": "code",
   "execution_count": 137,
   "id": "b8cbd049-0f58-4491-b632-4ebf7698c812",
   "metadata": {},
   "outputs": [
    {
     "name": "stdout",
     "output_type": "stream",
     "text": [
      "X_train Shape (19200,)\n",
      "x_test Shape (4800,)\n",
      "y_train Shape (19200,)\n",
      "y_test Shape (4800,)\n"
     ]
    }
   ],
   "source": [
    "print(\"X_train Shape\", x_train.shape)\n",
    "print(\"x_test Shape\", x_test.shape)\n",
    "print(\"y_train Shape\", y_train.shape)\n",
    "print(\"y_test Shape\", y_test.shape)"
   ]
  },
  {
   "cell_type": "code",
   "execution_count": 138,
   "id": "70ebafb2-99bf-41c1-bc48-965b558c9635",
   "metadata": {},
   "outputs": [
    {
     "data": {
      "text/plain": [
       "label\n",
       "3    4800\n",
       "1    4800\n",
       "0    4800\n",
       "2    4800\n",
       "Name: count, dtype: int64"
      ]
     },
     "execution_count": 138,
     "metadata": {},
     "output_type": "execute_result"
    }
   ],
   "source": [
    "y_train.value_counts()"
   ]
  },
  {
   "cell_type": "code",
   "execution_count": 139,
   "id": "01d98431-7c2f-45a1-bcb6-fdb0de3a3c3c",
   "metadata": {},
   "outputs": [
    {
     "data": {
      "text/plain": [
       "label\n",
       "2    1200\n",
       "3    1200\n",
       "0    1200\n",
       "1    1200\n",
       "Name: count, dtype: int64"
      ]
     },
     "execution_count": 139,
     "metadata": {},
     "output_type": "execute_result"
    }
   ],
   "source": [
    "y_test.value_counts()"
   ]
  },
  {
   "cell_type": "markdown",
   "id": "a9a90d2a-104b-4a70-be66-b3552d08b652",
   "metadata": {},
   "source": [
    "Perfectly balanced !!!"
   ]
  },
  {
   "cell_type": "markdown",
   "id": "c44c33f4-dc75-4ccb-8db8-f27336acde2b",
   "metadata": {},
   "source": [
    "<h2>KNN Classifier</h2>"
   ]
  },
  {
   "cell_type": "code",
   "execution_count": 140,
   "id": "4e05064c-fa5e-4772-8d64-479cabc9bb5f",
   "metadata": {},
   "outputs": [],
   "source": [
    "knn_model = Pipeline([\n",
    "    (\"vectorizer_tfidf\", TfidfVectorizer()),\n",
    "    (\"KNN\", KNeighborsClassifier())\n",
    "    ])\n",
    "\n",
    "knn_model.fit(x_train, y_train)\n",
    "\n",
    "y_predict = knn_model.predict(x_test)"
   ]
  },
  {
   "cell_type": "code",
   "execution_count": 141,
   "id": "7eaec609-8f8d-469e-bc7e-ba3c2e90b9cf",
   "metadata": {},
   "outputs": [
    {
     "name": "stdout",
     "output_type": "stream",
     "text": [
      "Classification Report usong KNN:\n",
      "               precision    recall  f1-score   support\n",
      "\n",
      "           0       0.94      0.96      0.95      1200\n",
      "           1       0.97      0.95      0.96      1200\n",
      "           2       0.96      0.97      0.97      1200\n",
      "           3       0.98      0.98      0.98      1200\n",
      "\n",
      "    accuracy                           0.96      4800\n",
      "   macro avg       0.96      0.96      0.96      4800\n",
      "weighted avg       0.96      0.96      0.96      4800\n",
      "\n"
     ]
    }
   ],
   "source": [
    "print(\"Classification Report usong KNN:\\n\", classification_report(y_test, y_predict))"
   ]
  },
  {
   "cell_type": "code",
   "execution_count": 142,
   "id": "81a742bc-12f8-4edf-b81e-36e4263cdbba",
   "metadata": {},
   "outputs": [
    {
     "name": "stdout",
     "output_type": "stream",
     "text": [
      "Truth:\n",
      " 18162    2\n",
      "19148    3\n",
      "11688    0\n",
      "19768    2\n",
      "1480     1\n",
      "Name: label, dtype: int64\n",
      "Predicted: [2 3 0 2 1]\n"
     ]
    }
   ],
   "source": [
    "print(\"Truth:\\n\",y_test[:5])\n",
    "print(\"Predicted:\",y_predict[:5])"
   ]
  },
  {
   "cell_type": "markdown",
   "id": "f8b535a9-681a-4133-be3c-6dfab929fd2c",
   "metadata": {},
   "source": [
    "<h2>Multinomial Naive Bayes</h2>"
   ]
  },
  {
   "cell_type": "code",
   "execution_count": 143,
   "id": "5031864e-81d7-404f-90bc-74f0cf7ed2f3",
   "metadata": {},
   "outputs": [],
   "source": [
    "nb_model = Pipeline([\n",
    "    (\"vectorizer_tfidf\", TfidfVectorizer()),\n",
    "    (\"KNN\", MultinomialNB())\n",
    "    ])\n",
    "\n",
    "nb_model.fit(x_train, y_train)\n",
    "\n",
    "y_predict = nb_model.predict(x_test)"
   ]
  },
  {
   "cell_type": "code",
   "execution_count": 144,
   "id": "f62fbb8a-7a37-4b61-a8c3-e52530403f96",
   "metadata": {},
   "outputs": [
    {
     "name": "stdout",
     "output_type": "stream",
     "text": [
      "Classification Report usong Multinomial Naive Bayes:\n",
      "               precision    recall  f1-score   support\n",
      "\n",
      "           0       0.92      0.98      0.95      1200\n",
      "           1       0.99      0.92      0.95      1200\n",
      "           2       0.97      0.97      0.97      1200\n",
      "           3       0.98      0.99      0.98      1200\n",
      "\n",
      "    accuracy                           0.96      4800\n",
      "   macro avg       0.96      0.96      0.96      4800\n",
      "weighted avg       0.96      0.96      0.96      4800\n",
      "\n"
     ]
    }
   ],
   "source": [
    "print(\"Classification Report usong Multinomial Naive Bayes:\\n\", classification_report(y_test, y_predict))"
   ]
  },
  {
   "cell_type": "code",
   "execution_count": 145,
   "id": "47172afb-ffd7-43c1-bde3-160c1c33493d",
   "metadata": {},
   "outputs": [
    {
     "name": "stdout",
     "output_type": "stream",
     "text": [
      "Truth:\n",
      " 18162    2\n",
      "19148    3\n",
      "11688    0\n",
      "19768    2\n",
      "1480     1\n",
      "Name: label, dtype: int64\n",
      "Predicted: [2 3 0 2 1]\n"
     ]
    }
   ],
   "source": [
    "print(\"Truth:\\n\",y_test[:5])\n",
    "print(\"Predicted:\",y_predict[:5])"
   ]
  },
  {
   "cell_type": "markdown",
   "id": "2706939a-e207-40f0-8978-14a29c08061a",
   "metadata": {},
   "source": [
    "<h2>Random Forest</h2>"
   ]
  },
  {
   "cell_type": "code",
   "execution_count": 146,
   "id": "79cb2fb3-2abc-47ad-b47a-32339f78435c",
   "metadata": {},
   "outputs": [],
   "source": [
    "rf_model = Pipeline([\n",
    "    (\"vectorizer_tfidf\", TfidfVectorizer()),\n",
    "    (\"RF\", MultinomialNB())\n",
    "    ])\n",
    "\n",
    "rf_model.fit(x_train, y_train)\n",
    "\n",
    "y_predict = rf_model.predict(x_test)"
   ]
  },
  {
   "cell_type": "code",
   "execution_count": 147,
   "id": "2d1ae5b5-986d-4a12-a70e-25640b3fea62",
   "metadata": {},
   "outputs": [
    {
     "name": "stdout",
     "output_type": "stream",
     "text": [
      "Classification Report usong Random Forest:\n",
      "               precision    recall  f1-score   support\n",
      "\n",
      "           0       0.92      0.98      0.95      1200\n",
      "           1       0.99      0.92      0.95      1200\n",
      "           2       0.97      0.97      0.97      1200\n",
      "           3       0.98      0.99      0.98      1200\n",
      "\n",
      "    accuracy                           0.96      4800\n",
      "   macro avg       0.96      0.96      0.96      4800\n",
      "weighted avg       0.96      0.96      0.96      4800\n",
      "\n"
     ]
    }
   ],
   "source": [
    "print(\"Classification Report usong Random Forest:\\n\", classification_report(y_test, y_predict))"
   ]
  },
  {
   "cell_type": "code",
   "execution_count": 148,
   "id": "79634875-6011-4758-94a8-128cee2561ce",
   "metadata": {},
   "outputs": [
    {
     "name": "stdout",
     "output_type": "stream",
     "text": [
      "Truth:\n",
      " 18162    2\n",
      "19148    3\n",
      "11688    0\n",
      "19768    2\n",
      "1480     1\n",
      "Name: label, dtype: int64\n",
      "Predicted: [2 3 0 2 1]\n"
     ]
    }
   ],
   "source": [
    "print(\"Truth:\\n\",y_test[:5])\n",
    "print(\"Predicted:\",y_predict[:5])"
   ]
  },
  {
   "cell_type": "markdown",
   "id": "0e7600b3-9a64-472e-9cb4-ca85b63ce618",
   "metadata": {},
   "source": [
    "<h2 align= \"center\">Text Pre Process</h2>"
   ]
  },
  {
   "cell_type": "code",
   "execution_count": 149,
   "id": "eb4fa84b-daaa-4c73-b88a-60595e83c85e",
   "metadata": {},
   "outputs": [],
   "source": [
    "nlp =spacy.load(\"en_core_web_sm\")\n",
    "\n",
    "\n",
    "def preprocess(text):\n",
    "    \"\"\"\n",
    "    Input: Text Data\n",
    "    Output: Filtred text data which is removed stop words, punctuaions and gtting base word from raw text\n",
    "\n",
    "    Docstring: Using spacy library by iterating through the raw text , removing stop words ,  punctations & get final lemmtized words\n",
    "    \"\"\"\n",
    "    doc = nlp(text)\n",
    "    \n",
    "    filtered_text = []\n",
    "\n",
    "    for token in doc:\n",
    "        if token.is_stop and token.is_punct:\n",
    "            continue\n",
    "        filtered_text.append(token.lemma_)\n",
    "    return \" \".join(filtered_text)"
   ]
  },
  {
   "cell_type": "code",
   "execution_count": 151,
   "id": "b11b310f-74d4-4357-97e7-5f3ae5d689c2",
   "metadata": {},
   "outputs": [
    {
     "data": {
      "text/html": [
       "<div>\n",
       "<style scoped>\n",
       "    .dataframe tbody tr th:only-of-type {\n",
       "        vertical-align: middle;\n",
       "    }\n",
       "\n",
       "    .dataframe tbody tr th {\n",
       "        vertical-align: top;\n",
       "    }\n",
       "\n",
       "    .dataframe thead th {\n",
       "        text-align: right;\n",
       "    }\n",
       "</style>\n",
       "<table border=\"1\" class=\"dataframe\">\n",
       "  <thead>\n",
       "    <tr style=\"text-align: right;\">\n",
       "      <th></th>\n",
       "      <th>Text</th>\n",
       "      <th>label</th>\n",
       "      <th>preprocessed_text</th>\n",
       "    </tr>\n",
       "  </thead>\n",
       "  <tbody>\n",
       "    <tr>\n",
       "      <th>0</th>\n",
       "      <td>Urban Ladder Eisner Low Back Study-Office Comp...</td>\n",
       "      <td>0</td>\n",
       "      <td>Urban Ladder Eisner low Back Study - Office Co...</td>\n",
       "    </tr>\n",
       "    <tr>\n",
       "      <th>1</th>\n",
       "      <td>Contrast living Wooden Decorative Box,Painted ...</td>\n",
       "      <td>0</td>\n",
       "      <td>contrast live Wooden Decorative Box , Painted ...</td>\n",
       "    </tr>\n",
       "    <tr>\n",
       "      <th>2</th>\n",
       "      <td>IO Crest SY-PCI40010 PCI RAID Host Controller ...</td>\n",
       "      <td>2</td>\n",
       "      <td>IO Crest SY - PCI40010 PCI raid Host Controlle...</td>\n",
       "    </tr>\n",
       "    <tr>\n",
       "      <th>3</th>\n",
       "      <td>ISAKAA Baby Socks from Just Born to 8 Years- P...</td>\n",
       "      <td>3</td>\n",
       "      <td>ISAKAA Baby Socks from just bear to 8 Years- P...</td>\n",
       "    </tr>\n",
       "    <tr>\n",
       "      <th>4</th>\n",
       "      <td>Indira Designer Women's Art Mysore Silk Saree ...</td>\n",
       "      <td>3</td>\n",
       "      <td>Indira Designer Women 's Art Mysore Silk Saree...</td>\n",
       "    </tr>\n",
       "  </tbody>\n",
       "</table>\n",
       "</div>"
      ],
      "text/plain": [
       "                                                Text  label                                  preprocessed_text\n",
       "0  Urban Ladder Eisner Low Back Study-Office Comp...      0  Urban Ladder Eisner low Back Study - Office Co...\n",
       "1  Contrast living Wooden Decorative Box,Painted ...      0  contrast live Wooden Decorative Box , Painted ...\n",
       "2  IO Crest SY-PCI40010 PCI RAID Host Controller ...      2  IO Crest SY - PCI40010 PCI raid Host Controlle...\n",
       "3  ISAKAA Baby Socks from Just Born to 8 Years- P...      3  ISAKAA Baby Socks from just bear to 8 Years- P...\n",
       "4  Indira Designer Women's Art Mysore Silk Saree ...      3  Indira Designer Women 's Art Mysore Silk Saree..."
      ]
     },
     "execution_count": 151,
     "metadata": {},
     "output_type": "execute_result"
    }
   ],
   "source": [
    "#create column for filtered text\n",
    "\n",
    "df_balanced[\"preprocessed_text\"] = df_balanced.Text.apply(preprocess)\n",
    "df_balanced.head()"
   ]
  },
  {
   "cell_type": "code",
   "execution_count": 152,
   "id": "abf38062-a47f-4d72-a34b-008a75f89b47",
   "metadata": {},
   "outputs": [],
   "source": [
    "#Train test split\n",
    "\n",
    "x_train, x_test, y_train, y_test = train_test_split(df_balanced[\"preprocessed_text\"], df_balanced[\"label\"], test_size=0.2, random_state=52,\n",
    "                                                    stratify=df_balanced.label)"
   ]
  },
  {
   "cell_type": "markdown",
   "id": "a540d099-b385-4e02-a43e-c9199f952b0b",
   "metadata": {},
   "source": [
    "<h2 align = \"center\">Model Training after pre processing</h2>"
   ]
  },
  {
   "cell_type": "markdown",
   "id": "bdd1d3f3-5069-4eb6-bd91-15a1dec595ce",
   "metadata": {},
   "source": [
    "<h2>Random Forest<h2>"
   ]
  },
  {
   "cell_type": "code",
   "execution_count": 153,
   "id": "f76cae49-ba20-4db6-af4a-8425b0a21b31",
   "metadata": {},
   "outputs": [],
   "source": [
    "rf_model = Pipeline([\n",
    "    (\"vectorizer_tfidf\", TfidfVectorizer()),\n",
    "    (\"RF\", MultinomialNB())\n",
    "    ])\n",
    "\n",
    "rf_model.fit(x_train, y_train)\n",
    "\n",
    "y_predict = rf_model.predict(x_test)"
   ]
  },
  {
   "cell_type": "code",
   "execution_count": 154,
   "id": "c1feac12-0431-44c6-a4ab-46dfff0f62c4",
   "metadata": {},
   "outputs": [
    {
     "name": "stdout",
     "output_type": "stream",
     "text": [
      "Classification Report usong Random Forest:\n",
      "               precision    recall  f1-score   support\n",
      "\n",
      "           0       0.92      0.97      0.95      1200\n",
      "           1       0.98      0.92      0.95      1200\n",
      "           2       0.96      0.97      0.96      1200\n",
      "           3       0.98      0.98      0.98      1200\n",
      "\n",
      "    accuracy                           0.96      4800\n",
      "   macro avg       0.96      0.96      0.96      4800\n",
      "weighted avg       0.96      0.96      0.96      4800\n",
      "\n"
     ]
    }
   ],
   "source": [
    "print(\"Classification Report usong Random Forest:\\n\", classification_report(y_test, y_predict))"
   ]
  },
  {
   "cell_type": "markdown",
   "id": "58d0bca0-b8fb-4c2d-85f3-495ccc385372",
   "metadata": {},
   "source": [
    "<h2>Multinomial Naive Bayes</h2>"
   ]
  },
  {
   "cell_type": "code",
   "execution_count": 156,
   "id": "6de1e12f-8b76-4c05-a397-534a63228414",
   "metadata": {},
   "outputs": [],
   "source": [
    "nb_model = Pipeline([\n",
    "    (\"vectorizer_tfidf\", TfidfVectorizer()),\n",
    "    (\"KNN\", MultinomialNB())\n",
    "    ])\n",
    "\n",
    "nb_model.fit(x_train, y_train)\n",
    "\n",
    "y_predict = nb_model.predict(x_test)"
   ]
  },
  {
   "cell_type": "code",
   "execution_count": 157,
   "id": "00c887f1-f6e9-4bca-8ef3-b09dcf65f4bb",
   "metadata": {},
   "outputs": [
    {
     "name": "stdout",
     "output_type": "stream",
     "text": [
      "Classification Report usong Multinomial Naive Bayes:\n",
      "               precision    recall  f1-score   support\n",
      "\n",
      "           0       0.92      0.97      0.95      1200\n",
      "           1       0.98      0.92      0.95      1200\n",
      "           2       0.96      0.97      0.96      1200\n",
      "           3       0.98      0.98      0.98      1200\n",
      "\n",
      "    accuracy                           0.96      4800\n",
      "   macro avg       0.96      0.96      0.96      4800\n",
      "weighted avg       0.96      0.96      0.96      4800\n",
      "\n"
     ]
    }
   ],
   "source": [
    "print(\"Classification Report usong Multinomial Naive Bayes:\\n\", classification_report(y_test, y_predict))"
   ]
  },
  {
   "cell_type": "markdown",
   "id": "d18ebcc5-f348-4727-abd9-30ae3a75e826",
   "metadata": {},
   "source": [
    "**Plot confusion matrix**"
   ]
  },
  {
   "cell_type": "code",
   "execution_count": 161,
   "id": "962334c9-e36f-4b15-95cd-fbb68b76b3e0",
   "metadata": {},
   "outputs": [
    {
     "data": {
      "text/plain": [
       "array([[1169,    6,   14,   11],\n",
       "       [  58, 1101,   27,   14],\n",
       "       [  29,   10, 1160,    1],\n",
       "       [  13,    1,    4, 1182]], dtype=int64)"
      ]
     },
     "execution_count": 161,
     "metadata": {},
     "output_type": "execute_result"
    }
   ],
   "source": [
    "\n",
    "cm = confusion_matrix(y_test, y_predict)\n",
    "cm"
   ]
  },
  {
   "cell_type": "code",
   "execution_count": 166,
   "id": "5bc9af85-130d-4d7d-8491-f9ce90a89a1e",
   "metadata": {},
   "outputs": [
    {
     "data": {
      "text/plain": [
       "Text(70.72222222222221, 0.5, 'Truth')"
      ]
     },
     "execution_count": 166,
     "metadata": {},
     "output_type": "execute_result"
    },
    {
     "data": {
      "image/png": "[encoded data removed]",
      "text/plain": [
       "<Figure size 800x600 with 2 Axes>"
      ]
     },
     "metadata": {},
     "output_type": "display_data"
    }
   ],
   "source": [
    "from matplotlib import pyplot as plt\n",
    "import seaborn as sn\n",
    "plt.figure(figsize = (8,6))\n",
    "sn.heatmap(cm, annot=True, fmt='d')\n",
    "plt.xlabel('Prediction')\n",
    "plt.ylabel('Truth')"
   ]
  },
  {
   "cell_type": "code",
   "execution_count": null,
   "id": "1e9e0c45-d8f3-439e-a8e5-efbddfe4568a",
   "metadata": {},
   "outputs": [],
   "source": []
  }
 ],
 "metadata": {
  "kernelspec": {
   "display_name": "Python 3 (ipykernel)",
   "language": "python",
   "name": "python3"
  },
  "language_info": {
   "codemirror_mode": {
    "name": "ipython",
    "version": 3
   },
   "file_extension": ".py",
   "mimetype": "text/x-python",
   "name": "python",
   "nbconvert_exporter": "python",
   "pygments_lexer": "ipython3",
   "version": "3.11.5"
  }
 },
 "nbformat": 4,
 "nbformat_minor": 5
}
