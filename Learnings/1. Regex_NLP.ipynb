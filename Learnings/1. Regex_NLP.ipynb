{
 "cells": [
  {
   "cell_type": "markdown",
   "id": "337838ae-f196-431d-9310-a295e5b4149e",
   "metadata": {},
   "source": [
    "# Regex_NLP\n",
    "\n",
    "https://regex101.com/"
   ]
  },
  {
   "cell_type": "code",
   "execution_count": 1,
   "id": "77a305f6-f146-462d-b4a0-57d20dfd5e40",
   "metadata": {},
   "outputs": [],
   "source": [
    "import re"
   ]
  },
  {
   "cell_type": "markdown",
   "id": "3f57f52e-b28b-4f7b-ae39-651ad4d40ed5",
   "metadata": {},
   "source": [
    "chat1 = \"Ravi:Can I get my order update #566325\"\n",
    "chat2 = \"Ravi:You ask lot of questions, 9988776655, abc@xyz.com\"\n",
    "chat3 = \"Ravi: here it is abc@xyz.com, (998)-877-6655\"\n",
    "chat4 = \"Ravi: yes abc@xyz.com, 9988776655\"\n",
    "\n",
    "https://regex101.com/\n",
    "\n",
    "Pattern matching\n",
    "\n",
    "\\d match single digits\n",
    "\\d\\d match two digits\n",
    "\n",
    "to match multilpe digits\n",
    "a{n} exactly matches n number of didgits\n",
    "\n",
    "here for phone numbver it is\n",
    "for 1st format: \\d{10}"
   ]
  },
  {
   "cell_type": "code",
   "execution_count": 20,
   "id": "d402c38e-ae78-4258-a633-cdc10fdbaa3e",
   "metadata": {},
   "outputs": [
    {
     "data": {
      "text/plain": [
       "['Ravi:Can I get my order update #566325',\n",
       " 'Ravi:You ask lot of questions, 9988776655, abc@xyz.com',\n",
       " 'Ravi: here it is abc_82@xyz.com, (998)-877-6655',\n",
       " 'Ravi: yes abc@xyz.io, 9988776655',\n",
       " 'Ravi:You ask lot of questions, 9988776655, 7788669911, abc@xyz.com']"
      ]
     },
     "execution_count": 20,
     "metadata": {},
     "output_type": "execute_result"
    }
   ],
   "source": [
    "chat1 = \"Ravi:Can I get my order update #566325\"\n",
    "chat2 = \"Ravi:You ask lot of questions, 9988776655, abc@xyz.com\"\n",
    "chat3 = \"Ravi: here it is abc_82@xyz.com, (998)-877-6655\"\n",
    "chat4 = \"Ravi: yes abc@xyz.io, 9988776655\"\n",
    "chat5 = \"Ravi:You ask lot of questions, 9988776655, 7788669911, abc@xyz.com\"\n",
    "\n",
    "chats = [chat1, chat2, chat3, chat4, chat5]\n",
    "chats"
   ]
  },
  {
   "cell_type": "code",
   "execution_count": 16,
   "id": "57d93ea7-f952-4cb3-ac5f-ff585e131923",
   "metadata": {},
   "outputs": [
    {
     "name": "stdout",
     "output_type": "stream",
     "text": [
      "Phone number in 'Ravi:Can I get my order update #566325:'\n",
      "[]\n",
      "Phone number in 'Ravi:You ask lot of questions, 9988776655, abc@xyz.com:'\n",
      "['9988776655']\n",
      "Phone number in 'Ravi: here it is abc_82@xyz.com, (998)-877-6655:'\n",
      "[]\n",
      "Phone number in 'Ravi: yes abc@xyz.com, 9988776655:'\n",
      "['9988776655']\n",
      "Phone number in 'Ravi:You ask lot of questions, 9988776655, 7788669911, abc@xyz.com:'\n",
      "['9988776655', '7788669911']\n"
     ]
    }
   ],
   "source": [
    "#1st pattern for continuous 10 digit number\n",
    "\n",
    "pattern = '\\d{10}'\n",
    "\n",
    "for chat in chats:\n",
    "    matches = re.findall(pattern, chat)\n",
    "    print(f\"Phone number in '{chat}:'\")\n",
    "    print(matches)\n",
    "    \n",
    "    \n"
   ]
  },
  {
   "cell_type": "code",
   "execution_count": 17,
   "id": "9466a83b-4825-45fb-817d-0f8812ac4600",
   "metadata": {},
   "outputs": [
    {
     "name": "stdout",
     "output_type": "stream",
     "text": [
      "Phone number in 'Ravi:Can I get my order update #566325:'\n",
      "[]\n",
      "Phone number in 'Ravi:You ask lot of questions, 9988776655, abc@xyz.com:'\n",
      "[]\n",
      "Phone number in 'Ravi: here it is abc_82@xyz.com, (998)-877-6655:'\n",
      "['(998)-877-6655']\n",
      "Phone number in 'Ravi: yes abc@xyz.com, 9988776655:'\n",
      "[]\n",
      "Phone number in 'Ravi:You ask lot of questions, 9988776655, 7788669911, abc@xyz.com:'\n",
      "[]\n"
     ]
    }
   ],
   "source": [
    "#2nd pattern \"\\(\\d{3}\\)-\\d{3}-\\d{4}\"\n",
    "\n",
    "pattern = \"\\(\\d{3}\\)-\\d{3}-\\d{4}\"\n",
    "for chat in chats:\n",
    "    matches = re.findall(pattern, chat)\n",
    "    print(f\"Phone number in '{chat}:'\")\n",
    "    print(matches)\n"
   ]
  },
  {
   "cell_type": "code",
   "execution_count": 18,
   "id": "1f0b32fc-0420-4a60-9f48-c7cf2c365f11",
   "metadata": {},
   "outputs": [
    {
     "name": "stdout",
     "output_type": "stream",
     "text": [
      "Phone number in 'Ravi:Can I get my order update #566325:'\n",
      "[]\n",
      "Phone number in 'Ravi:You ask lot of questions, 9988776655, abc@xyz.com:'\n",
      "['9988776655']\n",
      "Phone number in 'Ravi: here it is abc_82@xyz.com, (998)-877-6655:'\n",
      "['(998)-877-6655']\n",
      "Phone number in 'Ravi: yes abc@xyz.com, 9988776655:'\n",
      "['9988776655']\n",
      "Phone number in 'Ravi:You ask lot of questions, 9988776655, 7788669911, abc@xyz.com:'\n",
      "['9988776655', '7788669911']\n"
     ]
    }
   ],
   "source": [
    "# by using both  \"\\d{10}|\\(\\d{3}\\)-\\d{3}-\\d{4}\" (inbetween used or (|))\n",
    "\n",
    "\n",
    "pattern = \"\\d{10}|\\(\\d{3}\\)-\\d{3}-\\d{4}\"\n",
    "for chat in chats:\n",
    "    matches = re.findall(pattern, chat)\n",
    "    print(f\"Phone number in '{chat}:'\")\n",
    "    print(matches)"
   ]
  },
  {
   "cell_type": "markdown",
   "id": "63de3978-bea1-4b25-8d40-651be799b377",
   "metadata": {},
   "source": [
    "# E mail id\n",
    "\n",
    "\"[a-z0-9A-Z_]*@[a-zA-Z0-9]*\\.com\"\n",
    "\n",
    "[a-z0-9A-Z_]* : a to z, A to Z, 0 to 9 & underscore which may be multiple times so *\n",
    "\n",
    "\n",
    "[a-zA-Z0-9]*\\  : \\ gives particluar next is . only not other tahn that\n",
    "\n",
    "\n"
   ]
  },
  {
   "cell_type": "code",
   "execution_count": 27,
   "id": "4d71c5a4-5eca-48a5-b371-660cb4881573",
   "metadata": {},
   "outputs": [
    {
     "name": "stdout",
     "output_type": "stream",
     "text": [
      "E mail Id number in 'Ravi:Can I get my order update #566325:'\n",
      "[]\n",
      "E mail Id number in 'Ravi:You ask lot of questions, 9988776655, abc@xyz.com:'\n",
      "['abc@xyz.com']\n",
      "E mail Id number in 'Ravi: here it is abc_82@xyz.com, (998)-877-6655:'\n",
      "['abc_82@xyz.com']\n",
      "E mail Id number in 'Ravi: yes abc@xyz.io, 9988776655:'\n",
      "['abc@xyz.io']\n",
      "E mail Id number in 'Ravi:You ask lot of questions, 9988776655, 7788669911, abc@xyz.com:'\n",
      "['abc@xyz.com']\n"
     ]
    }
   ],
   "source": [
    "pattern = \"[a-z0-9A-Z_]*@[a-zA-Z0-9]*\\.[a-zA-Z]*\"\n",
    "\n",
    "for chat in chats:\n",
    "    matches = re.findall(pattern, chat)\n",
    "    print(f\"E mail Id number in '{chat}:'\")\n",
    "    print(matches)\n"
   ]
  },
  {
   "cell_type": "markdown",
   "id": "a50e512f-764b-488a-a03f-5f65e332b3fa",
   "metadata": {},
   "source": [
    "# To get Order number"
   ]
  },
  {
   "cell_type": "code",
   "execution_count": 29,
   "id": "5601514b-62ea-475f-b15a-a0ea8ff46957",
   "metadata": {},
   "outputs": [],
   "source": [
    "chat1 = \"Ravi:Can I get my order update 566325\"\n",
    "chat2 = \"Ravi: I have problem with my order #566325\"\n",
    "chat3 = \"Ravi: My order 566325 is having issue, I wasr chared $300 instead of $250.\"\n",
    "\n",
    "chats = [chat1, chat2, chat3]"
   ]
  },
  {
   "cell_type": "code",
   "execution_count": 33,
   "id": "68975b80-624e-4561-bb0b-1ef600b53ace",
   "metadata": {},
   "outputs": [
    {
     "name": "stdout",
     "output_type": "stream",
     "text": [
      "Order Id number in 'Ravi:Can I get my order update 566325:'\n",
      "['566325']\n",
      "Order Id number in 'Ravi: I have problem with my order #566325:'\n",
      "['566325']\n",
      "Order Id number in 'Ravi: My order 566325 is having issue, I wasr chared $300 instead of $250.:'\n",
      "['566325']\n"
     ]
    }
   ],
   "source": [
    "pattern = \"order[^\\d]*(\\d*)\"  \n",
    "\n",
    "#\"order[^\\d]*(\\d*)\"  \n",
    "#\"order : Starts with order before the number in sentence\n",
    "#[^\\d] : represents charecters in the range\n",
    "# (\\d*) : extracxting required only\n",
    "\n",
    "for chat in chats:\n",
    "    matches = re.findall(pattern, chat)\n",
    "    print(f\"Order Id number in '{chat}:'\")\n",
    "    print(matches)"
   ]
  },
  {
   "cell_type": "markdown",
   "id": "8958cccf-3f1d-41c7-9300-a81876f192ad",
   "metadata": {},
   "source": [
    "# Retrive Data from web"
   ]
  },
  {
   "cell_type": "code",
   "execution_count": 79,
   "id": "33afea06-0ee7-45b3-b01b-df60f66dfdd9",
   "metadata": {},
   "outputs": [],
   "source": [
    "text = \"\"\"Born\tElon Reeve Musk\n",
    "June 28, 1971 (age 52)\n",
    "Pretoria, Transvaal, South Africa\n",
    "Citizenship\t\n",
    "South Africa\n",
    "Canada\n",
    "United States\n",
    "Education\tUniversity of Pennsylvania (BA, BS)\n",
    "Title\t\n",
    "Founder, CEO, and chief engineer of SpaceX\n",
    "CEO and product architect of Tesla, Inc.\n",
    "Owner, CTO and Executive Chairman of X (formerly Twitter)\n",
    "President of the Musk Foundation\n",
    "Founder of The Boring Company, X Corp., and xAI\n",
    "Co-founder of Neuralink, OpenAI, Zip2, and X.com (part of PayPal)\n",
    "Spouses\t\n",
    "Justine Wilson\n",
    "​\n",
    "​(m. 2000; div. 2008)​\n",
    "Talulah Riley\n",
    "​\n",
    "​(m. 2010; div. 2012)​\n",
    "​\n",
    "​(m. 2013; div. 2016)​\n",
    "Partners\t\n",
    "Amber Heard (2015–2017)[1]\n",
    "Grimes (2018–2021)[2]\n",
    "Children\t11[a][4]\n",
    "Parents\t\n",
    "Errol Musk\n",
    "Maye Musk\n",
    "Relatives\t\n",
    "Kimbal Musk (brother)\n",
    "Tosca Musk (sister)\n",
    "Lyndon Rive (cousin)\n",
    "Family\tMusk family\"\"\""
   ]
  },
  {
   "cell_type": "code",
   "execution_count": 44,
   "id": "cb35c37b-1d11-4921-9d6a-f0a0176398c8",
   "metadata": {},
   "outputs": [
    {
     "data": {
      "text/plain": [
       "52"
      ]
     },
     "execution_count": 44,
     "metadata": {},
     "output_type": "execute_result"
    }
   ],
   "source": [
    "#for age: \"age (\\d+)\"gm\n",
    "\n",
    "pattern = \"age (\\d+)\"\n",
    "\n",
    "age = re.findall(pattern, text)\n",
    "age = int(age[0])\n",
    "age"
   ]
  },
  {
   "cell_type": "code",
   "execution_count": 51,
   "id": "9fd181db-9735-467d-a180-c8d9763f6251",
   "metadata": {},
   "outputs": [
    {
     "data": {
      "text/plain": [
       "'\\tElon Reeve Musk'"
      ]
     },
     "execution_count": 51,
     "metadata": {},
     "output_type": "execute_result"
    }
   ],
   "source": [
    "#retrive name - its after born word in wiki\n",
    "# Born.* : from Born .* means all the words in the line, so we need to retrive which is resto f all is name so we put bracket fro .*\n",
    "\n",
    "pattern = \"Born(.*)\"\n",
    "\n",
    "name = re.findall(pattern, text)\n",
    "name[0]"
   ]
  },
  {
   "cell_type": "code",
   "execution_count": 52,
   "id": "91c98238-3d41-420d-a98a-2caa2fc21818",
   "metadata": {},
   "outputs": [
    {
     "data": {
      "text/plain": [
       "'Elon Reeve Musk'"
      ]
     },
     "execution_count": 52,
     "metadata": {},
     "output_type": "execute_result"
    }
   ],
   "source": [
    "\n",
    "#above is given white spaces befor the name so we can strip using python\n",
    "name[0].strip()"
   ]
  },
  {
   "cell_type": "code",
   "execution_count": 55,
   "id": "2c6cd70c-9842-42df-97cb-adb6a8fb18c0",
   "metadata": {},
   "outputs": [
    {
     "data": {
      "text/plain": [
       "'June 28, 1971 '"
      ]
     },
     "execution_count": 55,
     "metadata": {},
     "output_type": "execute_result"
    }
   ],
   "source": [
    "#birth date\n",
    "\n",
    "#its after the birt date: \"Born.*\\n(.*)\\(age\"\n",
    "# \\n for next line\n",
    "#(.*) : selects all the data in line\n",
    "# \\(age : by applying this here we stopped getting data before age\n",
    "\n",
    "\n",
    "pattern = \"Born.*\\n(.*)\\(age\"\n",
    "\n",
    "birth_date = re.findall(pattern, text)\n",
    "birth_date[0]\n"
   ]
  },
  {
   "cell_type": "code",
   "execution_count": 56,
   "id": "57d48457-a69e-45ce-a508-db2c523b6bcc",
   "metadata": {},
   "outputs": [
    {
     "data": {
      "text/plain": [
       "'Pretoria, Transvaal, South Africa'"
      ]
     },
     "execution_count": 56,
     "metadata": {},
     "output_type": "execute_result"
    }
   ],
   "source": [
    "#Birth place\n",
    "\n",
    "#next line of birt date and need whole line \n",
    "#so re is : \"Born.*\\n.*\\n(.*)\"\n",
    "\n",
    "pattern = \"Born.*\\n.*\\n(.*)\"\n",
    "\n",
    "birth_place = re.findall(pattern, text)\n",
    "birth_place[0]"
   ]
  },
  {
   "cell_type": "code",
   "execution_count": 57,
   "id": "dc2a097f-1bbb-47af-9633-4a617187a218",
   "metadata": {},
   "outputs": [
    {
     "data": {
      "text/plain": [
       "'Pretoria, Transvaal, South Africa'"
      ]
     },
     "execution_count": 57,
     "metadata": {},
     "output_type": "execute_result"
    }
   ],
   "source": [
    "#easy way\n",
    "\n",
    "#by using age line only: \"\\(age.*\\n(.*)\"\n",
    "\n",
    "pattern = \"\\(age.*\\n(.*)\"\n",
    "\n",
    "birth_place = re.findall(pattern, text)\n",
    "birth_place[0]\n"
   ]
  },
  {
   "cell_type": "code",
   "execution_count": 74,
   "id": "339f2946-9211-464c-963f-fc29e5780d68",
   "metadata": {},
   "outputs": [],
   "source": [
    "# Combine all thsee things i python function\n",
    "import pandas as pd\n",
    "def get_personel_info_from_wiki(text):\n",
    "    age = re.findall(\"age (\\d+)\", text)\n",
    "    name = re.findall( \"Born(.*)\", text)\n",
    "    birth_place = re.findall(\"\\(age.*\\n(.*)\", text)\n",
    "    birth_date = re.findall(\"Born.*\\n(.*)\\(age\", text)\n",
    "\n",
    "    return pd.DataFrame({\n",
    "        \"Name\": name[0].strip(),\n",
    "        \"Age\": int(age[0]),\n",
    "        \"DOB\": birth_date[0],\n",
    "        \"Birth Place\": birth_place[0]}, index=[0])\n",
    "    \n",
    "    "
   ]
  },
  {
   "cell_type": "code",
   "execution_count": 75,
   "id": "24d740d3-d3aa-4e76-bf01-550d0727309a",
   "metadata": {},
   "outputs": [
    {
     "data": {
      "text/html": [
       "<div>\n",
       "<style scoped>\n",
       "    .dataframe tbody tr th:only-of-type {\n",
       "        vertical-align: middle;\n",
       "    }\n",
       "\n",
       "    .dataframe tbody tr th {\n",
       "        vertical-align: top;\n",
       "    }\n",
       "\n",
       "    .dataframe thead th {\n",
       "        text-align: right;\n",
       "    }\n",
       "</style>\n",
       "<table border=\"1\" class=\"dataframe\">\n",
       "  <thead>\n",
       "    <tr style=\"text-align: right;\">\n",
       "      <th></th>\n",
       "      <th>Name</th>\n",
       "      <th>Age</th>\n",
       "      <th>DOB</th>\n",
       "      <th>Birth Place</th>\n",
       "    </tr>\n",
       "  </thead>\n",
       "  <tbody>\n",
       "    <tr>\n",
       "      <th>0</th>\n",
       "      <td>Elon Reeve Musk</td>\n",
       "      <td>52</td>\n",
       "      <td>June 28, 1971</td>\n",
       "      <td>Pretoria, Transvaal, South Africa</td>\n",
       "    </tr>\n",
       "  </tbody>\n",
       "</table>\n",
       "</div>"
      ],
      "text/plain": [
       "              Name  Age             DOB                        Birth Place\n",
       "0  Elon Reeve Musk   52  June 28, 1971   Pretoria, Transvaal, South Africa"
      ]
     },
     "execution_count": 75,
     "metadata": {},
     "output_type": "execute_result"
    }
   ],
   "source": [
    "get_personel_info_from_wiki(text)"
   ]
  },
  {
   "cell_type": "markdown",
   "id": "00f2897e-26b3-408f-9d21-f172cede1914",
   "metadata": {},
   "source": [
    "# Using NLTK"
   ]
  },
  {
   "cell_type": "code",
   "execution_count": 84,
   "id": "7ade52fd-a1fd-4cf2-9d59-88ec1c3075a4",
   "metadata": {},
   "outputs": [
    {
     "name": "stderr",
     "output_type": "stream",
     "text": [
      "[nltk_data] Downloading package punkt to\n",
      "[nltk_data]     C:\\Users\\Dell\\AppData\\Roaming\\nltk_data...\n",
      "[nltk_data]   Package punkt is already up-to-date!\n",
      "[nltk_data] Downloading package stopwords to\n",
      "[nltk_data]     C:\\Users\\Dell\\AppData\\Roaming\\nltk_data...\n",
      "[nltk_data]   Package stopwords is already up-to-date!\n",
      "[nltk_data] Downloading package wordnet to\n",
      "[nltk_data]     C:\\Users\\Dell\\AppData\\Roaming\\nltk_data...\n",
      "[nltk_data]   Package wordnet is already up-to-date!\n"
     ]
    }
   ],
   "source": [
    "import re\n",
    "import pandas as pd\n",
    "import nltk\n",
    "from nltk.tokenize import word_tokenize\n",
    "from nltk.corpus import stopwords\n",
    "from nltk.stem import WordNetLemmatizer\n",
    "\n",
    "nltk.download('punkt')\n",
    "nltk.download('stopwords')\n",
    "nltk.download('wordnet')\n",
    "\n",
    "def preprocess_text(text):\n",
    "    # Tokenization\n",
    "    tokens = word_tokenize(text)\n",
    "    \n",
    "    # Removing stopwords\n",
    "    stop_words = set(stopwords.words('english'))\n",
    "    filtered_tokens = [word for word in tokens if word.lower() not in stop_words]\n",
    "    \n",
    "    # Lemmatization\n",
    "    lemmatizer = WordNetLemmatizer()\n",
    "    lemmatized_tokens = [lemmatizer.lemmatize(word) for word in filtered_tokens]\n",
    "    \n",
    "    return \" \".join(lemmatized_tokens)\n",
    "\n",
    "def get_personel_info_from_wiki(text):\n",
    "    preprocessed_text = preprocess_text(text)\n",
    "    \n",
    "    age = re.findall(r\"age (\\d+)\", preprocessed_text)\n",
    "    name = re.findall(r\"Born(.*)\", preprocessed_text)\n",
    "    birth_place = re.findall(r\"\\(age.*\\n(.*)\", preprocessed_text)\n",
    "    birth_date = re.findall(r\"Born.*\\n(.*)\\(age\", preprocessed_text)\n",
    "\n",
    "    if age and name and birth_date and birth_place:\n",
    "        return pd.DataFrame({\n",
    "            \"Name\": name[0].strip(),\n",
    "            \"Age\": int(age[0]),\n",
    "            \"DOB\": birth_date[0],\n",
    "            \"Birth Place\": birth_place[0]\n",
    "        }, index=[0])\n",
    "    else:\n",
    "        return pd.DataFrame()\n",
    "\n",
    "\n"
   ]
  },
  {
   "cell_type": "code",
   "execution_count": 85,
   "id": "b323b443-560a-4a68-aa69-bec96189fdf4",
   "metadata": {},
   "outputs": [
    {
     "name": "stdout",
     "output_type": "stream",
     "text": [
      "Empty DataFrame\n",
      "Columns: []\n",
      "Index: []\n"
     ]
    }
   ],
   "source": [
    "text = \"\"\"John Doe (born January 1, 1990) is a professional athlete. He is currently 32 years old. \n",
    "          He was born in New York, USA.\"\"\"\n",
    "result = get_personel_info_from_wiki(text)\n",
    "print(result)"
   ]
  },
  {
   "cell_type": "code",
   "execution_count": null,
   "id": "6fa61441-93ce-4c2b-a1eb-2c5439085768",
   "metadata": {},
   "outputs": [],
   "source": []
  }
 ],
 "metadata": {
  "kernelspec": {
   "display_name": "Python 3 (ipykernel)",
   "language": "python",
   "name": "python3"
  },
  "language_info": {
   "codemirror_mode": {
    "name": "ipython",
    "version": 3
   },
   "file_extension": ".py",
   "mimetype": "text/x-python",
   "name": "python",
   "nbconvert_exporter": "python",
   "pygments_lexer": "ipython3",
   "version": "3.11.5"
  }
 },
 "nbformat": 4,
 "nbformat_minor": 5
}
