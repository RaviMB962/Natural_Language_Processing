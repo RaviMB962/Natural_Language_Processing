{
 "cells": [
  {
   "cell_type": "markdown",
   "id": "5a36813b-cbab-4334-858d-e0b7fba9f0b0",
   "metadata": {},
   "source": [
    "# Spacy vs NLTK\n",
    "\n",
    "**Spacy:**\n",
    " * Object Oriented.\n",
    " * Provides most efficient NLP algorithm for a given task. Hence if you care about end result, go with spacy.(Example like Mobile Camera, it's fixed).\n",
    " * User friendly.\n",
    " * Perfect for app developers.\n",
    " * Spacy is new library and has a very active community.\n",
    "   \n",
    "**NLTK:**\n",
    " * String processing library.\n",
    " * Prpvides access to many algorithms. if you care about spercific algo and customization go with NLTK.(Example like DSLR camera, we can customize).\n",
    " * User friendly but less user friendly compared to Spacy.\n",
    " * Perfect for researchers.\n",
    " * NLTK is old library. User community not as actve as Spacy."
   ]
  },
  {
   "cell_type": "code",
   "execution_count": 2,
   "id": "f27822bd-889d-4238-875e-353a3fdb1130",
   "metadata": {},
   "outputs": [],
   "source": [
    "import spacy"
   ]
  },
  {
   "cell_type": "code",
   "execution_count": 4,
   "id": "60337b4a-866f-4c93-91f6-4a6f2efeaab0",
   "metadata": {},
   "outputs": [
    {
     "name": "stdout",
     "output_type": "stream",
     "text": [
      "Dr.Starnge loves dahipuri of shimoga.\n",
      "Hulk loves pizza of Bengaluru.\n"
     ]
    }
   ],
   "source": [
    "nlp_spacy = spacy.load(\"en_core_web_sm\")\n",
    "\n",
    "doc = nlp_spacy(\"Dr.Starnge loves dahipuri of shimoga. Hulk loves pizza of Bengaluru.\")\n",
    "\n",
    "for sentence in doc.sents:\n",
    "    print(sentence)"
   ]
  },
  {
   "cell_type": "markdown",
   "id": "14134773-afee-468b-b08b-d2e5961bdc55",
   "metadata": {},
   "source": [
    "* This is sentence tokenization\n",
    "* spacy divides sentences correctly & not using dot, it's smart"
   ]
  },
  {
   "cell_type": "code",
   "execution_count": 6,
   "id": "2b991333-2812-4585-a8df-4020974f93f6",
   "metadata": {},
   "outputs": [
    {
     "name": "stdout",
     "output_type": "stream",
     "text": [
      "Dr.\n",
      "Starnge\n",
      "loves\n",
      "dahipuri\n",
      "of\n",
      "shimoga\n",
      ".\n",
      "Hulk\n",
      "loves\n",
      "pizza\n",
      "of\n",
      "Bengaluru\n",
      ".\n"
     ]
    }
   ],
   "source": [
    "for sentence in doc.sents:\n",
    "    for word in sentence:\n",
    "        print(word)\n",
    "        "
   ]
  },
  {
   "cell_type": "code",
   "execution_count": 7,
   "id": "57db42ca-7912-463e-81dc-4f009da448a7",
   "metadata": {},
   "outputs": [],
   "source": [
    "import nltk"
   ]
  },
  {
   "cell_type": "code",
   "execution_count": 8,
   "id": "ce24d52c-ddd3-4c4a-a721-f18cb94dfdfd",
   "metadata": {},
   "outputs": [
    {
     "data": {
      "text/plain": [
       "['Dr.Starnge loves dahipuri of shimoga.', 'Hulk loves pizza of Bengaluru.']"
      ]
     },
     "execution_count": 8,
     "metadata": {},
     "output_type": "execute_result"
    }
   ],
   "source": [
    "from nltk.tokenize import sent_tokenize #we can use others too\n",
    "\n",
    "sent_tokenize(\"Dr.Starnge loves dahipuri of shimoga. Hulk loves pizza of Bengaluru.\")"
   ]
  },
  {
   "cell_type": "markdown",
   "id": "7043516c-fc75-438c-a35c-c540f0fd6e61",
   "metadata": {},
   "source": [
    "now, it's give correct sentence still it's not correctly split the sentence, it devides by ."
   ]
  },
  {
   "cell_type": "code",
   "execution_count": 9,
   "id": "30822b48-4cda-4532-8231-4192e698bcd7",
   "metadata": {},
   "outputs": [
    {
     "data": {
      "text/plain": [
       "['Dr.Starnge',\n",
       " 'loves',\n",
       " 'dahipuri',\n",
       " 'of',\n",
       " 'shimoga',\n",
       " '.',\n",
       " 'Hulk',\n",
       " 'loves',\n",
       " 'pizza',\n",
       " 'of',\n",
       " 'Bengaluru',\n",
       " '.']"
      ]
     },
     "execution_count": 9,
     "metadata": {},
     "output_type": "execute_result"
    }
   ],
   "source": [
    "from nltk.tokenize import word_tokenize\n",
    "\n",
    "word_tokenize(\"Dr.Starnge loves dahipuri of shimoga. Hulk loves pizza of Bengaluru.\")"
   ]
  },
  {
   "cell_type": "code",
   "execution_count": null,
   "id": "bb3aa870-3c33-4f7e-9d34-ae03f24983c9",
   "metadata": {},
   "outputs": [],
   "source": []
  }
 ],
 "metadata": {
  "kernelspec": {
   "display_name": "Python 3 (ipykernel)",
   "language": "python",
   "name": "python3"
  },
  "language_info": {
   "codemirror_mode": {
    "name": "ipython",
    "version": 3
   },
   "file_extension": ".py",
   "mimetype": "text/x-python",
   "name": "python",
   "nbconvert_exporter": "python",
   "pygments_lexer": "ipython3",
   "version": "3.11.5"
  }
 },
 "nbformat": 4,
 "nbformat_minor": 5
}
