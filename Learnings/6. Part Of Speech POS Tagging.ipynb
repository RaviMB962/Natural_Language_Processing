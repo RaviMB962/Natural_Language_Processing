{
 "cells": [
  {
   "cell_type": "markdown",
   "id": "48b9c39b-9485-4d06-a982-19513e1d65ee",
   "metadata": {},
   "source": [
    "<h2 align=\"center\">Part Of Speech POS Tagging</h2>"
   ]
  },
  {
   "cell_type": "code",
   "execution_count": 1,
   "id": "6024668b-af5d-467b-8ae0-e91d7e26cc66",
   "metadata": {},
   "outputs": [],
   "source": [
    "import spacy\n",
    "\n"
   ]
  },
  {
   "cell_type": "markdown",
   "id": "0bc5550e-1e52-4783-846e-0cf72d695fef",
   "metadata": {},
   "source": [
    "<h3>POS tags</h3>"
   ]
  },
  {
   "cell_type": "code",
   "execution_count": 2,
   "id": "80fd71fa-5bf7-47d5-844e-5acdcca6b8e3",
   "metadata": {},
   "outputs": [],
   "source": [
    "nlp = spacy.load(\"en_core_web_sm\")"
   ]
  },
  {
   "cell_type": "code",
   "execution_count": 5,
   "id": "c794832f-b2bc-4f58-9505-ab27980c6f41",
   "metadata": {},
   "outputs": [
    {
     "name": "stdout",
     "output_type": "stream",
     "text": [
      "Yadav\n",
      "flew\n",
      "to\n",
      "Mumbai\n",
      "yesterday\n",
      ".\n",
      "He\n",
      "carried\n",
      "book\n",
      "with\n",
      "him\n"
     ]
    }
   ],
   "source": [
    "doc = nlp(\"Yadav flew to Mumbai yesterday. He carried book with him\")\n",
    "\n",
    "for token in doc:\n",
    "    print(token)"
   ]
  },
  {
   "cell_type": "code",
   "execution_count": 4,
   "id": "870df908-0789-437c-875c-988a0809ddd7",
   "metadata": {},
   "outputs": [
    {
     "name": "stdout",
     "output_type": "stream",
     "text": [
      "him 384\n",
      "him 391\n"
     ]
    }
   ],
   "source": [
    "for ent in doc.ents:\n",
    "    print(token, ent.label)"
   ]
  },
  {
   "cell_type": "code",
   "execution_count": 12,
   "id": "1bbe3481-bfeb-4d8d-84b3-6483328c2f06",
   "metadata": {},
   "outputs": [
    {
     "name": "stdout",
     "output_type": "stream",
     "text": [
      "Yadav  |  PROPN  |  proper noun\n",
      "flew  |  VERB  |  verb\n",
      "to  |  ADP  |  adposition\n",
      "Mumbai  |  PROPN  |  proper noun\n",
      "yesterday  |  NOUN  |  noun\n",
      ".  |  PUNCT  |  punctuation\n",
      "He  |  PRON  |  pronoun\n",
      "carried  |  VERB  |  verb\n",
      "book  |  NOUN  |  noun\n",
      "with  |  ADP  |  adposition\n",
      "him  |  PRON  |  pronoun\n"
     ]
    }
   ],
   "source": [
    "#Part of speech\n",
    "\n",
    "for token in doc:\n",
    "    print(token,\" | \",token.pos_,\" | \",spacy.explain(token.pos_))"
   ]
  },
  {
   "cell_type": "markdown",
   "id": "755ec7b3-5735-4c77-b0f7-076e29a7124d",
   "metadata": {},
   "source": [
    " list of pos categories in spacy.: https://v2.spacy.io/api/annotation"
   ]
  },
  {
   "cell_type": "code",
   "execution_count": 11,
   "id": "4e0ba132-bf4f-42f1-87dc-97c40bd6dff1",
   "metadata": {},
   "outputs": [
    {
     "data": {
      "text/plain": [
       "['tok2vec', 'tagger', 'parser', 'attribute_ruler', 'lemmatizer', 'ner']"
      ]
     },
     "execution_count": 11,
     "metadata": {},
     "output_type": "execute_result"
    }
   ],
   "source": [
    "#lets create pipeline\n",
    "nlp.pipe_names"
   ]
  },
  {
   "cell_type": "code",
   "execution_count": 17,
   "id": "6ec67e9f-b7e3-409f-9db4-bd6175dd8357",
   "metadata": {},
   "outputs": [
    {
     "name": "stdout",
     "output_type": "stream",
     "text": [
      "Wow  |  INTJ  |  interjection  |  UH  |  interjection\n",
      "!  |  PUNCT  |  punctuation  |  .  |  punctuation mark, sentence closer\n",
      "Dr.  |  PROPN  |  proper noun  |  NNP  |  noun, proper singular\n",
      "Strange  |  PROPN  |  proper noun  |  NNP  |  noun, proper singular\n",
      "made  |  VERB  |  verb  |  VBD  |  verb, past tense\n",
      "265  |  NUM  |  numeral  |  CD  |  cardinal number\n",
      "million  |  NUM  |  numeral  |  CD  |  cardinal number\n",
      "$  |  NUM  |  numeral  |  CD  |  cardinal number\n",
      "on  |  ADP  |  adposition  |  IN  |  conjunction, subordinating or preposition\n",
      "the  |  DET  |  determiner  |  DT  |  determiner\n",
      "very  |  ADV  |  adverb  |  RB  |  adverb\n",
      "first  |  ADJ  |  adjective  |  JJ  |  adjective (English), other noun-modifier (Chinese)\n",
      "day  |  NOUN  |  noun  |  NN  |  noun, singular or mass\n"
     ]
    }
   ],
   "source": [
    "#we can check tags - it will give more details\n",
    "\n",
    "\n",
    "doc = nlp(\"Wow! Dr. Strange made 265 million $ on the very first day\")\n",
    "\n",
    "for token in doc:\n",
    "    print(token,\" | \",token.pos_,\" | \", spacy.explain(token.pos_),\" | \", token.tag_,\" | \",  spacy.explain(token.tag_))"
   ]
  },
  {
   "cell_type": "markdown",
   "id": "dffad309-a4d4-43f5-98ea-495440e7313f",
   "metadata": {},
   "source": [
    "<h2>Spacy figures out the past vs present tense for quit</h2>"
   ]
  },
  {
   "cell_type": "code",
   "execution_count": 18,
   "id": "23419e6a-b3f4-4b09-b3f4-86eba65100f5",
   "metadata": {},
   "outputs": [
    {
     "name": "stdout",
     "output_type": "stream",
     "text": [
      "He  |  PRON  |  pronoun  |  PRP  |  pronoun, personal\n",
      "quits  |  VERB  |  verb  |  VBZ  |  verb, 3rd person singular present\n",
      "the  |  DET  |  determiner  |  DT  |  determiner\n",
      "job  |  NOUN  |  noun  |  NN  |  noun, singular or mass\n"
     ]
    }
   ],
   "source": [
    "doc = nlp(\"He quits the job\")\n",
    "\n",
    "for token in doc:\n",
    "    print(token,\" | \",token.pos_,\" | \", spacy.explain(token.pos_),\" | \", token.tag_,\" | \",  spacy.explain(token.tag_))"
   ]
  },
  {
   "cell_type": "code",
   "execution_count": 19,
   "id": "abfb2a91-a28b-40b3-a780-ec9275eaa107",
   "metadata": {},
   "outputs": [
    {
     "name": "stdout",
     "output_type": "stream",
     "text": [
      "He  |  PRON  |  pronoun  |  PRP  |  pronoun, personal\n",
      "quit  |  VERB  |  verb  |  VBD  |  verb, past tense\n",
      "the  |  DET  |  determiner  |  DT  |  determiner\n",
      "job  |  NOUN  |  noun  |  NN  |  noun, singular or mass\n"
     ]
    }
   ],
   "source": [
    "doc = nlp(\"He quit the job\")\n",
    "\n",
    "for token in doc:\n",
    "    print(token,\" | \",token.pos_,\" | \", spacy.explain(token.pos_),\" | \", token.tag_,\" | \",  spacy.explain(token.tag_))"
   ]
  },
  {
   "cell_type": "markdown",
   "id": "0bffb9a5-b7ec-4b30-bf99-789e02916a53",
   "metadata": {},
   "source": [
    "from above we can conclude, spacy is smart to find what type of tense it is."
   ]
  },
  {
   "cell_type": "markdown",
   "id": "44005a6c-b397-4d0d-8dd9-b645f24f24ed",
   "metadata": {},
   "source": [
    "<h2>Removing all SPACE, PUNCT and X token from text</h2>"
   ]
  },
  {
   "cell_type": "code",
   "execution_count": 22,
   "id": "0b492154-6034-4db0-ae66-c1587aed9a18",
   "metadata": {},
   "outputs": [],
   "source": [
    "\n",
    "\n",
    "amazon_earning_report = \"\"\" SEATTLE--(BUSINESS WIRE)-- Amazon.com, Inc. (NASDAQ: AMZN) today announced financial results for its fourth quarter ended December 31, 2023.\n",
    "\n",
    "Fourth Quarter 2023\n",
    "\n",
    "Net sales increased 14% to $170.0 billion in the fourth quarter, compared with $149.2 billion in fourth quarter 2022. Excluding the $1.3 billion favorable impact from year-over-year changes in foreign exchange rates throughout the quarter, net sales increased 13% compared with fourth quarter 2022.\n",
    "North America segment sales increased 13% year-over-year to $105.5 billion.\n",
    "International segment sales increased 17% year-over-year to $40.2 billion, or increased 13% excluding changes in foreign exchange rates.\n",
    "AWS segment sales increased 13% year-over-year to $24.2 billion. etc..\"\"\"\n"
   ]
  },
  {
   "cell_type": "code",
   "execution_count": 23,
   "id": "60b736e0-3559-43f1-98fd-6bad76248c84",
   "metadata": {},
   "outputs": [
    {
     "name": "stdout",
     "output_type": "stream",
     "text": [
      "   |  SPACE  |  space  |  _SP  |  whitespace\n",
      "SEATTLE--(BUSINESS  |  PROPN  |  proper noun  |  NNP  |  noun, proper singular\n",
      "WIRE)--  |  PROPN  |  proper noun  |  NNP  |  noun, proper singular\n",
      "Amazon.com  |  PROPN  |  proper noun  |  NNP  |  noun, proper singular\n",
      ",  |  PUNCT  |  punctuation  |  ,  |  punctuation mark, comma\n",
      "Inc.  |  PROPN  |  proper noun  |  NNP  |  noun, proper singular\n",
      "(  |  PUNCT  |  punctuation  |  -LRB-  |  left round bracket\n",
      "NASDAQ  |  PROPN  |  proper noun  |  NNP  |  noun, proper singular\n",
      ":  |  PUNCT  |  punctuation  |  :  |  punctuation mark, colon or ellipsis\n",
      "AMZN  |  PROPN  |  proper noun  |  NNP  |  noun, proper singular\n",
      ")  |  PUNCT  |  punctuation  |  -RRB-  |  right round bracket\n",
      "today  |  NOUN  |  noun  |  NN  |  noun, singular or mass\n",
      "announced  |  VERB  |  verb  |  VBD  |  verb, past tense\n",
      "financial  |  ADJ  |  adjective  |  JJ  |  adjective (English), other noun-modifier (Chinese)\n",
      "results  |  NOUN  |  noun  |  NNS  |  noun, plural\n",
      "for  |  ADP  |  adposition  |  IN  |  conjunction, subordinating or preposition\n",
      "its  |  PRON  |  pronoun  |  PRP$  |  pronoun, possessive\n",
      "fourth  |  ADJ  |  adjective  |  JJ  |  adjective (English), other noun-modifier (Chinese)\n",
      "quarter  |  NOUN  |  noun  |  NN  |  noun, singular or mass\n",
      "ended  |  VERB  |  verb  |  VBD  |  verb, past tense\n",
      "December  |  PROPN  |  proper noun  |  NNP  |  noun, proper singular\n",
      "31  |  NUM  |  numeral  |  CD  |  cardinal number\n",
      ",  |  PUNCT  |  punctuation  |  ,  |  punctuation mark, comma\n",
      "2023  |  NUM  |  numeral  |  CD  |  cardinal number\n",
      ".  |  PUNCT  |  punctuation  |  .  |  punctuation mark, sentence closer\n",
      "\n",
      "\n",
      "  |  SPACE  |  space  |  _SP  |  whitespace\n",
      "Fourth  |  PROPN  |  proper noun  |  NNP  |  noun, proper singular\n",
      "Quarter  |  PROPN  |  proper noun  |  NNP  |  noun, proper singular\n",
      "2023  |  NUM  |  numeral  |  CD  |  cardinal number\n",
      "\n",
      "\n",
      "  |  SPACE  |  space  |  _SP  |  whitespace\n",
      "Net  |  ADJ  |  adjective  |  JJ  |  adjective (English), other noun-modifier (Chinese)\n",
      "sales  |  NOUN  |  noun  |  NNS  |  noun, plural\n",
      "increased  |  VERB  |  verb  |  VBD  |  verb, past tense\n",
      "14  |  NUM  |  numeral  |  CD  |  cardinal number\n",
      "%  |  NOUN  |  noun  |  NN  |  noun, singular or mass\n",
      "to  |  ADP  |  adposition  |  IN  |  conjunction, subordinating or preposition\n",
      "$  |  SYM  |  symbol  |  $  |  symbol, currency\n",
      "170.0  |  NUM  |  numeral  |  CD  |  cardinal number\n",
      "billion  |  NUM  |  numeral  |  CD  |  cardinal number\n",
      "in  |  ADP  |  adposition  |  IN  |  conjunction, subordinating or preposition\n",
      "the  |  DET  |  determiner  |  DT  |  determiner\n",
      "fourth  |  ADJ  |  adjective  |  JJ  |  adjective (English), other noun-modifier (Chinese)\n",
      "quarter  |  NOUN  |  noun  |  NN  |  noun, singular or mass\n",
      ",  |  PUNCT  |  punctuation  |  ,  |  punctuation mark, comma\n",
      "compared  |  VERB  |  verb  |  VBN  |  verb, past participle\n",
      "with  |  ADP  |  adposition  |  IN  |  conjunction, subordinating or preposition\n",
      "$  |  SYM  |  symbol  |  $  |  symbol, currency\n",
      "149.2  |  NUM  |  numeral  |  CD  |  cardinal number\n",
      "billion  |  NUM  |  numeral  |  CD  |  cardinal number\n",
      "in  |  ADP  |  adposition  |  IN  |  conjunction, subordinating or preposition\n",
      "fourth  |  ADJ  |  adjective  |  JJ  |  adjective (English), other noun-modifier (Chinese)\n",
      "quarter  |  NOUN  |  noun  |  NN  |  noun, singular or mass\n",
      "2022  |  NUM  |  numeral  |  CD  |  cardinal number\n",
      ".  |  PUNCT  |  punctuation  |  .  |  punctuation mark, sentence closer\n",
      "Excluding  |  VERB  |  verb  |  VBG  |  verb, gerund or present participle\n",
      "the  |  DET  |  determiner  |  DT  |  determiner\n",
      "$  |  SYM  |  symbol  |  $  |  symbol, currency\n",
      "1.3  |  NUM  |  numeral  |  CD  |  cardinal number\n",
      "billion  |  NUM  |  numeral  |  CD  |  cardinal number\n",
      "favorable  |  ADJ  |  adjective  |  JJ  |  adjective (English), other noun-modifier (Chinese)\n",
      "impact  |  NOUN  |  noun  |  NN  |  noun, singular or mass\n",
      "from  |  ADP  |  adposition  |  IN  |  conjunction, subordinating or preposition\n",
      "year  |  NOUN  |  noun  |  NN  |  noun, singular or mass\n",
      "-  |  PUNCT  |  punctuation  |  HYPH  |  punctuation mark, hyphen\n",
      "over  |  ADP  |  adposition  |  IN  |  conjunction, subordinating or preposition\n",
      "-  |  PUNCT  |  punctuation  |  HYPH  |  punctuation mark, hyphen\n",
      "year  |  NOUN  |  noun  |  NN  |  noun, singular or mass\n",
      "changes  |  NOUN  |  noun  |  NNS  |  noun, plural\n",
      "in  |  ADP  |  adposition  |  IN  |  conjunction, subordinating or preposition\n",
      "foreign  |  ADJ  |  adjective  |  JJ  |  adjective (English), other noun-modifier (Chinese)\n",
      "exchange  |  NOUN  |  noun  |  NN  |  noun, singular or mass\n",
      "rates  |  NOUN  |  noun  |  NNS  |  noun, plural\n",
      "throughout  |  ADP  |  adposition  |  IN  |  conjunction, subordinating or preposition\n",
      "the  |  DET  |  determiner  |  DT  |  determiner\n",
      "quarter  |  NOUN  |  noun  |  NN  |  noun, singular or mass\n",
      ",  |  PUNCT  |  punctuation  |  ,  |  punctuation mark, comma\n",
      "net  |  ADJ  |  adjective  |  JJ  |  adjective (English), other noun-modifier (Chinese)\n",
      "sales  |  NOUN  |  noun  |  NNS  |  noun, plural\n",
      "increased  |  VERB  |  verb  |  VBD  |  verb, past tense\n",
      "13  |  NUM  |  numeral  |  CD  |  cardinal number\n",
      "%  |  NOUN  |  noun  |  NN  |  noun, singular or mass\n",
      "compared  |  VERB  |  verb  |  VBN  |  verb, past participle\n",
      "with  |  ADP  |  adposition  |  IN  |  conjunction, subordinating or preposition\n",
      "fourth  |  ADJ  |  adjective  |  JJ  |  adjective (English), other noun-modifier (Chinese)\n",
      "quarter  |  NOUN  |  noun  |  NN  |  noun, singular or mass\n",
      "2022  |  NUM  |  numeral  |  CD  |  cardinal number\n",
      ".  |  PUNCT  |  punctuation  |  .  |  punctuation mark, sentence closer\n",
      "\n",
      "  |  SPACE  |  space  |  _SP  |  whitespace\n",
      "North  |  PROPN  |  proper noun  |  NNP  |  noun, proper singular\n",
      "America  |  PROPN  |  proper noun  |  NNP  |  noun, proper singular\n",
      "segment  |  NOUN  |  noun  |  NN  |  noun, singular or mass\n",
      "sales  |  NOUN  |  noun  |  NNS  |  noun, plural\n",
      "increased  |  VERB  |  verb  |  VBD  |  verb, past tense\n",
      "13  |  NUM  |  numeral  |  CD  |  cardinal number\n",
      "%  |  NOUN  |  noun  |  NN  |  noun, singular or mass\n",
      "year  |  NOUN  |  noun  |  NN  |  noun, singular or mass\n",
      "-  |  PUNCT  |  punctuation  |  HYPH  |  punctuation mark, hyphen\n",
      "over  |  ADP  |  adposition  |  IN  |  conjunction, subordinating or preposition\n",
      "-  |  PUNCT  |  punctuation  |  HYPH  |  punctuation mark, hyphen\n",
      "year  |  NOUN  |  noun  |  NN  |  noun, singular or mass\n",
      "to  |  ADP  |  adposition  |  IN  |  conjunction, subordinating or preposition\n",
      "$  |  SYM  |  symbol  |  $  |  symbol, currency\n",
      "105.5  |  NUM  |  numeral  |  CD  |  cardinal number\n",
      "billion  |  NUM  |  numeral  |  CD  |  cardinal number\n",
      ".  |  PUNCT  |  punctuation  |  .  |  punctuation mark, sentence closer\n",
      "\n",
      "  |  SPACE  |  space  |  _SP  |  whitespace\n",
      "International  |  ADJ  |  adjective  |  JJ  |  adjective (English), other noun-modifier (Chinese)\n",
      "segment  |  NOUN  |  noun  |  NN  |  noun, singular or mass\n",
      "sales  |  NOUN  |  noun  |  NNS  |  noun, plural\n",
      "increased  |  VERB  |  verb  |  VBD  |  verb, past tense\n",
      "17  |  NUM  |  numeral  |  CD  |  cardinal number\n",
      "%  |  NOUN  |  noun  |  NN  |  noun, singular or mass\n",
      "year  |  NOUN  |  noun  |  NN  |  noun, singular or mass\n",
      "-  |  PUNCT  |  punctuation  |  HYPH  |  punctuation mark, hyphen\n",
      "over  |  ADP  |  adposition  |  IN  |  conjunction, subordinating or preposition\n",
      "-  |  PUNCT  |  punctuation  |  HYPH  |  punctuation mark, hyphen\n",
      "year  |  NOUN  |  noun  |  NN  |  noun, singular or mass\n",
      "to  |  ADP  |  adposition  |  IN  |  conjunction, subordinating or preposition\n",
      "$  |  SYM  |  symbol  |  $  |  symbol, currency\n",
      "40.2  |  NUM  |  numeral  |  CD  |  cardinal number\n",
      "billion  |  NUM  |  numeral  |  CD  |  cardinal number\n",
      ",  |  PUNCT  |  punctuation  |  ,  |  punctuation mark, comma\n",
      "or  |  CCONJ  |  coordinating conjunction  |  CC  |  conjunction, coordinating\n",
      "increased  |  VERB  |  verb  |  VBD  |  verb, past tense\n",
      "13  |  NUM  |  numeral  |  CD  |  cardinal number\n",
      "%  |  NOUN  |  noun  |  NN  |  noun, singular or mass\n",
      "excluding  |  VERB  |  verb  |  VBG  |  verb, gerund or present participle\n",
      "changes  |  NOUN  |  noun  |  NNS  |  noun, plural\n",
      "in  |  ADP  |  adposition  |  IN  |  conjunction, subordinating or preposition\n",
      "foreign  |  ADJ  |  adjective  |  JJ  |  adjective (English), other noun-modifier (Chinese)\n",
      "exchange  |  NOUN  |  noun  |  NN  |  noun, singular or mass\n",
      "rates  |  NOUN  |  noun  |  NNS  |  noun, plural\n",
      ".  |  PUNCT  |  punctuation  |  .  |  punctuation mark, sentence closer\n",
      "\n",
      "  |  SPACE  |  space  |  _SP  |  whitespace\n",
      "AWS  |  PROPN  |  proper noun  |  NNP  |  noun, proper singular\n",
      "segment  |  NOUN  |  noun  |  NN  |  noun, singular or mass\n",
      "sales  |  NOUN  |  noun  |  NNS  |  noun, plural\n",
      "increased  |  VERB  |  verb  |  VBD  |  verb, past tense\n",
      "13  |  NUM  |  numeral  |  CD  |  cardinal number\n",
      "%  |  NOUN  |  noun  |  NN  |  noun, singular or mass\n",
      "year  |  NOUN  |  noun  |  NN  |  noun, singular or mass\n",
      "-  |  PUNCT  |  punctuation  |  HYPH  |  punctuation mark, hyphen\n",
      "over  |  ADP  |  adposition  |  IN  |  conjunction, subordinating or preposition\n",
      "-  |  PUNCT  |  punctuation  |  HYPH  |  punctuation mark, hyphen\n",
      "year  |  NOUN  |  noun  |  NN  |  noun, singular or mass\n",
      "to  |  ADP  |  adposition  |  IN  |  conjunction, subordinating or preposition\n",
      "$  |  SYM  |  symbol  |  $  |  symbol, currency\n",
      "24.2  |  NUM  |  numeral  |  CD  |  cardinal number\n",
      "billion  |  NUM  |  numeral  |  CD  |  cardinal number\n",
      ".  |  PUNCT  |  punctuation  |  .  |  punctuation mark, sentence closer\n",
      "etc  |  X  |  other  |  FW  |  foreign word\n",
      "..  |  X  |  other  |  FW  |  foreign word\n"
     ]
    }
   ],
   "source": [
    "#remove punctations\n",
    "\n",
    "filteredToken = \n",
    "doc = nlp(amazon_earning_report)\n",
    "\n",
    "for token in doc:\n",
    "    print(token,\" | \",token.pos_,\" | \", spacy.explain(token.pos_),\" | \", token.tag_,\" | \",  spacy.explain(token.tag_))"
   ]
  },
  {
   "cell_type": "code",
   "execution_count": 30,
   "id": "a68472e3-9d30-44ed-91db-b1634203d578",
   "metadata": {},
   "outputs": [],
   "source": [
    "# need to remove X and punct\n",
    "\n",
    "\n",
    "filteredToken = []\n",
    "\n",
    "for token in doc:\n",
    "    if token.pos_ not in [\"SPACE\", \"X\", \"PUNCT\"]:\n",
    "        filteredToken.append(token)"
   ]
  },
  {
   "cell_type": "code",
   "execution_count": 31,
   "id": "cc235f12-da32-49e0-9493-d5b7c17d35dd",
   "metadata": {},
   "outputs": [
    {
     "data": {
      "text/plain": [
       "[SEATTLE--(BUSINESS,\n",
       " WIRE)--,\n",
       " Amazon.com,\n",
       " Inc.,\n",
       " NASDAQ,\n",
       " AMZN,\n",
       " today,\n",
       " announced,\n",
       " financial,\n",
       " results,\n",
       " for,\n",
       " its,\n",
       " fourth,\n",
       " quarter,\n",
       " ended,\n",
       " December,\n",
       " 31,\n",
       " 2023,\n",
       " Fourth,\n",
       " Quarter]"
      ]
     },
     "execution_count": 31,
     "metadata": {},
     "output_type": "execute_result"
    }
   ],
   "source": [
    "#data is cleaned now\n",
    "filteredToken[:20]"
   ]
  },
  {
   "cell_type": "code",
   "execution_count": 38,
   "id": "0d29ce94-34e4-4ffd-88da-05d07383a33f",
   "metadata": {},
   "outputs": [
    {
     "data": {
      "text/plain": [
       "{103: 6,\n",
       " 96: 12,\n",
       " 97: 22,\n",
       " 92: 36,\n",
       " 100: 12,\n",
       " 84: 11,\n",
       " 85: 17,\n",
       " 95: 1,\n",
       " 93: 23,\n",
       " 99: 6,\n",
       " 90: 3,\n",
       " 89: 1,\n",
       " 101: 2}"
      ]
     },
     "execution_count": 38,
     "metadata": {},
     "output_type": "execute_result"
    }
   ],
   "source": [
    "#How many verbs , nouns presnet using api\n",
    "\n",
    "count = doc.count_by(spacy.attrs.POS)\n",
    "count"
   ]
  },
  {
   "cell_type": "code",
   "execution_count": 39,
   "id": "c1615c20-9849-4e3a-b973-9b3c9293d9cc",
   "metadata": {},
   "outputs": [
    {
     "data": {
      "text/plain": [
       "'PROPN'"
      ]
     },
     "execution_count": 39,
     "metadata": {},
     "output_type": "execute_result"
    }
   ],
   "source": [
    "doc.vocab[96].text"
   ]
  },
  {
   "cell_type": "code",
   "execution_count": 40,
   "id": "cb73418f-6603-4666-856d-7d0298cb9e68",
   "metadata": {},
   "outputs": [
    {
     "name": "stdout",
     "output_type": "stream",
     "text": [
      "SPACE  |  6\n",
      "PROPN  |  12\n",
      "PUNCT  |  22\n",
      "NOUN  |  36\n",
      "VERB  |  12\n",
      "ADJ  |  11\n",
      "ADP  |  17\n",
      "PRON  |  1\n",
      "NUM  |  23\n",
      "SYM  |  6\n",
      "DET  |  3\n",
      "CCONJ  |  1\n",
      "X  |  2\n"
     ]
    }
   ],
   "source": [
    "for k, v in count.items():\n",
    "    print(doc.vocab[k].text, \" | \", v)"
   ]
  },
  {
   "cell_type": "markdown",
   "id": "08199005-30db-475a-bef1-233a228e637b",
   "metadata": {},
   "source": [
    "<h2>Tasks:</h2>"
   ]
  },
  {
   "cell_type": "markdown",
   "id": "3907c722-ce7f-41c2-b1e1-17045562cec6",
   "metadata": {},
   "source": [
    "1. You are parsing a news story from cnbc.com. News story is stores in news_story.txt\n",
    "    * Extract all NOUN tokens from this story. You will have to read the file in python first to collect all the text and then extract NOUNs in a python list\n",
    "    * Extract all numbers (NUM POS type) in a python list\n",
    "    * Print a count of all POS tags in this story"
   ]
  },
  {
   "cell_type": "code",
   "execution_count": 44,
   "id": "8739e22b-6173-4a96-a644-92a8b6907a50",
   "metadata": {},
   "outputs": [
    {
     "data": {
      "text/plain": [
       "'Inflation rose again in April, continuing a climb that has pushed consumers to the brink and is threatening the economic expansion, the Bureau of Labor Statistics reported Wednesday.\\n \\n The consumer price index, a broad-based measure of prices for goods and services, increased 8.3% from a year ago, higher than the Dow Jones estimate for an 8.1% gain. That represented a slight ease from Marchâ€™s peak but was still close to the highest level since the summer of 1982.\\n \\n Removing volatile food and energy prices, so-called core CPI still rose 6.2%, against expectations for a 6% gain, clouding hopes that inflation had peaked in March.\\n \\n The month-over-month gains also were higher than expectations â€” 0.3% on headline CPI versus the 0.2% estimate and a 0.6% increase for core, against the outlook for a 0.4% gain.\\n \\n The price gains also meant that workers continued to lose ground. Real wages adjusted for inflation decreased 0.1% on the month despite a nominal increase of 0.3% in average hourly earnings. Over the past year, real earnings have dropped 2.6% even though average hourly earnings are up 5.5%.\\n \\n Inflation has been the single biggest threat to a recovery that began early in the Covid pandemic and saw the economy in 2021 stage its biggest single-year growth level since 1984. Rising prices at the pump and in grocery stores have been one problem, but inflation has spread beyond those two areas into housing, auto sales and a host of other areas.\\n \\n Federal Reserve officials have responded to the problem with two interest rate hikes so far this year and pledges of more until inflation comes down to the central bankâ€™s 2% goal. However, Wednesdayâ€™s data shows that the Fed has a big job ahead.\\n \\n Credits: cnbc.com'"
      ]
     },
     "execution_count": 44,
     "metadata": {},
     "output_type": "execute_result"
    }
   ],
   "source": [
    "with open(\"news_story.txt\") as f:\n",
    "    text = f.readlines()\n",
    "text =\" \".join(text)\n",
    "text"
   ]
  },
  {
   "cell_type": "code",
   "execution_count": 47,
   "id": "30ff4eaa-c465-4b38-aa79-076d8e9abeb9",
   "metadata": {},
   "outputs": [],
   "source": [
    "doc = nlp(text)"
   ]
  },
  {
   "cell_type": "code",
   "execution_count": 56,
   "id": "4e245bb5-6a6b-42df-8ca0-6bd8fb17bd70",
   "metadata": {},
   "outputs": [
    {
     "data": {
      "text/plain": [
       "{92: 98,\n",
       " 100: 27,\n",
       " 86: 15,\n",
       " 85: 39,\n",
       " 96: 17,\n",
       " 97: 32,\n",
       " 90: 34,\n",
       " 95: 4,\n",
       " 87: 13,\n",
       " 89: 10,\n",
       " 84: 23,\n",
       " 103: 7,\n",
       " 93: 20,\n",
       " 94: 4,\n",
       " 98: 8,\n",
       " 101: 1}"
      ]
     },
     "execution_count": 56,
     "metadata": {},
     "output_type": "execute_result"
    }
   ],
   "source": [
    "#How many verbs , nouns presnet using api\n",
    "#iii.Print a count of all POS tags in this story\n",
    "count = doc.count_by(spacy.attrs.POS)\n",
    "count"
   ]
  },
  {
   "cell_type": "code",
   "execution_count": 49,
   "id": "ffddbbfb-e8e2-493d-b1a8-3ff3c1c78bf5",
   "metadata": {},
   "outputs": [
    {
     "name": "stdout",
     "output_type": "stream",
     "text": [
      "NOUN  |  98\n",
      "VERB  |  27\n",
      "ADV  |  15\n",
      "ADP  |  39\n",
      "PROPN  |  17\n",
      "PUNCT  |  32\n",
      "DET  |  34\n",
      "PRON  |  4\n",
      "AUX  |  13\n",
      "CCONJ  |  10\n",
      "ADJ  |  23\n",
      "SPACE  |  7\n",
      "NUM  |  20\n",
      "PART  |  4\n",
      "SCONJ  |  8\n",
      "X  |  1\n"
     ]
    }
   ],
   "source": [
    "for k, v in count.items():\n",
    "    print(doc.vocab[k].text, \" | \", v)"
   ]
  },
  {
   "cell_type": "code",
   "execution_count": 51,
   "id": "3b852d98-0c07-47d2-9f9d-0352c409bfa0",
   "metadata": {},
   "outputs": [
    {
     "data": {
      "text/plain": [
       "[Inflation,\n",
       " April,\n",
       " climb,\n",
       " consumers,\n",
       " brink,\n",
       " expansion,\n",
       " Bureau,\n",
       " Labor,\n",
       " Statistics,\n",
       " Wednesday,\n",
       " consumer,\n",
       " price,\n",
       " index,\n",
       " measure,\n",
       " prices,\n",
       " goods,\n",
       " services,\n",
       " %,\n",
       " year,\n",
       " Dow,\n",
       " Jones,\n",
       " estimate,\n",
       " %,\n",
       " gain,\n",
       " ease,\n",
       " Marchâ€,\n",
       " ™,\n",
       " peak,\n",
       " level,\n",
       " summer,\n",
       " food,\n",
       " energy,\n",
       " prices,\n",
       " core,\n",
       " CPI,\n",
       " %,\n",
       " expectations,\n",
       " %,\n",
       " gain,\n",
       " hopes,\n",
       " inflation,\n",
       " March,\n",
       " month,\n",
       " month,\n",
       " gains,\n",
       " expectations,\n",
       " %,\n",
       " headline,\n",
       " CPI,\n",
       " %,\n",
       " estimate,\n",
       " %,\n",
       " increase,\n",
       " core,\n",
       " outlook,\n",
       " %,\n",
       " gain,\n",
       " price,\n",
       " gains,\n",
       " workers,\n",
       " ground,\n",
       " wages,\n",
       " inflation,\n",
       " %,\n",
       " month,\n",
       " increase,\n",
       " %,\n",
       " earnings,\n",
       " year,\n",
       " earnings,\n",
       " %,\n",
       " earnings,\n",
       " %,\n",
       " Inflation,\n",
       " threat,\n",
       " recovery,\n",
       " Covid,\n",
       " pandemic,\n",
       " economy,\n",
       " stage,\n",
       " year,\n",
       " growth,\n",
       " level,\n",
       " prices,\n",
       " pump,\n",
       " grocery,\n",
       " stores,\n",
       " problem,\n",
       " inflation,\n",
       " areas,\n",
       " housing,\n",
       " auto,\n",
       " sales,\n",
       " host,\n",
       " areas,\n",
       " Federal,\n",
       " Reserve,\n",
       " officials,\n",
       " problem,\n",
       " interest,\n",
       " rate,\n",
       " hikes,\n",
       " year,\n",
       " pledges,\n",
       " inflation,\n",
       " bankâ€,\n",
       " ™,\n",
       " %,\n",
       " goal,\n",
       " Wednesdayâ€,\n",
       " ™,\n",
       " data,\n",
       " Fed,\n",
       " job,\n",
       " Credits]"
      ]
     },
     "execution_count": 51,
     "metadata": {},
     "output_type": "execute_result"
    }
   ],
   "source": [
    "# i.Extract all NOUN tokens from this story.\n",
    "nouns = []\n",
    "for token in doc:\n",
    "    if token.pos_ in [\"PROPN\", \"NOUN\"]:\n",
    "        nouns.append(token)\n",
    "\n",
    "nouns\n",
    "        \n"
   ]
  },
  {
   "cell_type": "code",
   "execution_count": 52,
   "id": "3745febc-5850-4382-8ec7-2f932c83a5cf",
   "metadata": {},
   "outputs": [
    {
     "name": "stdout",
     "output_type": "stream",
     "text": [
      "Total number of nouns are in the given text: 115\n"
     ]
    }
   ],
   "source": [
    "print(\"Total number of nouns are in the given text:\", len(nouns)) "
   ]
  },
  {
   "cell_type": "code",
   "execution_count": 54,
   "id": "74457863-b94c-4bd8-90a2-2468c81fd511",
   "metadata": {},
   "outputs": [
    {
     "data": {
      "text/plain": [
       "[8.3,\n",
       " 8.1,\n",
       " 1982,\n",
       " 6.2,\n",
       " 6,\n",
       " â€,\n",
       " 0.3,\n",
       " 0.2,\n",
       " 0.6,\n",
       " 0.4,\n",
       " 0.1,\n",
       " 0.3,\n",
       " 2.6,\n",
       " 5.5,\n",
       " 2021,\n",
       " 1984,\n",
       " one,\n",
       " two,\n",
       " two,\n",
       " 2]"
      ]
     },
     "execution_count": 54,
     "metadata": {},
     "output_type": "execute_result"
    }
   ],
   "source": [
    "# ii.Extract all numbers (NUM POS type) in a python list\n",
    "\n",
    "numbers = []\n",
    "for token in doc:\n",
    "    if token.pos_ in [\"NUM\"]:\n",
    "        numbers.append(token)\n",
    "\n",
    "numbers"
   ]
  },
  {
   "cell_type": "code",
   "execution_count": 55,
   "id": "94b89806-ccd6-4588-8307-854db979c769",
   "metadata": {},
   "outputs": [
    {
     "name": "stdout",
     "output_type": "stream",
     "text": [
      "Total number of nouns are in the given text: 20\n"
     ]
    }
   ],
   "source": [
    "\n",
    "print(\"Total number of nouns are in the given text:\", len(numbers)) "
   ]
  },
  {
   "cell_type": "code",
   "execution_count": 57,
   "id": "b216c7d5-fb54-4465-9ae8-89c14a799ed7",
   "metadata": {},
   "outputs": [
    {
     "data": {
      "text/plain": [
       "'Inflation rose again in April, continuing a climb that has pushed consumers to the brink and is threatening the economic expansion, the Bureau of Labor Statistics reported Wednesday.\\n\\nThe consumer price index, a broad-based measure of prices for goods and services, increased 8.3% from a year ago, higher than the Dow Jones estimate for an 8.1% gain. That represented a slight ease from Marchâ€™s peak but was still close to the highest level since the summer of 1982.\\n\\nRemoving volatile food and ene'"
      ]
     },
     "execution_count": 57,
     "metadata": {},
     "output_type": "execute_result"
    }
   ],
   "source": [
    "##another way\n",
    "\n",
    "with open(\"news_story.txt\",\"r\") as f:\n",
    "    news_text = f.read()\n",
    "    \n",
    "news_text[:500]"
   ]
  },
  {
   "cell_type": "code",
   "execution_count": 58,
   "id": "d8ac8462-35ba-4475-b5fa-d960dabcdbfa",
   "metadata": {},
   "outputs": [],
   "source": [
    "doc = nlp(news_text)\n",
    "\n",
    "numeral_tokens = []\n",
    "noun_tokens = []\n",
    "\n",
    "for token in doc:\n",
    "    if token.pos_ == \"NOUN\":\n",
    "        noun_tokens.append(token)\n",
    "    elif token.pos_ == 'NUM':\n",
    "        numeral_tokens.append(token)"
   ]
  },
  {
   "cell_type": "code",
   "execution_count": 59,
   "id": "8b13ef75-4c87-4d96-a504-c1106641745b",
   "metadata": {},
   "outputs": [
    {
     "data": {
      "text/plain": [
       "[8.3, 8.1, 1982, 6.2, 6, â€, 0.3, 0.2, 0.6, 0.4]"
      ]
     },
     "execution_count": 59,
     "metadata": {},
     "output_type": "execute_result"
    }
   ],
   "source": [
    "numeral_tokens[:10]"
   ]
  },
  {
   "cell_type": "code",
   "execution_count": 60,
   "id": "a53c7ce0-6fcd-4f0d-8fef-ef0cf4ac0597",
   "metadata": {},
   "outputs": [
    {
     "data": {
      "text/plain": [
       "[Inflation,\n",
       " climb,\n",
       " consumers,\n",
       " brink,\n",
       " expansion,\n",
       " consumer,\n",
       " price,\n",
       " index,\n",
       " measure,\n",
       " prices]"
      ]
     },
     "execution_count": 60,
     "metadata": {},
     "output_type": "execute_result"
    }
   ],
   "source": [
    "noun_tokens[:10]"
   ]
  },
  {
   "cell_type": "code",
   "execution_count": 61,
   "id": "7907bf9f-9c81-497d-81dc-2cb90ac5bec0",
   "metadata": {},
   "outputs": [
    {
     "data": {
      "text/plain": [
       "{92: 98,\n",
       " 100: 27,\n",
       " 86: 15,\n",
       " 85: 39,\n",
       " 96: 17,\n",
       " 97: 32,\n",
       " 90: 34,\n",
       " 95: 4,\n",
       " 87: 13,\n",
       " 89: 10,\n",
       " 84: 23,\n",
       " 103: 7,\n",
       " 93: 20,\n",
       " 94: 4,\n",
       " 98: 8,\n",
       " 101: 1}"
      ]
     },
     "execution_count": 61,
     "metadata": {},
     "output_type": "execute_result"
    }
   ],
   "source": [
    "count = doc.count_by(spacy.attrs.POS)\n",
    "count"
   ]
  },
  {
   "cell_type": "code",
   "execution_count": 62,
   "id": "83daf5dc-8dba-475f-88ab-b2966e68146c",
   "metadata": {},
   "outputs": [
    {
     "name": "stdout",
     "output_type": "stream",
     "text": [
      "NOUN | 98\n",
      "VERB | 27\n",
      "ADV | 15\n",
      "ADP | 39\n",
      "PROPN | 17\n",
      "PUNCT | 32\n",
      "DET | 34\n",
      "PRON | 4\n",
      "AUX | 13\n",
      "CCONJ | 10\n",
      "ADJ | 23\n",
      "SPACE | 7\n",
      "NUM | 20\n",
      "PART | 4\n",
      "SCONJ | 8\n",
      "X | 1\n"
     ]
    }
   ],
   "source": [
    "for k,v in count.items():\n",
    "    print(doc.vocab[k].text, \"|\",v)"
   ]
  },
  {
   "cell_type": "code",
   "execution_count": null,
   "id": "1e628b83-8b3d-4b73-9c35-8fceda0bb943",
   "metadata": {},
   "outputs": [],
   "source": []
  }
 ],
 "metadata": {
  "kernelspec": {
   "display_name": "Python 3 (ipykernel)",
   "language": "python",
   "name": "python3"
  },
  "language_info": {
   "codemirror_mode": {
    "name": "ipython",
    "version": 3
   },
   "file_extension": ".py",
   "mimetype": "text/x-python",
   "name": "python",
   "nbconvert_exporter": "python",
   "pygments_lexer": "ipython3",
   "version": "3.11.5"
  }
 },
 "nbformat": 4,
 "nbformat_minor": 5
}
