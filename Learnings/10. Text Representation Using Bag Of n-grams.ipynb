{
 "cells": [
  {
   "cell_type": "markdown",
   "id": "f3c8f10c-540e-40df-b736-8725138a49cd",
   "metadata": {},
   "source": [
    "<h2 align=\"center\">Text Representation Using Bag Of n-grams</h2>"
   ]
  },
  {
   "cell_type": "markdown",
   "id": "c16b6ead-5f45-4a09-974a-348574c6a5b1",
   "metadata": {},
   "source": [
    "* Capturing 2 words - Bi gram\n",
    "* Capturing n words - n gram\n",
    "\n",
    "more grams we will get meaning of words\n",
    "Using one gram & bigram gives more meaningful\n",
    "\n",
    "Lmitaion:\n",
    "* Sparsity, high dimensinal\n",
    "* Doesn't address out of vocubulary(OOV) problem"
   ]
  },
  {
   "cell_type": "code",
   "execution_count": 1,
   "id": "f76c58fb-9379-4f14-91b7-8f36131c95ea",
   "metadata": {},
   "outputs": [
    {
     "data": {
      "text/plain": [
       "{'delhi is': 1, 'is the': 2, 'the capital': 4, 'capital of': 0, 'of india': 3}"
      ]
     },
     "execution_count": 1,
     "metadata": {},
     "output_type": "execute_result"
    }
   ],
   "source": [
    "from sklearn.feature_extraction.text import CountVectorizer\n",
    "\n",
    "v = CountVectorizer(ngram_range=(2,2))\n",
    "v.fit([\"Delhi is the capital of India\"])\n",
    "v.vocabulary_"
   ]
  },
  {
   "cell_type": "code",
   "execution_count": 2,
   "id": "2235d4e1-dd2e-4e73-bee0-0499c81e46bd",
   "metadata": {},
   "outputs": [
    {
     "data": {
      "text/plain": [
       "{'delhi': 2,\n",
       " 'is': 5,\n",
       " 'the': 9,\n",
       " 'capital': 0,\n",
       " 'of': 7,\n",
       " 'india': 4,\n",
       " 'delhi is': 3,\n",
       " 'is the': 6,\n",
       " 'the capital': 10,\n",
       " 'capital of': 1,\n",
       " 'of india': 8}"
      ]
     },
     "execution_count": 2,
     "metadata": {},
     "output_type": "execute_result"
    }
   ],
   "source": [
    "v = CountVectorizer(ngram_range=(1,2))\n",
    "v.fit([\"Delhi is the capital of India\"])\n",
    "v.vocabulary_"
   ]
  },
  {
   "cell_type": "code",
   "execution_count": 3,
   "id": "3f295a94-f51c-40e4-a51d-a08415f08de2",
   "metadata": {},
   "outputs": [
    {
     "data": {
      "text/plain": [
       "{'delhi': 3,\n",
       " 'is': 7,\n",
       " 'the': 12,\n",
       " 'capital': 0,\n",
       " 'of': 10,\n",
       " 'india': 6,\n",
       " 'delhi is': 4,\n",
       " 'is the': 8,\n",
       " 'the capital': 13,\n",
       " 'capital of': 1,\n",
       " 'of india': 11,\n",
       " 'delhi is the': 5,\n",
       " 'is the capital': 9,\n",
       " 'the capital of': 14,\n",
       " 'capital of india': 2}"
      ]
     },
     "execution_count": 3,
     "metadata": {},
     "output_type": "execute_result"
    }
   ],
   "source": [
    "v = CountVectorizer(ngram_range=(1,3))\n",
    "v.fit([\"Delhi is the capital of India\"])\n",
    "v.vocabulary_"
   ]
  },
  {
   "cell_type": "code",
   "execution_count": 4,
   "id": "c3c1aa5e-e464-4965-9e63-39ec2f248fb2",
   "metadata": {},
   "outputs": [],
   "source": [
    "corpus = [\n",
    "    \"Thar ate pizza\",\n",
    "    \"Madhu is tall\",\n",
    "    \"Mithun is eating pizza\"]"
   ]
  },
  {
   "cell_type": "code",
   "execution_count": 5,
   "id": "ba1edd50-b551-4161-a44f-265675f76118",
   "metadata": {},
   "outputs": [
    {
     "data": {
      "text/plain": [
       "'Thar eat pizza'"
      ]
     },
     "execution_count": 5,
     "metadata": {},
     "output_type": "execute_result"
    }
   ],
   "source": [
    "import spacy\n",
    "\n",
    "nlp = spacy.load(\"en_core_web_sm\")\n",
    "\n",
    "def preprocess(text):\n",
    "    doc = nlp(text)\n",
    "\n",
    "    filtered_tokens = []\n",
    "\n",
    "    for token in doc:\n",
    "        if token.is_stop or token.is_punct:\n",
    "            continue\n",
    "        filtered_tokens.append(token.lemma_)\n",
    "\n",
    "    return \" \".join(filtered_tokens)\n",
    "\n",
    "\n",
    "preprocess(\"Thar ate pizza\")"
   ]
  },
  {
   "cell_type": "code",
   "execution_count": 6,
   "id": "37bfbf60-eee7-4961-8ed6-0e943a01508f",
   "metadata": {},
   "outputs": [
    {
     "data": {
      "text/plain": [
       "['Thar eat pizza', 'Madhu tall', 'Mithun eat pizza']"
      ]
     },
     "execution_count": 6,
     "metadata": {},
     "output_type": "execute_result"
    }
   ],
   "source": [
    "corpus_processed = [preprocess(text) for text in corpus]\n",
    "corpus_processed"
   ]
  },
  {
   "cell_type": "code",
   "execution_count": 7,
   "id": "be8434bb-d9c0-469e-a03c-ad083f8ddaa2",
   "metadata": {},
   "outputs": [
    {
     "data": {
      "text/plain": [
       "{'thar': 8,\n",
       " 'eat': 0,\n",
       " 'pizza': 6,\n",
       " 'thar eat': 9,\n",
       " 'eat pizza': 1,\n",
       " 'madhu': 2,\n",
       " 'tall': 7,\n",
       " 'madhu tall': 3,\n",
       " 'mithun': 4,\n",
       " 'mithun eat': 5}"
      ]
     },
     "execution_count": 7,
     "metadata": {},
     "output_type": "execute_result"
    }
   ],
   "source": [
    "v = CountVectorizer(ngram_range=(1,2))\n",
    "\n",
    "v.fit(corpus_processed)\n",
    "v.vocabulary_"
   ]
  },
  {
   "cell_type": "code",
   "execution_count": 9,
   "id": "30e3e410-a332-4343-9d0d-f6f5bbaead11",
   "metadata": {},
   "outputs": [
    {
     "data": {
      "text/plain": [
       "array([[1, 1, 0, 0, 0, 0, 1, 0, 0, 0]], dtype=int64)"
      ]
     },
     "execution_count": 9,
     "metadata": {},
     "output_type": "execute_result"
    }
   ],
   "source": [
    "v.transform([\"Thor eat pizza\"]).toarray()"
   ]
  },
  {
   "cell_type": "code",
   "execution_count": 10,
   "id": "413f483b-7106-4677-86a4-7a7b219e6dbb",
   "metadata": {},
   "outputs": [
    {
     "data": {
      "text/plain": [
       "array([[1, 1, 0, 0, 0, 0, 1, 0, 0, 0]], dtype=int64)"
      ]
     },
     "execution_count": 10,
     "metadata": {},
     "output_type": "execute_result"
    }
   ],
   "source": [
    "v.transform([\"ABC eat pizza\"]).toarray()"
   ]
  },
  {
   "cell_type": "markdown",
   "id": "cfd079e7-5c99-4fb6-8dbf-555f85b253bc",
   "metadata": {},
   "source": [
    "<h3>News Category Classification Problem</h3>\n",
    "\n",
    " we want to do a news category classification. We will use bag of n-grams and traing a machine learning model that can categorize any news into one of the following categories\n",
    " \n",
    "B\n",
    "BUSINE, S\r\n",
    "SPO, TS\r\n",
    "C, IME\r\n",
    "SC\n",
    "\n",
    "\n",
    "Dataset: https://www.kaggle.com/code/hengzheng/news-category-classifier-val-acc-0-65IENCE"
   ]
  },
  {
   "cell_type": "code",
   "execution_count": 14,
   "id": "2a771eb2-3f71-4bc7-90da-658a1bfac301",
   "metadata": {},
   "outputs": [
    {
     "data": {
      "text/html": [
       "<div>\n",
       "<style scoped>\n",
       "    .dataframe tbody tr th:only-of-type {\n",
       "        vertical-align: middle;\n",
       "    }\n",
       "\n",
       "    .dataframe tbody tr th {\n",
       "        vertical-align: top;\n",
       "    }\n",
       "\n",
       "    .dataframe thead th {\n",
       "        text-align: right;\n",
       "    }\n",
       "</style>\n",
       "<table border=\"1\" class=\"dataframe\">\n",
       "  <thead>\n",
       "    <tr style=\"text-align: right;\">\n",
       "      <th></th>\n",
       "      <th>text</th>\n",
       "      <th>category</th>\n",
       "    </tr>\n",
       "  </thead>\n",
       "  <tbody>\n",
       "    <tr>\n",
       "      <th>0</th>\n",
       "      <td>Watching Schrödinger's Cat Die University of C...</td>\n",
       "      <td>SCIENCE</td>\n",
       "    </tr>\n",
       "    <tr>\n",
       "      <th>1</th>\n",
       "      <td>WATCH: Freaky Vortex Opens Up In Flooded Lake</td>\n",
       "      <td>SCIENCE</td>\n",
       "    </tr>\n",
       "    <tr>\n",
       "      <th>2</th>\n",
       "      <td>Entrepreneurs Today Don't Need a Big Budget to...</td>\n",
       "      <td>BUSINESS</td>\n",
       "    </tr>\n",
       "    <tr>\n",
       "      <th>3</th>\n",
       "      <td>These Roads Could Recharge Your Electric Car A...</td>\n",
       "      <td>BUSINESS</td>\n",
       "    </tr>\n",
       "    <tr>\n",
       "      <th>4</th>\n",
       "      <td>Civilian 'Guard' Fires Gun While 'Protecting' ...</td>\n",
       "      <td>CRIME</td>\n",
       "    </tr>\n",
       "  </tbody>\n",
       "</table>\n",
       "</div>"
      ],
      "text/plain": [
       "                                                text  category\n",
       "0  Watching Schrödinger's Cat Die University of C...   SCIENCE\n",
       "1     WATCH: Freaky Vortex Opens Up In Flooded Lake    SCIENCE\n",
       "2  Entrepreneurs Today Don't Need a Big Budget to...  BUSINESS\n",
       "3  These Roads Could Recharge Your Electric Car A...  BUSINESS\n",
       "4  Civilian 'Guard' Fires Gun While 'Protecting' ...     CRIME"
      ]
     },
     "execution_count": 14,
     "metadata": {},
     "output_type": "execute_result"
    }
   ],
   "source": [
    "import pandas as pd\n",
    "import matplotlib.pyplot as plt\n",
    "\n",
    "df = pd.read_json(\"news_dataset.json\")\n",
    "df.head()"
   ]
  },
  {
   "cell_type": "code",
   "execution_count": 54,
   "id": "d38e87b4-61d0-4093-939e-d509f621aa67",
   "metadata": {},
   "outputs": [
    {
     "data": {
      "text/plain": [
       "(12695, 2)"
      ]
     },
     "execution_count": 54,
     "metadata": {},
     "output_type": "execute_result"
    }
   ],
   "source": [
    "df.shape"
   ]
  },
  {
   "cell_type": "code",
   "execution_count": 15,
   "id": "080aa3cb-bb32-4607-8b54-5edfd7da6841",
   "metadata": {},
   "outputs": [
    {
     "data": {
      "text/plain": [
       "text        0\n",
       "category    0\n",
       "dtype: int64"
      ]
     },
     "execution_count": 15,
     "metadata": {},
     "output_type": "execute_result"
    }
   ],
   "source": [
    "df.isnull().sum()"
   ]
  },
  {
   "cell_type": "code",
   "execution_count": 47,
   "id": "7b59f3ae-4e2b-4d40-a92b-96db01018a9d",
   "metadata": {},
   "outputs": [
    {
     "data": {
      "text/plain": [
       "category\n",
       "BUSINESS    4254\n",
       "SPORTS      4167\n",
       "CRIME       2893\n",
       "SCIENCE     1381\n",
       "Name: count, dtype: int64"
      ]
     },
     "execution_count": 47,
     "metadata": {},
     "output_type": "execute_result"
    }
   ],
   "source": [
    "value_counts = df.category.value_counts()\n",
    "value_counts = pd.Series(value_counts)\n",
    "value_counts"
   ]
  },
  {
   "cell_type": "code",
   "execution_count": 48,
   "id": "17bb5090-c653-4f70-83ec-e3c339228c6f",
   "metadata": {},
   "outputs": [
    {
     "data": {
      "image/png": "[encoded data removed]",
      "text/plain": [
       "<Figure size 640x480 with 1 Axes>"
      ]
     },
     "metadata": {},
     "output_type": "display_data"
    }
   ],
   "source": [
    "value_counts.plot(kind=\"bar\",  fontsize = 10.00)\n",
    "plt.xlabel(\"Category\", fontsize=10)\n",
    "plt.ylabel(\"Value Counts\", fontsize=10)\n",
    "plt.title(\"Values Counts in each category\", fontsize=20 )\n",
    "plt.show()\n",
    "\n"
   ]
  },
  {
   "cell_type": "code",
   "execution_count": 59,
   "id": "9d830485-05d1-45c5-9400-a2616cc4e6aa",
   "metadata": {},
   "outputs": [
    {
     "name": "stdout",
     "output_type": "stream",
     "text": [
      "Category: BUSINESS  |  4254  |  Percentage 33.51 %\n",
      "Category: SPORTS  |  4167  |  Percentage 32.82 %\n",
      "Category: CRIME  |  2893  |  Percentage 22.79 %\n",
      "Category: SCIENCE  |  1381  |  Percentage 10.88 %\n"
     ]
    }
   ],
   "source": [
    "for category, count in value_counts.items():\n",
    "    print(\"Category:\", category ,\" | \", count,\" | \", \"Percentage\", \"{:.2f}\".format(count/df.shape[0]*100),\"%\")\n"
   ]
  },
  {
   "cell_type": "markdown",
   "id": "e0fcbb39-6d4c-4996-a613-f6cc5bc146c4",
   "metadata": {},
   "source": [
    "There is some imblance in the dataset, so need to handle"
   ]
  },
  {
   "cell_type": "markdown",
   "id": "4c73cfac-7781-4c9c-8a3a-01eec0bf7e34",
   "metadata": {},
   "source": [
    "**Handle class imbalance**\n",
    "\n",
    "So many techniques are there to handle, here we are using undersampling\n",
    "\n",
    "In undersampling, we take a minor class and sample those many samples from other classes, this means we are not utilizing all the data samples for training and in ML world - Not using all the data for training is considered a SIN! 😵 In real life, you are advised to use a technique such as SMOTE so that you can utilize all of your dataset for the training but since this tutorial is more about bag of n-grams then class imbalance itself, I'd go with a simple technique of undersampling."
   ]
  },
  {
   "cell_type": "code",
   "execution_count": 93,
   "id": "32643528-a4e4-4395-b115-34361fc4758f",
   "metadata": {},
   "outputs": [],
   "source": [
    "min_sample  = 1381 # we have these many SCIENCE articles and SCIENCE is our minority class\n",
    "\n",
    "df_business = df[df.category==\"BUSINESS\"].sample(min_sample, random_state=2022)\n",
    "df_sports = df[df.category==\"SPORTS\"].sample(min_sample, random_state=2022)\n",
    "df_crime = df[df.category==\"CRIME\"].sample(min_sample, random_state=2022)\n",
    "df_science = df[df.category==\"SCIENCE\"].sample(min_sample, random_state=2022)"
   ]
  },
  {
   "cell_type": "code",
   "execution_count": 64,
   "id": "a4275351-8f38-405c-b7be-e48690a511e9",
   "metadata": {},
   "outputs": [
    {
     "data": {
      "text/html": [
       "<div>\n",
       "<style scoped>\n",
       "    .dataframe tbody tr th:only-of-type {\n",
       "        vertical-align: middle;\n",
       "    }\n",
       "\n",
       "    .dataframe tbody tr th {\n",
       "        vertical-align: top;\n",
       "    }\n",
       "\n",
       "    .dataframe thead th {\n",
       "        text-align: right;\n",
       "    }\n",
       "</style>\n",
       "<table border=\"1\" class=\"dataframe\">\n",
       "  <thead>\n",
       "    <tr style=\"text-align: right;\">\n",
       "      <th></th>\n",
       "      <th>text</th>\n",
       "      <th>category</th>\n",
       "    </tr>\n",
       "  </thead>\n",
       "  <tbody>\n",
       "    <tr>\n",
       "      <th>11967</th>\n",
       "      <td>GCC Business Leaders Remain Confident in the F...</td>\n",
       "      <td>BUSINESS</td>\n",
       "    </tr>\n",
       "    <tr>\n",
       "      <th>2912</th>\n",
       "      <td>From the Other Side; an Honest Review from Emp...</td>\n",
       "      <td>BUSINESS</td>\n",
       "    </tr>\n",
       "    <tr>\n",
       "      <th>3408</th>\n",
       "      <td>Mike McDerment, CEO of FreshBooks, Talks About...</td>\n",
       "      <td>BUSINESS</td>\n",
       "    </tr>\n",
       "    <tr>\n",
       "      <th>502</th>\n",
       "      <td>How to Market Your Business While Traveling th...</td>\n",
       "      <td>BUSINESS</td>\n",
       "    </tr>\n",
       "    <tr>\n",
       "      <th>5279</th>\n",
       "      <td>How to Leverage Intuition in Decision-making I...</td>\n",
       "      <td>BUSINESS</td>\n",
       "    </tr>\n",
       "  </tbody>\n",
       "</table>\n",
       "</div>"
      ],
      "text/plain": [
       "                                                    text  category\n",
       "11967  GCC Business Leaders Remain Confident in the F...  BUSINESS\n",
       "2912   From the Other Side; an Honest Review from Emp...  BUSINESS\n",
       "3408   Mike McDerment, CEO of FreshBooks, Talks About...  BUSINESS\n",
       "502    How to Market Your Business While Traveling th...  BUSINESS\n",
       "5279   How to Leverage Intuition in Decision-making I...  BUSINESS"
      ]
     },
     "execution_count": 64,
     "metadata": {},
     "output_type": "execute_result"
    }
   ],
   "source": [
    "df_balanced = pd.concat([df_business, df_sports, df_crime, df_science], axis=0)\n",
    "df_balanced.head()"
   ]
  },
  {
   "cell_type": "code",
   "execution_count": 67,
   "id": "8b24573a-042a-4281-9007-7418531e841f",
   "metadata": {},
   "outputs": [
    {
     "data": {
      "text/plain": [
       "category\n",
       "BUSINESS    1381\n",
       "SPORTS      1381\n",
       "CRIME       1381\n",
       "SCIENCE     1381\n",
       "Name: count, dtype: int64"
      ]
     },
     "execution_count": 67,
     "metadata": {},
     "output_type": "execute_result"
    }
   ],
   "source": [
    "df_balanced.category.value_counts()"
   ]
  },
  {
   "cell_type": "code",
   "execution_count": 68,
   "id": "617d2c2d-da2c-4339-aa53-e4ec4cc4a27c",
   "metadata": {},
   "outputs": [],
   "source": [
    "df_balanced[\"category\"] = df_balanced.category.replace({\"BUSINESS\": 0, \"SPORTS\":1, \"CRIME\":2, \"SCIENCE\":3})"
   ]
  },
  {
   "cell_type": "code",
   "execution_count": 69,
   "id": "ce6ac42d-e2a5-48fb-9e93-8b3687f4c078",
   "metadata": {},
   "outputs": [
    {
     "data": {
      "text/html": [
       "<div>\n",
       "<style scoped>\n",
       "    .dataframe tbody tr th:only-of-type {\n",
       "        vertical-align: middle;\n",
       "    }\n",
       "\n",
       "    .dataframe tbody tr th {\n",
       "        vertical-align: top;\n",
       "    }\n",
       "\n",
       "    .dataframe thead th {\n",
       "        text-align: right;\n",
       "    }\n",
       "</style>\n",
       "<table border=\"1\" class=\"dataframe\">\n",
       "  <thead>\n",
       "    <tr style=\"text-align: right;\">\n",
       "      <th></th>\n",
       "      <th>text</th>\n",
       "      <th>category</th>\n",
       "    </tr>\n",
       "  </thead>\n",
       "  <tbody>\n",
       "    <tr>\n",
       "      <th>11967</th>\n",
       "      <td>GCC Business Leaders Remain Confident in the F...</td>\n",
       "      <td>0</td>\n",
       "    </tr>\n",
       "    <tr>\n",
       "      <th>2912</th>\n",
       "      <td>From the Other Side; an Honest Review from Emp...</td>\n",
       "      <td>0</td>\n",
       "    </tr>\n",
       "    <tr>\n",
       "      <th>3408</th>\n",
       "      <td>Mike McDerment, CEO of FreshBooks, Talks About...</td>\n",
       "      <td>0</td>\n",
       "    </tr>\n",
       "    <tr>\n",
       "      <th>502</th>\n",
       "      <td>How to Market Your Business While Traveling th...</td>\n",
       "      <td>0</td>\n",
       "    </tr>\n",
       "    <tr>\n",
       "      <th>5279</th>\n",
       "      <td>How to Leverage Intuition in Decision-making I...</td>\n",
       "      <td>0</td>\n",
       "    </tr>\n",
       "  </tbody>\n",
       "</table>\n",
       "</div>"
      ],
      "text/plain": [
       "                                                    text  category\n",
       "11967  GCC Business Leaders Remain Confident in the F...         0\n",
       "2912   From the Other Side; an Honest Review from Emp...         0\n",
       "3408   Mike McDerment, CEO of FreshBooks, Talks About...         0\n",
       "502    How to Market Your Business While Traveling th...         0\n",
       "5279   How to Leverage Intuition in Decision-making I...         0"
      ]
     },
     "execution_count": 69,
     "metadata": {},
     "output_type": "execute_result"
    }
   ],
   "source": [
    "df_balanced.head()"
   ]
  },
  {
   "cell_type": "markdown",
   "id": "cdaabf03-0bbe-43e4-9b58-e4c7bd89a500",
   "metadata": {},
   "source": [
    "<h3>Build a model with original text (no pre processing)</h3>"
   ]
  },
  {
   "cell_type": "code",
   "execution_count": 70,
   "id": "fe891f7a-21f1-43d9-8e81-c95a5cc77964",
   "metadata": {},
   "outputs": [],
   "source": [
    "from sklearn.model_selection import train_test_split\n",
    "\n",
    "x_train, x_test, y_train, y_test = train_test_split(df_balanced[\"text\"], df_balanced[\"category\"], test_size=0.2, random_state=52,\n",
    "                                                    stratify=df_balanced.category) #to get equal number of category in each sample\n",
    "\n"
   ]
  },
  {
   "cell_type": "code",
   "execution_count": 72,
   "id": "697cc281-c196-4ac7-a793-b697d19a4b5e",
   "metadata": {},
   "outputs": [
    {
     "data": {
      "text/plain": [
       "(4419,)"
      ]
     },
     "execution_count": 72,
     "metadata": {},
     "output_type": "execute_result"
    }
   ],
   "source": [
    "x_train.shape"
   ]
  },
  {
   "cell_type": "code",
   "execution_count": 82,
   "id": "6572fd2b-f123-4e92-b020-353d84019c00",
   "metadata": {},
   "outputs": [
    {
     "data": {
      "text/plain": [
       "(4419,)"
      ]
     },
     "execution_count": 82,
     "metadata": {},
     "output_type": "execute_result"
    }
   ],
   "source": [
    "y_train.shape"
   ]
  },
  {
   "cell_type": "code",
   "execution_count": 73,
   "id": "d02e06bf-8002-4e1e-ad04-72e7ed4f2186",
   "metadata": {},
   "outputs": [
    {
     "data": {
      "text/plain": [
       "(1105,)"
      ]
     },
     "execution_count": 73,
     "metadata": {},
     "output_type": "execute_result"
    }
   ],
   "source": [
    "x_test.shape"
   ]
  },
  {
   "cell_type": "code",
   "execution_count": 77,
   "id": "92ccf0e4-e4d8-4217-9e37-969273803063",
   "metadata": {},
   "outputs": [
    {
     "data": {
      "text/plain": [
       "category\n",
       "2    1105\n",
       "3    1105\n",
       "0    1105\n",
       "1    1104\n",
       "Name: count, dtype: int64"
      ]
     },
     "execution_count": 77,
     "metadata": {},
     "output_type": "execute_result"
    }
   ],
   "source": [
    "y_train.value_counts()"
   ]
  },
  {
   "cell_type": "code",
   "execution_count": 78,
   "id": "c30357e3-0375-4c64-aecd-6e22d8546097",
   "metadata": {},
   "outputs": [],
   "source": [
    "from sklearn.naive_bayes import MultinomialNB\n",
    "from sklearn.pipeline import Pipeline\n",
    "from sklearn.metrics import classification_report"
   ]
  },
  {
   "cell_type": "code",
   "execution_count": 84,
   "id": "180219a4-14b1-4e94-b4c0-2cf42c255965",
   "metadata": {},
   "outputs": [
    {
     "name": "stdout",
     "output_type": "stream",
     "text": [
      "              precision    recall  f1-score   support\n",
      "\n",
      "           0       0.79      0.91      0.84       276\n",
      "           1       0.93      0.87      0.90       277\n",
      "           2       0.88      0.92      0.90       276\n",
      "           3       0.94      0.80      0.86       276\n",
      "\n",
      "    accuracy                           0.88      1105\n",
      "   macro avg       0.88      0.88      0.88      1105\n",
      "weighted avg       0.88      0.88      0.88      1105\n",
      "\n"
     ]
    }
   ],
   "source": [
    "#withoun n grams\n",
    "clf = Pipeline([\n",
    "    ('vectorizer_bow', CountVectorizer()),\n",
    "    (\"MultiNB\", MultinomialNB())\n",
    "])\n",
    "\n",
    "clf.fit(x_train, y_train)\n",
    "\n",
    "y_pred = clf.predict(x_test)\n",
    "\n",
    "print(classification_report(y_test, y_pred))"
   ]
  },
  {
   "cell_type": "markdown",
   "id": "e77e4b64-cfc0-430a-bffe-9862f0002b20",
   "metadata": {},
   "source": [
    "<h3>Use 1-gram and bigrams</h3>"
   ]
  },
  {
   "cell_type": "code",
   "execution_count": 85,
   "id": "e8729762-0062-4b82-8526-c05e9e455fdb",
   "metadata": {},
   "outputs": [
    {
     "name": "stdout",
     "output_type": "stream",
     "text": [
      "              precision    recall  f1-score   support\n",
      "\n",
      "           0       0.71      0.94      0.81       276\n",
      "           1       0.95      0.83      0.88       277\n",
      "           2       0.90      0.89      0.89       276\n",
      "           3       0.94      0.76      0.84       276\n",
      "\n",
      "    accuracy                           0.86      1105\n",
      "   macro avg       0.87      0.86      0.86      1105\n",
      "weighted avg       0.87      0.86      0.86      1105\n",
      "\n"
     ]
    }
   ],
   "source": [
    "#with n grams\n",
    "clf = Pipeline([\n",
    "    ('vectorizer_bow', CountVectorizer(ngram_range=(1,2))),\n",
    "    (\"MultiNB\", MultinomialNB())\n",
    "])\n",
    "\n",
    "clf.fit(x_train, y_train)\n",
    "\n",
    "y_pred = clf.predict(x_test)\n",
    "\n",
    "print(classification_report(y_test, y_pred))"
   ]
  },
  {
   "cell_type": "code",
   "execution_count": 86,
   "id": "a0c57a63-d3c6-469e-a48c-b152801fdf87",
   "metadata": {},
   "outputs": [
    {
     "data": {
      "text/plain": [
       "6105     0\n",
       "10566    0\n",
       "11015    3\n",
       "7295     3\n",
       "8382     2\n",
       "Name: category, dtype: int64"
      ]
     },
     "execution_count": 86,
     "metadata": {},
     "output_type": "execute_result"
    }
   ],
   "source": [
    "y_test[0:5]"
   ]
  },
  {
   "cell_type": "code",
   "execution_count": 87,
   "id": "1aa96268-a73c-4b92-8e8d-e0780e8464ce",
   "metadata": {},
   "outputs": [
    {
     "data": {
      "text/plain": [
       "array([0, 0, 3, 0, 2], dtype=int64)"
      ]
     },
     "execution_count": 87,
     "metadata": {},
     "output_type": "execute_result"
    }
   ],
   "source": [
    "y_pred[0:5]"
   ]
  },
  {
   "cell_type": "markdown",
   "id": "07e085ba-9566-4415-9392-e89ed590b5c6",
   "metadata": {},
   "source": [
    "<h3>Use text pre-processing to remove stop words, punctuations and apply lemmatization</h3>\n",
    "\n",
    "we have not done any text-processing yet to remove stop words, punctuations, apply lemmatization etc. Well we wanted to train the model without any preprocessing first and check the performance. Now we will re-do same thing but with preprocessing of text"
   ]
  },
  {
   "cell_type": "code",
   "execution_count": 89,
   "id": "765194f0-7e7d-4215-8c91-dc63f8a08c80",
   "metadata": {},
   "outputs": [],
   "source": [
    "df_balanced[\"preprocessed_tet\"] = df_balanced.text.apply(preprocess)"
   ]
  },
  {
   "cell_type": "code",
   "execution_count": 90,
   "id": "f07f3b96-681f-45f4-8b08-65c5f3fad426",
   "metadata": {},
   "outputs": [
    {
     "data": {
      "text/html": [
       "<div>\n",
       "<style scoped>\n",
       "    .dataframe tbody tr th:only-of-type {\n",
       "        vertical-align: middle;\n",
       "    }\n",
       "\n",
       "    .dataframe tbody tr th {\n",
       "        vertical-align: top;\n",
       "    }\n",
       "\n",
       "    .dataframe thead th {\n",
       "        text-align: right;\n",
       "    }\n",
       "</style>\n",
       "<table border=\"1\" class=\"dataframe\">\n",
       "  <thead>\n",
       "    <tr style=\"text-align: right;\">\n",
       "      <th></th>\n",
       "      <th>text</th>\n",
       "      <th>category</th>\n",
       "      <th>preprocessed_tet</th>\n",
       "    </tr>\n",
       "  </thead>\n",
       "  <tbody>\n",
       "    <tr>\n",
       "      <th>11967</th>\n",
       "      <td>GCC Business Leaders Remain Confident in the F...</td>\n",
       "      <td>0</td>\n",
       "      <td>GCC Business Leaders remain Confident Face Reg...</td>\n",
       "    </tr>\n",
       "    <tr>\n",
       "      <th>2912</th>\n",
       "      <td>From the Other Side; an Honest Review from Emp...</td>\n",
       "      <td>0</td>\n",
       "      <td>Honest Review employee wake morning love impor...</td>\n",
       "    </tr>\n",
       "    <tr>\n",
       "      <th>3408</th>\n",
       "      <td>Mike McDerment, CEO of FreshBooks, Talks About...</td>\n",
       "      <td>0</td>\n",
       "      <td>Mike McDerment ceo FreshBooks Talks give build...</td>\n",
       "    </tr>\n",
       "    <tr>\n",
       "      <th>502</th>\n",
       "      <td>How to Market Your Business While Traveling th...</td>\n",
       "      <td>0</td>\n",
       "      <td>market business travel World recently amazing ...</td>\n",
       "    </tr>\n",
       "    <tr>\n",
       "      <th>5279</th>\n",
       "      <td>How to Leverage Intuition in Decision-making I...</td>\n",
       "      <td>0</td>\n",
       "      <td>Leverage intuition decision making feel safe r...</td>\n",
       "    </tr>\n",
       "  </tbody>\n",
       "</table>\n",
       "</div>"
      ],
      "text/plain": [
       "                                                    text  category  \\\n",
       "11967  GCC Business Leaders Remain Confident in the F...         0   \n",
       "2912   From the Other Side; an Honest Review from Emp...         0   \n",
       "3408   Mike McDerment, CEO of FreshBooks, Talks About...         0   \n",
       "502    How to Market Your Business While Traveling th...         0   \n",
       "5279   How to Leverage Intuition in Decision-making I...         0   \n",
       "\n",
       "                                        preprocessed_tet  \n",
       "11967  GCC Business Leaders remain Confident Face Reg...  \n",
       "2912   Honest Review employee wake morning love impor...  \n",
       "3408   Mike McDerment ceo FreshBooks Talks give build...  \n",
       "502    market business travel World recently amazing ...  \n",
       "5279   Leverage intuition decision making feel safe r...  "
      ]
     },
     "execution_count": 90,
     "metadata": {},
     "output_type": "execute_result"
    }
   ],
   "source": [
    "df_balanced.head()"
   ]
  },
  {
   "cell_type": "markdown",
   "id": "fae6bcf2-3a49-4f00-8337-8ef660bc4588",
   "metadata": {},
   "source": [
    "<h2>Build a model with pre processed text</h2>"
   ]
  },
  {
   "cell_type": "code",
   "execution_count": 91,
   "id": "9e751dcd-a619-466a-a06c-0f18d923f2aa",
   "metadata": {},
   "outputs": [],
   "source": [
    "x_train, x_test, y_train, y_test = train_test_split(df_balanced[\"preprocessed_tet\"], df_balanced[\"category\"], test_size=0.2, random_state=52,\n",
    "                                                    stratify=df_balanced.category)"
   ]
  },
  {
   "cell_type": "code",
   "execution_count": 92,
   "id": "430d4583-6d64-4040-b3ae-1f6a00f61891",
   "metadata": {},
   "outputs": [
    {
     "name": "stdout",
     "output_type": "stream",
     "text": [
      "              precision    recall  f1-score   support\n",
      "\n",
      "           0       0.82      0.89      0.86       276\n",
      "           1       0.94      0.89      0.91       277\n",
      "           2       0.86      0.93      0.90       276\n",
      "           3       0.94      0.82      0.87       276\n",
      "\n",
      "    accuracy                           0.89      1105\n",
      "   macro avg       0.89      0.89      0.89      1105\n",
      "weighted avg       0.89      0.89      0.89      1105\n",
      "\n"
     ]
    }
   ],
   "source": [
    "# & preprocessed text \n",
    "clf = Pipeline([\n",
    "    ('vectorizer_bow', CountVectorizer(ngram_range=(1,2))),\n",
    "    (\"MultiNB\", MultinomialNB())\n",
    "])\n",
    "\n",
    "clf.fit(x_train, y_train)\n",
    "\n",
    "y_pred = clf.predict(x_test)\n",
    "\n",
    "print(classification_report(y_test, y_pred))"
   ]
  },
  {
   "cell_type": "markdown",
   "id": "2a0fbe13-1cad-434a-8958-0776e778425b",
   "metadata": {},
   "source": [
    "Conclusion: If you compare above classification report for (1,2) gram with the one from unprocessed text, you will find some improvement in the model that uses preprocessed cleaned up text. Hence we can conclude that for this particular problem using preprocessing (removing stop words, lemmatization) is improving the performance of the model."
   ]
  },
  {
   "cell_type": "markdown",
   "id": "36fd33c0-e507-4f6e-b796-b97e9a7de1bf",
   "metadata": {},
   "source": [
    "<h3>Plot confusion matrix</h3>"
   ]
  },
  {
   "cell_type": "code",
   "execution_count": 94,
   "id": "51595990-5997-482b-9dc2-e18e01f390f3",
   "metadata": {},
   "outputs": [
    {
     "data": {
      "text/plain": [
       "array([[247,   8,  15,   6],\n",
       "       [ 12, 247,  13,   5],\n",
       "       [ 11,   3, 258,   4],\n",
       "       [ 30,   6,  14, 226]], dtype=int64)"
      ]
     },
     "execution_count": 94,
     "metadata": {},
     "output_type": "execute_result"
    }
   ],
   "source": [
    "from sklearn.metrics import confusion_matrix\n",
    "cm = confusion_matrix(y_test, y_pred)\n",
    "cm"
   ]
  },
  {
   "cell_type": "code",
   "execution_count": 97,
   "id": "7b5b8024-ffbf-46a8-88f7-858af0241cd7",
   "metadata": {},
   "outputs": [
    {
     "data": {
      "text/plain": [
       "Text(70.72222222222221, 0.5, 'Truth')"
      ]
     },
     "execution_count": 97,
     "metadata": {},
     "output_type": "execute_result"
    },
    {
     "data": {
      "image/png": "[encoded data removed]",
      "text/plain": [
       "<Figure size 800x600 with 2 Axes>"
      ]
     },
     "metadata": {},
     "output_type": "display_data"
    }
   ],
   "source": [
    "from matplotlib import pyplot as plt\n",
    "import seaborn as sn\n",
    "plt.figure(figsize = (8,6))\n",
    "sn.heatmap(cm, annot=True, fmt='d')\n",
    "plt.xlabel('Prediction')\n",
    "plt.ylabel('Truth')"
   ]
  },
  {
   "cell_type": "code",
   "execution_count": null,
   "id": "ace43e81-d6de-4c3c-beb0-7de46faa5e51",
   "metadata": {},
   "outputs": [],
   "source": []
  }
 ],
 "metadata": {
  "kernelspec": {
   "display_name": "Python 3 (ipykernel)",
   "language": "python",
   "name": "python3"
  },
  "language_info": {
   "codemirror_mode": {
    "name": "ipython",
    "version": 3
   },
   "file_extension": ".py",
   "mimetype": "text/x-python",
   "name": "python",
   "nbconvert_exporter": "python",
   "pygments_lexer": "ipython3",
   "version": "3.11.5"
  }
 },
 "nbformat": 4,
 "nbformat_minor": 5
}
