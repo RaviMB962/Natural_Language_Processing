{
 "cells": [
  {
   "cell_type": "markdown",
   "id": "3a66aca0-b08d-48a5-931a-3a3459dc8695",
   "metadata": {},
   "source": [
    "<h2 align= \"center\">Stop Words</h2>"
   ]
  },
  {
   "cell_type": "code",
   "execution_count": 1,
   "id": "e773c798-5043-4905-9629-a3a1e315b9eb",
   "metadata": {},
   "outputs": [
    {
     "data": {
      "text/plain": [
       "326"
      ]
     },
     "execution_count": 1,
     "metadata": {},
     "output_type": "execute_result"
    }
   ],
   "source": [
    "import spacy\n",
    "\n",
    "from spacy.lang.en.stop_words import STOP_WORDS\n",
    "\n",
    "len(STOP_WORDS)"
   ]
  },
  {
   "cell_type": "code",
   "execution_count": 11,
   "id": "55808b5d-c493-4f56-8b90-0c8438863a2c",
   "metadata": {},
   "outputs": [
    {
     "name": "stdout",
     "output_type": "stream",
     "text": [
      "We\n",
      "just\n",
      "started\n",
      "our\n",
      "vehicle\n",
      ",\n",
      "we\n",
      "will\n",
      "leave\n",
      "soon\n",
      ".\n"
     ]
    }
   ],
   "source": [
    "nlp = spacy.load(\"en_core_web_sm\")\n",
    "\n",
    "doc = nlp(\"We just started our vehicle, we will leave soon.\")\n",
    "\n",
    "for token in doc:\n",
    "    print(token)"
   ]
  },
  {
   "cell_type": "code",
   "execution_count": 12,
   "id": "c0167010-07f4-4956-8e4d-7598163cd1b2",
   "metadata": {},
   "outputs": [
    {
     "name": "stdout",
     "output_type": "stream",
     "text": [
      "We\n",
      "just\n",
      "our\n",
      "we\n",
      "will\n"
     ]
    }
   ],
   "source": [
    "for token in doc:\n",
    "    if token.is_stop:\n",
    "        print(token)"
   ]
  },
  {
   "cell_type": "code",
   "execution_count": 47,
   "id": "670d92e6-c7f8-4afb-b46e-ee8231f59f13",
   "metadata": {},
   "outputs": [],
   "source": [
    "#create preproceess fun to remoe stop words\n",
    "\n",
    "def preprocess(text):\n",
    "    doc = nlp(text)\n",
    "\n",
    "    filtred_text= [ token.text for token in doc if not token.is_stop and not token.is_punct]\n",
    "    return \" \".join(filtred_text)\n",
    "            "
   ]
  },
  {
   "cell_type": "code",
   "execution_count": 48,
   "id": "c5a587d8-6c34-4ea5-b3b2-d084f1d4549c",
   "metadata": {},
   "outputs": [
    {
     "data": {
      "text/plain": [
       "'started vehicle leave soon'"
      ]
     },
     "execution_count": 48,
     "metadata": {},
     "output_type": "execute_result"
    }
   ],
   "source": [
    "preprocess(\"We just started our vehicle, we will leave soon.\")"
   ]
  },
  {
   "cell_type": "markdown",
   "id": "3e6f58e3-5f3a-4957-b05d-e6c5009da7d7",
   "metadata": {},
   "source": [
    "# Download Data\n",
    "\n",
    "https://www.kaggle.com/datasets/jbencina/department-of-justice-20092018-press-releases\n",
    "\n",
    "It contains press releases of different court cases from depart of justice (DOJ). The releases contain information such as outcomes of criminal cases, notable actions taken against felons, or other updates about the current administration."
   ]
  },
  {
   "cell_type": "code",
   "execution_count": 31,
   "id": "dea4523d-7562-4c74-b055-02ad9e317785",
   "metadata": {},
   "outputs": [],
   "source": [
    "import pandas as pd"
   ]
  },
  {
   "cell_type": "code",
   "execution_count": 32,
   "id": "74673b81-5cbe-4f2a-b6e0-b24f00812118",
   "metadata": {},
   "outputs": [
    {
     "data": {
      "text/plain": [
       "(13087, 6)"
      ]
     },
     "execution_count": 32,
     "metadata": {},
     "output_type": "execute_result"
    }
   ],
   "source": [
    "data = pd.read_json(\"doj_press.json\", lines=True)\n",
    "data.shape"
   ]
  },
  {
   "cell_type": "code",
   "execution_count": 33,
   "id": "f3ad8620-4e48-44bd-b148-314a5a0caf8e",
   "metadata": {},
   "outputs": [
    {
     "data": {
      "text/html": [
       "<div>\n",
       "<style scoped>\n",
       "    .dataframe tbody tr th:only-of-type {\n",
       "        vertical-align: middle;\n",
       "    }\n",
       "\n",
       "    .dataframe tbody tr th {\n",
       "        vertical-align: top;\n",
       "    }\n",
       "\n",
       "    .dataframe thead th {\n",
       "        text-align: right;\n",
       "    }\n",
       "</style>\n",
       "<table border=\"1\" class=\"dataframe\">\n",
       "  <thead>\n",
       "    <tr style=\"text-align: right;\">\n",
       "      <th></th>\n",
       "      <th>id</th>\n",
       "      <th>title</th>\n",
       "      <th>contents</th>\n",
       "      <th>date</th>\n",
       "      <th>topics</th>\n",
       "      <th>components</th>\n",
       "    </tr>\n",
       "  </thead>\n",
       "  <tbody>\n",
       "    <tr>\n",
       "      <th>0</th>\n",
       "      <td>None</td>\n",
       "      <td>Convicted Bomb Plotter Sentenced to 30 Years</td>\n",
       "      <td>PORTLAND, Oregon. – Mohamed Osman Mohamud, 23,...</td>\n",
       "      <td>2014-10-01T00:00:00-04:00</td>\n",
       "      <td>[]</td>\n",
       "      <td>[National Security Division (NSD)]</td>\n",
       "    </tr>\n",
       "    <tr>\n",
       "      <th>1</th>\n",
       "      <td>12-919</td>\n",
       "      <td>$1 Million in Restitution Payments Announced t...</td>\n",
       "      <td>WASHINGTON – North Carolina’s Waccamaw River...</td>\n",
       "      <td>2012-07-25T00:00:00-04:00</td>\n",
       "      <td>[]</td>\n",
       "      <td>[Environment and Natural Resources Division]</td>\n",
       "    </tr>\n",
       "    <tr>\n",
       "      <th>2</th>\n",
       "      <td>11-1002</td>\n",
       "      <td>$1 Million Settlement Reached for Natural Reso...</td>\n",
       "      <td>BOSTON– A $1-million settlement has been...</td>\n",
       "      <td>2011-08-03T00:00:00-04:00</td>\n",
       "      <td>[]</td>\n",
       "      <td>[Environment and Natural Resources Division]</td>\n",
       "    </tr>\n",
       "    <tr>\n",
       "      <th>3</th>\n",
       "      <td>10-015</td>\n",
       "      <td>10 Las Vegas Men Indicted \\r\\nfor Falsifying V...</td>\n",
       "      <td>WASHINGTON—A federal grand jury in Las Vegas...</td>\n",
       "      <td>2010-01-08T00:00:00-05:00</td>\n",
       "      <td>[]</td>\n",
       "      <td>[Environment and Natural Resources Division]</td>\n",
       "    </tr>\n",
       "    <tr>\n",
       "      <th>4</th>\n",
       "      <td>18-898</td>\n",
       "      <td>$100 Million Settlement Will Speed Cleanup Wor...</td>\n",
       "      <td>The U.S. Department of Justice, the U.S. Envir...</td>\n",
       "      <td>2018-07-09T00:00:00-04:00</td>\n",
       "      <td>[Environment]</td>\n",
       "      <td>[Environment and Natural Resources Division]</td>\n",
       "    </tr>\n",
       "  </tbody>\n",
       "</table>\n",
       "</div>"
      ],
      "text/plain": [
       "        id                                              title  \\\n",
       "0     None       Convicted Bomb Plotter Sentenced to 30 Years   \n",
       "1  12-919   $1 Million in Restitution Payments Announced t...   \n",
       "2  11-1002  $1 Million Settlement Reached for Natural Reso...   \n",
       "3   10-015  10 Las Vegas Men Indicted \\r\\nfor Falsifying V...   \n",
       "4   18-898  $100 Million Settlement Will Speed Cleanup Wor...   \n",
       "\n",
       "                                            contents  \\\n",
       "0  PORTLAND, Oregon. – Mohamed Osman Mohamud, 23,...   \n",
       "1    WASHINGTON – North Carolina’s Waccamaw River...   \n",
       "2        BOSTON– A $1-million settlement has been...   \n",
       "3    WASHINGTON—A federal grand jury in Las Vegas...   \n",
       "4  The U.S. Department of Justice, the U.S. Envir...   \n",
       "\n",
       "                        date         topics  \\\n",
       "0  2014-10-01T00:00:00-04:00             []   \n",
       "1  2012-07-25T00:00:00-04:00             []   \n",
       "2  2011-08-03T00:00:00-04:00             []   \n",
       "3  2010-01-08T00:00:00-05:00             []   \n",
       "4  2018-07-09T00:00:00-04:00  [Environment]   \n",
       "\n",
       "                                     components  \n",
       "0            [National Security Division (NSD)]  \n",
       "1  [Environment and Natural Resources Division]  \n",
       "2  [Environment and Natural Resources Division]  \n",
       "3  [Environment and Natural Resources Division]  \n",
       "4  [Environment and Natural Resources Division]  "
      ]
     },
     "execution_count": 33,
     "metadata": {},
     "output_type": "execute_result"
    }
   ],
   "source": [
    "data.head()"
   ]
  },
  {
   "cell_type": "code",
   "execution_count": 34,
   "id": "69cd3518-4bf9-4204-aa17-8962c9b1c52e",
   "metadata": {},
   "outputs": [
    {
     "data": {
      "text/plain": [
       "id            277\n",
       "title           0\n",
       "contents        0\n",
       "date            0\n",
       "topics          0\n",
       "components      0\n",
       "dtype: int64"
      ]
     },
     "execution_count": 34,
     "metadata": {},
     "output_type": "execute_result"
    }
   ],
   "source": [
    "data.isnull().sum()"
   ]
  },
  {
   "cell_type": "code",
   "execution_count": 35,
   "id": "268ef887-0e7e-4a12-803e-1387c963da53",
   "metadata": {},
   "outputs": [
    {
     "name": "stdout",
     "output_type": "stream",
     "text": [
      "<class 'pandas.core.frame.DataFrame'>\n",
      "RangeIndex: 13087 entries, 0 to 13086\n",
      "Data columns (total 6 columns):\n",
      " #   Column      Non-Null Count  Dtype \n",
      "---  ------      --------------  ----- \n",
      " 0   id          12810 non-null  object\n",
      " 1   title       13087 non-null  object\n",
      " 2   contents    13087 non-null  object\n",
      " 3   date        13087 non-null  object\n",
      " 4   topics      13087 non-null  object\n",
      " 5   components  13087 non-null  object\n",
      "dtypes: object(6)\n",
      "memory usage: 613.6+ KB\n"
     ]
    }
   ],
   "source": [
    "data.info()"
   ]
  },
  {
   "cell_type": "code",
   "execution_count": 37,
   "id": "1ce0e491-b2cb-47cc-a999-91e6d6e50f67",
   "metadata": {},
   "outputs": [
    {
     "data": {
      "text/plain": [
       "(13087, 6)"
      ]
     },
     "execution_count": 37,
     "metadata": {},
     "output_type": "execute_result"
    }
   ],
   "source": [
    "data.shape"
   ]
  },
  {
   "cell_type": "markdown",
   "id": "491e7dc9-54bd-4a55-ad26-eac787ec11f5",
   "metadata": {},
   "source": [
    "Few topics having empty list , so we need to remove those"
   ]
  },
  {
   "cell_type": "code",
   "execution_count": 40,
   "id": "25a3212c-c7d9-4b9b-9fb4-e8abd3ce105b",
   "metadata": {},
   "outputs": [],
   "source": [
    "df = data [data[\"topics\"].str.len() !=0]"
   ]
  },
  {
   "cell_type": "code",
   "execution_count": 41,
   "id": "de11be67-265b-41f2-8bf4-68c280c18ce1",
   "metadata": {},
   "outputs": [
    {
     "data": {
      "text/html": [
       "<div>\n",
       "<style scoped>\n",
       "    .dataframe tbody tr th:only-of-type {\n",
       "        vertical-align: middle;\n",
       "    }\n",
       "\n",
       "    .dataframe tbody tr th {\n",
       "        vertical-align: top;\n",
       "    }\n",
       "\n",
       "    .dataframe thead th {\n",
       "        text-align: right;\n",
       "    }\n",
       "</style>\n",
       "<table border=\"1\" class=\"dataframe\">\n",
       "  <thead>\n",
       "    <tr style=\"text-align: right;\">\n",
       "      <th></th>\n",
       "      <th>id</th>\n",
       "      <th>title</th>\n",
       "      <th>contents</th>\n",
       "      <th>date</th>\n",
       "      <th>topics</th>\n",
       "      <th>components</th>\n",
       "    </tr>\n",
       "  </thead>\n",
       "  <tbody>\n",
       "    <tr>\n",
       "      <th>4</th>\n",
       "      <td>18-898</td>\n",
       "      <td>$100 Million Settlement Will Speed Cleanup Wor...</td>\n",
       "      <td>The U.S. Department of Justice, the U.S. Envir...</td>\n",
       "      <td>2018-07-09T00:00:00-04:00</td>\n",
       "      <td>[Environment]</td>\n",
       "      <td>[Environment and Natural Resources Division]</td>\n",
       "    </tr>\n",
       "    <tr>\n",
       "      <th>7</th>\n",
       "      <td>14-1412</td>\n",
       "      <td>14 Indicted in Connection with New England Com...</td>\n",
       "      <td>A 131-count criminal indictment was unsealed t...</td>\n",
       "      <td>2014-12-17T00:00:00-05:00</td>\n",
       "      <td>[Consumer Protection]</td>\n",
       "      <td>[Civil Division]</td>\n",
       "    </tr>\n",
       "    <tr>\n",
       "      <th>19</th>\n",
       "      <td>17-1419</td>\n",
       "      <td>2017 Southeast Regional Animal Cruelty Prosecu...</td>\n",
       "      <td>The United States Attorney’s Office for the Mi...</td>\n",
       "      <td>2017-12-14T00:00:00-05:00</td>\n",
       "      <td>[Environment]</td>\n",
       "      <td>[Environment and Natural Resources Division, U...</td>\n",
       "    </tr>\n",
       "    <tr>\n",
       "      <th>22</th>\n",
       "      <td>15-1562</td>\n",
       "      <td>21st Century Oncology to Pay $19.75 Million to...</td>\n",
       "      <td>21st Century Oncology LLC, has agreed to pay $...</td>\n",
       "      <td>2015-12-18T00:00:00-05:00</td>\n",
       "      <td>[False Claims Act, Health Care Fraud]</td>\n",
       "      <td>[Civil Division]</td>\n",
       "    </tr>\n",
       "    <tr>\n",
       "      <th>23</th>\n",
       "      <td>17-1404</td>\n",
       "      <td>21st Century Oncology to Pay $26 Million to Se...</td>\n",
       "      <td>21st Century Oncology Inc. and certain of its ...</td>\n",
       "      <td>2017-12-12T00:00:00-05:00</td>\n",
       "      <td>[Health Care Fraud, False Claims Act]</td>\n",
       "      <td>[Civil Division, USAO - Florida, Middle]</td>\n",
       "    </tr>\n",
       "  </tbody>\n",
       "</table>\n",
       "</div>"
      ],
      "text/plain": [
       "         id                                              title  \\\n",
       "4    18-898  $100 Million Settlement Will Speed Cleanup Wor...   \n",
       "7   14-1412  14 Indicted in Connection with New England Com...   \n",
       "19  17-1419  2017 Southeast Regional Animal Cruelty Prosecu...   \n",
       "22  15-1562  21st Century Oncology to Pay $19.75 Million to...   \n",
       "23  17-1404  21st Century Oncology to Pay $26 Million to Se...   \n",
       "\n",
       "                                             contents  \\\n",
       "4   The U.S. Department of Justice, the U.S. Envir...   \n",
       "7   A 131-count criminal indictment was unsealed t...   \n",
       "19  The United States Attorney’s Office for the Mi...   \n",
       "22  21st Century Oncology LLC, has agreed to pay $...   \n",
       "23  21st Century Oncology Inc. and certain of its ...   \n",
       "\n",
       "                         date                                 topics  \\\n",
       "4   2018-07-09T00:00:00-04:00                          [Environment]   \n",
       "7   2014-12-17T00:00:00-05:00                  [Consumer Protection]   \n",
       "19  2017-12-14T00:00:00-05:00                          [Environment]   \n",
       "22  2015-12-18T00:00:00-05:00  [False Claims Act, Health Care Fraud]   \n",
       "23  2017-12-12T00:00:00-05:00  [Health Care Fraud, False Claims Act]   \n",
       "\n",
       "                                           components  \n",
       "4        [Environment and Natural Resources Division]  \n",
       "7                                    [Civil Division]  \n",
       "19  [Environment and Natural Resources Division, U...  \n",
       "22                                   [Civil Division]  \n",
       "23           [Civil Division, USAO - Florida, Middle]  "
      ]
     },
     "execution_count": 41,
     "metadata": {},
     "output_type": "execute_result"
    }
   ],
   "source": [
    "df.head()"
   ]
  },
  {
   "cell_type": "code",
   "execution_count": 42,
   "id": "e20ef296-ff64-4623-96c6-74dda3f74022",
   "metadata": {},
   "outputs": [
    {
     "data": {
      "text/plain": [
       "(4688, 6)"
      ]
     },
     "execution_count": 42,
     "metadata": {},
     "output_type": "execute_result"
    }
   ],
   "source": [
    "df.shape"
   ]
  },
  {
   "cell_type": "code",
   "execution_count": 43,
   "id": "d02ea9c4-13d7-41ac-b217-46f397a16aac",
   "metadata": {},
   "outputs": [
    {
     "data": {
      "text/plain": [
       "(100, 6)"
      ]
     },
     "execution_count": 43,
     "metadata": {},
     "output_type": "execute_result"
    }
   ],
   "source": [
    "df = df.head(100)\n",
    "df.shape"
   ]
  },
  {
   "cell_type": "code",
   "execution_count": 45,
   "id": "5318abf4-2e0f-49d7-a25f-64bbadc6a892",
   "metadata": {},
   "outputs": [
    {
     "data": {
      "text/plain": [
       "'21st Century Oncology Inc. and certain of its subsidiaries and affiliates have agreed to pay $26 million to the government to resolve a self-disclosure relating to the submission of false attestations regarding the company’s use of electronic health records software and separate allegations that they violated the False Claims Act by submitting, or causing the submission of, claims for certain services provided pursuant to referrals from physicians with whom they had improper financial relationships. \\xa0 “The Justice Department is committed to zealously investigating improper financial relationships that have the potential to compromise physicians’ medical judgment,” said Acting Assistant Attorney General Chad A. Readler of the Justice Department’s Civil Division.\\xa0 “However, we will work with companies that accept responsibility for their past compliance failures and promptly take corrective action.”  \\xa0 21st Century Oncology, which is headquartered in Fort Myers, Florida, owns and operates subsidiaries and affiliates throughout the United States that provide integrated cancer care.\\xa0 As part of its business, 21st Century Oncology’s subsidiaries and affiliates employ physicians in specialty fields such as radiation oncology, medical oncology, and urology.\\xa0  \\xa0 The settlement announced today resolves conduct that was self-disclosed by the company regarding payments made by the government as part of the Medicare Electronic Health Records (EHR) Incentive Program.\\xa0 Under the Medicare EHR Incentive Program, physicians who attest to their meaningful use of certified EHR technology may receive incentive payments and avoid downward adjustments to certain Medicare claims.\\xa0 As part of its self-disclosure, 21st Century Oncology reported that it knowingly submitted, or caused the submission of, false attestations to CMS concerning employed physicians’ use of EHR software.\\xa0 The company further reported that, in support of the attestations, its employees falsified data regarding the company’s use of EHR software, fabricated software utilization reports, and superimposed EHR vendor logos onto the reports to make them look legitimate.\\xa0  \\xa0 “This settlement represents our office’s continued commitment to ensuring compliance with important federal health care laws,” said Acting U.S. Attorney Stephen Muldrow of the Middle District of Florida.\\xa0 “We appreciate that 21st Century Oncology self-reported a major fraud affecting Medicare, and we are also pleased that the company has agreed to accept financial responsibility for past compliance failures.” \\xa0 The settlement also resolves the government’s allegations regarding violations of the physician self-referral law (commonly referred to as the “Stark Law.”)\\xa0 The Stark Law prohibits an entity from submitting claims to Medicare for designated health services performed pursuant to referrals from physicians with whom the entity has a financial relationship unless certain designated exceptions apply.\\xa0 The government alleged that 21st Century Oncology and certain of its subsidiaries and affiliates violated the FCA by submitting, or causing the submission of, claims for services performed pursuant to referrals from physicians whose compensation did not satisfy any exception to the Stark Law. \\xa0 The Stark Law allegations were originally brought in a lawsuit filed by Matthew Moore, 21st Century Oncology’s former Interim Vice President of Financial Planning, under the qui tam provisions of the False Claims Act.\\xa0 Under the Act, private parties may bring suit on behalf of the government and share in any recovery.\\xa0 Mr. Moore will receive $2,000,000 as his share of the recovery associated with the Stark Law allegations. \\xa0 In addition to the civil settlement, 21st Century Oncology has entered into a new five-year Corporate Integrity Agreement with the Office of Inspector General of the United States Department of Health and Human Services (HHS-OIG), which obligates 21st Century Oncology to undertake substantial internal compliance reforms, including hiring independent review organizations to conduct annual claims and arrangements reviews.\\xa0 \\xa0 “21st Century Oncology admitted to causing violation of the meaningful use regulations in order to fund an electronic health records system, as well as falsifying records to cover up those actions,” said Shimon R. Richmond, Special Agent in Charge for the Office of Inspector General of the U.S. Department of Health and Human Services.\\xa0 “Separately, the government alleged that same company, through its affiliates and subsidiaries, caused certain physicians to enter into illegal financial arrangements.\\xa0 Providers engaging in similar behavior should expect attention from OIG.”\\xa0\\xa0\\xa0 \\xa0 The government’s resolution of this matter illustrates the government’s emphasis on combating health care fraud.\\xa0 Tips and complaints from all sources about potential fraud, waste, abuse, and mismanagement can be reported to the Department of Health and Human Services at 900-HHS-TIPS (800-447-8477). \\xa0 The investigation was handled by the Civil Division’s Commercial Litigation Branch and the Fort Myers Division of\\xa0the U.S. Attorney’s Office for the Middle District of Florida, with assistance from the U.S. Attorney’s Office for the Southern District of New York and HHS-OIG.\\xa0 The claims resolved by this settlement are allegations only; there has been no determination of liability.\\xa0 The case is captioned United States ex rel. Moore v. 21st Century Oncology, LLC, No. 2:16-cv-99 (M.D. Fl.).'"
      ]
     },
     "execution_count": 45,
     "metadata": {},
     "output_type": "execute_result"
    }
   ],
   "source": [
    "df[\"contents\"].iloc[4]"
   ]
  },
  {
   "cell_type": "code",
   "execution_count": 46,
   "id": "1dbc460c-01ee-459c-8997-a4ec3a833dd8",
   "metadata": {},
   "outputs": [
    {
     "data": {
      "text/plain": [
       "5504"
      ]
     },
     "execution_count": 46,
     "metadata": {},
     "output_type": "execute_result"
    }
   ],
   "source": [
    "len(df[\"contents\"].iloc[4])"
   ]
  },
  {
   "cell_type": "markdown",
   "id": "7de8c98d-780e-46b6-90e3-55f4feda8e92",
   "metadata": {},
   "source": [
    "# Remove Stop words from `contents` column"
   ]
  },
  {
   "cell_type": "code",
   "execution_count": 49,
   "id": "d34e3b86-05ea-4cd0-b573-91fa8a8be400",
   "metadata": {},
   "outputs": [],
   "source": [
    "#apply preprocess fun\n",
    "df[\"contents_new\"] = df[\"contents\"].apply(preprocess)"
   ]
  },
  {
   "cell_type": "code",
   "execution_count": 50,
   "id": "a5e0a6a0-de91-461d-b20e-35d779a17f04",
   "metadata": {},
   "outputs": [
    {
     "data": {
      "text/html": [
       "<div>\n",
       "<style scoped>\n",
       "    .dataframe tbody tr th:only-of-type {\n",
       "        vertical-align: middle;\n",
       "    }\n",
       "\n",
       "    .dataframe tbody tr th {\n",
       "        vertical-align: top;\n",
       "    }\n",
       "\n",
       "    .dataframe thead th {\n",
       "        text-align: right;\n",
       "    }\n",
       "</style>\n",
       "<table border=\"1\" class=\"dataframe\">\n",
       "  <thead>\n",
       "    <tr style=\"text-align: right;\">\n",
       "      <th></th>\n",
       "      <th>id</th>\n",
       "      <th>title</th>\n",
       "      <th>contents</th>\n",
       "      <th>date</th>\n",
       "      <th>topics</th>\n",
       "      <th>components</th>\n",
       "      <th>contents_new</th>\n",
       "    </tr>\n",
       "  </thead>\n",
       "  <tbody>\n",
       "    <tr>\n",
       "      <th>4</th>\n",
       "      <td>18-898</td>\n",
       "      <td>$100 Million Settlement Will Speed Cleanup Wor...</td>\n",
       "      <td>The U.S. Department of Justice, the U.S. Envir...</td>\n",
       "      <td>2018-07-09T00:00:00-04:00</td>\n",
       "      <td>[Environment]</td>\n",
       "      <td>[Environment and Natural Resources Division]</td>\n",
       "      <td>U.S. Department Justice U.S. Environmental Pro...</td>\n",
       "    </tr>\n",
       "    <tr>\n",
       "      <th>7</th>\n",
       "      <td>14-1412</td>\n",
       "      <td>14 Indicted in Connection with New England Com...</td>\n",
       "      <td>A 131-count criminal indictment was unsealed t...</td>\n",
       "      <td>2014-12-17T00:00:00-05:00</td>\n",
       "      <td>[Consumer Protection]</td>\n",
       "      <td>[Civil Division]</td>\n",
       "      <td>131 count criminal indictment unsealed today B...</td>\n",
       "    </tr>\n",
       "    <tr>\n",
       "      <th>19</th>\n",
       "      <td>17-1419</td>\n",
       "      <td>2017 Southeast Regional Animal Cruelty Prosecu...</td>\n",
       "      <td>The United States Attorney’s Office for the Mi...</td>\n",
       "      <td>2017-12-14T00:00:00-05:00</td>\n",
       "      <td>[Environment]</td>\n",
       "      <td>[Environment and Natural Resources Division, U...</td>\n",
       "      <td>United States Attorney Office Middle District ...</td>\n",
       "    </tr>\n",
       "    <tr>\n",
       "      <th>22</th>\n",
       "      <td>15-1562</td>\n",
       "      <td>21st Century Oncology to Pay $19.75 Million to...</td>\n",
       "      <td>21st Century Oncology LLC, has agreed to pay $...</td>\n",
       "      <td>2015-12-18T00:00:00-05:00</td>\n",
       "      <td>[False Claims Act, Health Care Fraud]</td>\n",
       "      <td>[Civil Division]</td>\n",
       "      <td>21st Century Oncology LLC agreed pay $ 19.75 m...</td>\n",
       "    </tr>\n",
       "    <tr>\n",
       "      <th>23</th>\n",
       "      <td>17-1404</td>\n",
       "      <td>21st Century Oncology to Pay $26 Million to Se...</td>\n",
       "      <td>21st Century Oncology Inc. and certain of its ...</td>\n",
       "      <td>2017-12-12T00:00:00-05:00</td>\n",
       "      <td>[Health Care Fraud, False Claims Act]</td>\n",
       "      <td>[Civil Division, USAO - Florida, Middle]</td>\n",
       "      <td>21st Century Oncology Inc. certain subsidiarie...</td>\n",
       "    </tr>\n",
       "  </tbody>\n",
       "</table>\n",
       "</div>"
      ],
      "text/plain": [
       "         id                                              title  \\\n",
       "4    18-898  $100 Million Settlement Will Speed Cleanup Wor...   \n",
       "7   14-1412  14 Indicted in Connection with New England Com...   \n",
       "19  17-1419  2017 Southeast Regional Animal Cruelty Prosecu...   \n",
       "22  15-1562  21st Century Oncology to Pay $19.75 Million to...   \n",
       "23  17-1404  21st Century Oncology to Pay $26 Million to Se...   \n",
       "\n",
       "                                             contents  \\\n",
       "4   The U.S. Department of Justice, the U.S. Envir...   \n",
       "7   A 131-count criminal indictment was unsealed t...   \n",
       "19  The United States Attorney’s Office for the Mi...   \n",
       "22  21st Century Oncology LLC, has agreed to pay $...   \n",
       "23  21st Century Oncology Inc. and certain of its ...   \n",
       "\n",
       "                         date                                 topics  \\\n",
       "4   2018-07-09T00:00:00-04:00                          [Environment]   \n",
       "7   2014-12-17T00:00:00-05:00                  [Consumer Protection]   \n",
       "19  2017-12-14T00:00:00-05:00                          [Environment]   \n",
       "22  2015-12-18T00:00:00-05:00  [False Claims Act, Health Care Fraud]   \n",
       "23  2017-12-12T00:00:00-05:00  [Health Care Fraud, False Claims Act]   \n",
       "\n",
       "                                           components  \\\n",
       "4        [Environment and Natural Resources Division]   \n",
       "7                                    [Civil Division]   \n",
       "19  [Environment and Natural Resources Division, U...   \n",
       "22                                   [Civil Division]   \n",
       "23           [Civil Division, USAO - Florida, Middle]   \n",
       "\n",
       "                                         contents_new  \n",
       "4   U.S. Department Justice U.S. Environmental Pro...  \n",
       "7   131 count criminal indictment unsealed today B...  \n",
       "19  United States Attorney Office Middle District ...  \n",
       "22  21st Century Oncology LLC agreed pay $ 19.75 m...  \n",
       "23  21st Century Oncology Inc. certain subsidiarie...  "
      ]
     },
     "execution_count": 50,
     "metadata": {},
     "output_type": "execute_result"
    }
   ],
   "source": [
    "df.head()"
   ]
  },
  {
   "cell_type": "code",
   "execution_count": 51,
   "id": "1390610e-0ee2-4181-b9d8-f99e938e5aef",
   "metadata": {},
   "outputs": [
    {
     "name": "stdout",
     "output_type": "stream",
     "text": [
      "Lenght of \"Content\" of 4th index before removing stop words 5504\n",
      "Lenght of \"Content\" of 4th index after removing stop words 4217\n"
     ]
    }
   ],
   "source": [
    "print(\"\"\"Lenght of \"Content\" of 4th index before removing stop words\"\"\", len(df[\"contents\"].iloc[4]))\n",
    "print(\"\"\"Lenght of \"Content\" of 4th index after removing stop words\"\"\", len(df[\"contents_new\"].iloc[4]))"
   ]
  },
  {
   "cell_type": "code",
   "execution_count": 52,
   "id": "18e22dda-e557-45e7-89cd-1109197301ec",
   "metadata": {},
   "outputs": [
    {
     "name": "stdout",
     "output_type": "stream",
     "text": [
      "Lenght of \"Content\" of 7th index before removing stop words 5081\n",
      "Lenght of \"Content\" of 7th index after removing stop words 3939\n"
     ]
    }
   ],
   "source": [
    "print(\"\"\"Lenght of \"Content\" of 7th index before removing stop words\"\"\", len(df[\"contents\"].iloc[7]))\n",
    "print(\"\"\"Lenght of \"Content\" of 7th index after removing stop words\"\"\", len(df[\"contents_new\"].iloc[7]))"
   ]
  },
  {
   "cell_type": "code",
   "execution_count": 53,
   "id": "986513e8-c2d0-42f8-99b6-241e095d599f",
   "metadata": {},
   "outputs": [
    {
     "data": {
      "text/plain": [
       "'21st Century Oncology Inc. certain subsidiaries affiliates agreed pay $ 26 million government resolve self disclosure relating submission false attestations company use electronic health records software separate allegations violated False Claims Act submitting causing submission claims certain services provided pursuant referrals physicians improper financial relationships \\xa0  Justice Department committed zealously investigating improper financial relationships potential compromise physicians medical judgment said Acting Assistant Attorney General Chad A. Readler Justice Department Civil Division \\xa0  work companies accept responsibility past compliance failures promptly corrective action  \\xa0  21st Century Oncology headquartered Fort Myers Florida owns operates subsidiaries affiliates United States provide integrated cancer care \\xa0  business 21st Century Oncology subsidiaries affiliates employ physicians specialty fields radiation oncology medical oncology urology \\xa0  \\xa0  settlement announced today resolves conduct self disclosed company payments government Medicare Electronic Health Records EHR Incentive Program \\xa0  Medicare EHR Incentive Program physicians attest meaningful use certified EHR technology receive incentive payments avoid downward adjustments certain Medicare claims \\xa0  self disclosure 21st Century Oncology reported knowingly submitted caused submission false attestations CMS concerning employed physicians use EHR software \\xa0  company reported support attestations employees falsified data company use EHR software fabricated software utilization reports superimposed EHR vendor logos reports look legitimate \\xa0  \\xa0  settlement represents office continued commitment ensuring compliance important federal health care laws said Acting U.S. Attorney Stephen Muldrow Middle District Florida \\xa0  appreciate 21st Century Oncology self reported major fraud affecting Medicare pleased company agreed accept financial responsibility past compliance failures \\xa0  settlement resolves government allegations violations physician self referral law commonly referred Stark Law \\xa0  Stark Law prohibits entity submitting claims Medicare designated health services performed pursuant referrals physicians entity financial relationship certain designated exceptions apply \\xa0  government alleged 21st Century Oncology certain subsidiaries affiliates violated FCA submitting causing submission claims services performed pursuant referrals physicians compensation satisfy exception Stark Law \\xa0  Stark Law allegations originally brought lawsuit filed Matthew Moore 21st Century Oncology Interim Vice President Financial Planning qui tam provisions False Claims Act \\xa0  Act private parties bring suit behalf government share recovery \\xa0  Mr. Moore receive $ 2,000,000 share recovery associated Stark Law allegations \\xa0  addition civil settlement 21st Century Oncology entered new year Corporate Integrity Agreement Office Inspector General United States Department Health Human Services HHS OIG obligates 21st Century Oncology undertake substantial internal compliance reforms including hiring independent review organizations conduct annual claims arrangements reviews \\xa0 \\xa0  21st Century Oncology admitted causing violation meaningful use regulations order fund electronic health records system falsifying records cover actions said Shimon R. Richmond Special Agent Charge Office Inspector General U.S. Department Health Human Services \\xa0  Separately government alleged company affiliates subsidiaries caused certain physicians enter illegal financial arrangements \\xa0  Providers engaging similar behavior expect attention OIG \\xa0\\xa0\\xa0 \\xa0  government resolution matter illustrates government emphasis combating health care fraud \\xa0  Tips complaints sources potential fraud waste abuse mismanagement reported Department Health Human Services 900 HHS TIPS 800 447 8477 \\xa0  investigation handled Civil Division Commercial Litigation Branch Fort Myers Division \\xa0 U.S. Attorney Office Middle District Florida assistance U.S. Attorney Office Southern District New York HHS OIG \\xa0  claims resolved settlement allegations determination liability \\xa0  case captioned United States ex rel Moore v. 21st Century Oncology LLC 2:16 cv-99 M.D. Fl'"
      ]
     },
     "execution_count": 53,
     "metadata": {},
     "output_type": "execute_result"
    }
   ],
   "source": [
    "df[\"contents_new\"].iloc[4]"
   ]
  },
  {
   "cell_type": "markdown",
   "id": "3a8ae203-754a-4e94-b98b-ff737408552a",
   "metadata": {},
   "source": [
    "# Tasks:"
   ]
  },
  {
   "cell_type": "code",
   "execution_count": 54,
   "id": "c07b374e-9c54-448e-a338-c8149b5da65b",
   "metadata": {},
   "outputs": [],
   "source": [
    "#import spacy and load the model\n",
    "\n",
    "import spacy\n",
    "nlp = spacy.load(\"en_core_web_sm\")"
   ]
  },
  {
   "cell_type": "markdown",
   "id": "2ae967cc-2e44-4d73-b0b2-11d7e2a200cf",
   "metadata": {},
   "source": [
    "**Task1**\n",
    "\n",
    "* From a Given Text, Count the number of stop words in it.\r",
    "* \n",
    "Print the percentage of stop word tokens compared to all tokens in a given text\n"
   ]
  },
  {
   "cell_type": "code",
   "execution_count": 55,
   "id": "1b87cd82-84f3-4b2f-b44f-29c1aa1c8038",
   "metadata": {},
   "outputs": [],
   "source": [
    "text = '''\n",
    "Thor: Love and Thunder is a 2022 American superhero film based on Marvel Comics featuring the character Thor, produced by Marvel Studios and \n",
    "distributed by Walt Disney Studios Motion Pictures. It is the sequel to Thor: Ragnarok (2017) and the 29th film in the Marvel Cinematic Universe (MCU).\n",
    "The film is directed by Taika Waititi, who co-wrote the script with Jennifer Kaytin Robinson, and stars Chris Hemsworth as Thor alongside Christian Bale, Tessa Thompson,\n",
    "Jaimie Alexander, Waititi, Russell Crowe, and Natalie Portman. In the film, Thor attempts to find inner peace, but must return to action and recruit Valkyrie (Thompson),\n",
    "Korg (Waititi), and Jane Foster (Portman)—who is now the Mighty Thor—to stop Gorr the God Butcher (Bale) from eliminating all gods.\n",
    "'''\n"
   ]
  },
  {
   "cell_type": "code",
   "execution_count": 56,
   "id": "549bd06d-05ab-4980-8515-b1e385c7d407",
   "metadata": {},
   "outputs": [],
   "source": [
    "#creating object\n",
    "\n",
    "doc = nlp(text)"
   ]
  },
  {
   "cell_type": "code",
   "execution_count": 60,
   "id": "8f1d183c-857c-48f4-9770-39a3566bd084",
   "metadata": {},
   "outputs": [
    {
     "name": "stdout",
     "output_type": "stream",
     "text": [
      "Total number of words in given text 160\n",
      "Number of stop words in given text 40\n",
      "Percentage of stop words in given text: 25.0%\n"
     ]
    }
   ],
   "source": [
    "#define the variables to keep track of stopwords count and total words count\n",
    "\n",
    "total_words_count = len(doc)\n",
    "\n",
    "stop_words_count = 0\n",
    "\n",
    "for token in doc:\n",
    "    if token.is_stop:\n",
    "        stop_words_count+=1\n",
    "\n",
    "print(\"Total number of words in given text\", total_words_count)\n",
    "print(\"Number of stop words in given text\", stop_words_count)\n",
    "print(f\"Percentage of stop words in given text: {stop_words_count/total_words_count*100}%\")"
   ]
  },
  {
   "cell_type": "markdown",
   "id": "0065a4d4-1729-475e-bbe6-097d1608dce6",
   "metadata": {},
   "source": [
    "**Task 2:**\n",
    "\n",
    "* Spacy default implementation considers \"not\" as a stop word. But in some scenarios removing 'not' will completely change the meaning of the statement/text. For Example, consider these two statements:\n",
    "  \n",
    "    - this is a good movie       ----> Positive Statement\n",
    "    - this is not a good movie   ----> Negative Statement\n",
    " \n",
    "\n",
    "\n",
    "* So, after applying stopwords to those 2 texts, both will return \"good movie\" and does not respect the polarity/sentiments of text.\n",
    "\n",
    "* Now, your task is to remove this stop word \"not\" in spaCy and help in distinguishing the texts."
   ]
  },
  {
   "cell_type": "code",
   "execution_count": 66,
   "id": "86446038-7093-4c47-bdd6-f1a6f5f7213f",
   "metadata": {},
   "outputs": [],
   "source": [
    "#remove the stopword 'not' in spacy\n",
    "\n",
    "nlp.vocab['not'].is_stop = False\n"
   ]
  },
  {
   "cell_type": "code",
   "execution_count": 70,
   "id": "5d5663cb-efdf-4151-9b3c-66df035cadb6",
   "metadata": {},
   "outputs": [
    {
     "data": {
      "text/plain": [
       "'good movie'"
      ]
     },
     "execution_count": 70,
     "metadata": {},
     "output_type": "execute_result"
    }
   ],
   "source": [
    "#using preprocessfun\n",
    "text1 =  preprocess(\"this is a good movie\")\n",
    "text1"
   ]
  },
  {
   "cell_type": "code",
   "execution_count": 71,
   "id": "c1db503f-0bcc-4ff3-bcf8-eb323d156e45",
   "metadata": {},
   "outputs": [
    {
     "data": {
      "text/plain": [
       "'not good movie'"
      ]
     },
     "execution_count": 71,
     "metadata": {},
     "output_type": "execute_result"
    }
   ],
   "source": [
    "#using preprocessfun\n",
    "text2 = preprocess(\"this is not a good movie\")\n",
    "text2"
   ]
  },
  {
   "cell_type": "markdown",
   "id": "cc5520cb-820c-4cab-9a56-c8e64e7df5ed",
   "metadata": {},
   "source": [
    "another ways to do it https://stackoverflow.com/questions/73205546/spacy-how-not-to-remove-not-when-cleaning-the-text-with-space"
   ]
  },
  {
   "cell_type": "markdown",
   "id": "fae0dbfa-eb36-4582-bd14-f631a587007c",
   "metadata": {},
   "source": [
    "**Task 3:**\n",
    "\n",
    "* From a given text, output the most frequently used token after removing all the stop word tokens and punctuations in it.\n"
   ]
  },
  {
   "cell_type": "code",
   "execution_count": 72,
   "id": "faeb2e5e-f74d-435c-ae3f-5269a6224fe0",
   "metadata": {},
   "outputs": [],
   "source": [
    "text = ''' The India men's national cricket team, also known as Team India or the Men in Blue, represents India in men's international cricket.\n",
    "It is governed by the Board of Control for Cricket in India (BCCI), and is a Full Member of the International Cricket Council (ICC) with Test,\n",
    "One Day International (ODI) and Twenty20 International (T20I) status. Cricket was introduced to India by British sailors in the 18th century, and the \n",
    "first cricket club was established in 1792. India's national cricket team played its first Test match on 25 June 1932 at Lord's, becoming the sixth team to be\n",
    "granted test cricket status.\n",
    "'''"
   ]
  },
  {
   "cell_type": "code",
   "execution_count": 73,
   "id": "6b68979f-454c-4de8-bf58-983cebf5c755",
   "metadata": {},
   "outputs": [],
   "source": [
    "#create object\n",
    "\n",
    "doc = nlp(text)"
   ]
  },
  {
   "cell_type": "code",
   "execution_count": 93,
   "id": "cb212f1a-db42-446f-b89f-e50acd920b11",
   "metadata": {},
   "outputs": [],
   "source": [
    "#removing all the stop words\n",
    "filtred_text = []\n",
    "for token in doc:\n",
    "    if not token.is_stop or token.is_punct:\n",
    "        filtred_text.append(token.text)\n",
    "    "
   ]
  },
  {
   "cell_type": "code",
   "execution_count": 95,
   "id": "8adfd472-949a-49ea-8877-cee6864e21a0",
   "metadata": {},
   "outputs": [
    {
     "data": {
      "text/plain": [
       "{'India': 6,\n",
       " 'men': 2,\n",
       " 'national': 2,\n",
       " 'cricket': 5,\n",
       " 'team': 3,\n",
       " ',': 6,\n",
       " 'known': 1,\n",
       " 'Team': 1,\n",
       " 'Men': 1,\n",
       " 'Blue': 1,\n",
       " 'represents': 1,\n",
       " 'international': 1,\n",
       " '.': 4,\n",
       " 'governed': 1,\n",
       " 'Board': 1,\n",
       " 'Control': 1,\n",
       " 'Cricket': 3,\n",
       " '(': 4,\n",
       " 'BCCI': 1,\n",
       " ')': 4,\n",
       " 'Member': 1,\n",
       " 'International': 3,\n",
       " 'Council': 1,\n",
       " 'ICC': 1,\n",
       " 'Test': 2,\n",
       " 'Day': 1,\n",
       " 'ODI': 1,\n",
       " 'Twenty20': 1,\n",
       " 'T20I': 1,\n",
       " 'status': 2,\n",
       " 'introduced': 1,\n",
       " 'British': 1,\n",
       " 'sailors': 1,\n",
       " '18th': 1,\n",
       " 'century': 1,\n",
       " 'club': 1,\n",
       " 'established': 1,\n",
       " '1792': 1,\n",
       " 'played': 1,\n",
       " 'match': 1,\n",
       " '25': 1,\n",
       " 'June': 1,\n",
       " '1932': 1,\n",
       " 'Lord': 1,\n",
       " 'sixth': 1,\n",
       " 'granted': 1,\n",
       " 'test': 1}"
      ]
     },
     "execution_count": 95,
     "metadata": {},
     "output_type": "execute_result"
    }
   ],
   "source": [
    "#Checking frequency of words\n",
    "\n",
    "frequency_tokens = {}\n",
    "\n",
    "for token in filtred_text:\n",
    "    if token != \"\\n\" and token != \" \":\n",
    "        if token not in frequency_tokens:\n",
    "            frequency_tokens[token] = 1\n",
    "        else:\n",
    "            frequency_tokens[token]+=1\n",
    "\n",
    "frequency_tokens"
   ]
  },
  {
   "cell_type": "code",
   "execution_count": 96,
   "id": "313c791b-d29f-4e9b-a6b0-a3261037a34f",
   "metadata": {},
   "outputs": [
    {
     "name": "stdout",
     "output_type": "stream",
     "text": [
      "Maximum frequency word is: India\n"
     ]
    }
   ],
   "source": [
    "#Get maxiumm frequent token\n",
    "\n",
    "max_freq_token = max( frequency_tokens.keys(), key=(lambda key: frequency_tokens[key]))\n",
    "\n",
    "print(\"Maximum frequency word is:\", max_freq_token)"
   ]
  },
  {
   "cell_type": "code",
   "execution_count": null,
   "id": "acd2af58-b3c7-4feb-ab9d-75fc4208e1b4",
   "metadata": {},
   "outputs": [],
   "source": []
  }
 ],
 "metadata": {
  "kernelspec": {
   "display_name": "Python 3 (ipykernel)",
   "language": "python",
   "name": "python3"
  },
  "language_info": {
   "codemirror_mode": {
    "name": "ipython",
    "version": 3
   },
   "file_extension": ".py",
   "mimetype": "text/x-python",
   "name": "python",
   "nbconvert_exporter": "python",
   "pygments_lexer": "ipython3",
   "version": "3.11.5"
  }
 },
 "nbformat": 4,
 "nbformat_minor": 5
}
