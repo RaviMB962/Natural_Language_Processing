{
 "cells": [
  {
   "cell_type": "markdown",
   "id": "c76a374a-f45a-4124-978e-3e9a855c603c",
   "metadata": {},
   "source": [
    "<h2 align = 'center'>Word vectors in Spacy overview</h2>"
   ]
  },
  {
   "cell_type": "code",
   "execution_count": 1,
   "id": "40438b7f-ed34-4177-9013-41976576704c",
   "metadata": {},
   "outputs": [],
   "source": [
    "import spacy\n",
    "\n",
    "nlp = spacy.load(\"en_core_web_lg\")"
   ]
  },
  {
   "cell_type": "code",
   "execution_count": 2,
   "id": "b11e7cb0-289c-4aa5-a33e-4d8e97a04194",
   "metadata": {},
   "outputs": [
    {
     "name": "stdout",
     "output_type": "stream",
     "text": [
      "dog Vector: True OOV: False\n",
      "cat Vector: True OOV: False\n",
      "apple Vector: True OOV: False\n",
      "xjxhgj Vector: False OOV: True\n"
     ]
    }
   ],
   "source": [
    "doc = nlp(\"dog cat apple xjxhgj\")\n",
    "\n",
    "for token in doc:\n",
    "    print(token,\"Vector:\",token.has_vector,\"OOV:\",token.is_oov)"
   ]
  },
  {
   "cell_type": "code",
   "execution_count": 4,
   "id": "fd73ff0c-90b1-4e81-bf71-441c15c642b1",
   "metadata": {},
   "outputs": [
    {
     "data": {
      "text/plain": [
       "(300,)"
      ]
     },
     "execution_count": 4,
     "metadata": {},
     "output_type": "execute_result"
    }
   ],
   "source": [
    "doc[0].vector.shape"
   ]
  },
  {
   "cell_type": "code",
   "execution_count": 6,
   "id": "116c97f3-d744-4884-aa8a-223ab0c398a4",
   "metadata": {},
   "outputs": [
    {
     "data": {
      "text/plain": [
       "(300,)"
      ]
     },
     "execution_count": 6,
     "metadata": {},
     "output_type": "execute_result"
    }
   ],
   "source": [
    "base_token = nlp(\"banana\")\n",
    "\n",
    "base_token[0].vector.shape"
   ]
  },
  {
   "cell_type": "code",
   "execution_count": 7,
   "id": "dedf00e3-908b-4b42-9d7d-9088d20978eb",
   "metadata": {},
   "outputs": [
    {
     "name": "stdout",
     "output_type": "stream",
     "text": [
      "orange <-> banana 0.5230288136144706\n",
      "fruit <-> banana 0.6650427938803924\n",
      "car <-> banana 0.1089749733058973\n",
      "human <-> banana 0.05036653419672845\n",
      "rice <-> banana 0.5849660271297367\n"
     ]
    }
   ],
   "source": [
    "doc = nlp(\"orange fruit car human rice\")\n",
    "\n",
    "for token in doc:\n",
    "    print(f\"{token.text} <-> {base_token.text}\", token.similarity(base_token))"
   ]
  },
  {
   "cell_type": "code",
   "execution_count": 12,
   "id": "69971fec-7453-4017-80f9-0324aef3739a",
   "metadata": {},
   "outputs": [],
   "source": [
    "\n",
    "def print_similarity(base_word, words_to_comapare):\n",
    "    base_word = nlp(base_word)\n",
    "    doc = nlp(words_to_comapare)\n",
    "    \n",
    "    for token in doc:\n",
    "        print(f\"{token.text} <-> {base_word.text}\", token.similarity(base_word))"
   ]
  },
  {
   "cell_type": "code",
   "execution_count": 13,
   "id": "0a4f4642-aebb-4eff-bdf9-aae7c432d03c",
   "metadata": {},
   "outputs": [
    {
     "name": "stdout",
     "output_type": "stream",
     "text": [
      "apple <-> iphone 0.4387907748060368\n",
      "samsung <-> iphone 0.6708590303423401\n",
      "nokia <-> iphone 0.636268250170249\n",
      "dog <-> iphone 0.08211864228011527\n",
      "fruit <-> iphone 0.09844656923075253\n"
     ]
    }
   ],
   "source": [
    "print_similarity(\"iphone\", \"apple samsung nokia dog fruit\")"
   ]
  },
  {
   "cell_type": "code",
   "execution_count": 14,
   "id": "f99de466-30d2-4809-8e27-6e9714689cf1",
   "metadata": {},
   "outputs": [],
   "source": [
    "king = nlp.vocab[\"King\"].vector\n",
    "man = nlp.vocab[\"man\"].vector\n",
    "woman = nlp.vocab[\"woman\"].vector\n",
    "queen = nlp.vocab[\"queen\"].vector\n",
    "\n",
    "result = king - man + woman"
   ]
  },
  {
   "cell_type": "code",
   "execution_count": 15,
   "id": "158619f3-0751-42e4-ad85-e564d1918a1e",
   "metadata": {},
   "outputs": [
    {
     "data": {
      "text/plain": [
       "array([[0.43668598]], dtype=float32)"
      ]
     },
     "execution_count": 15,
     "metadata": {},
     "output_type": "execute_result"
    }
   ],
   "source": [
    "from sklearn.metrics.pairwise import cosine_similarity\n",
    "\n",
    "cosine_similarity([result], [queen])"
   ]
  },
  {
   "cell_type": "code",
   "execution_count": null,
   "id": "5aebe86d-aef4-477e-a670-b3fb377d1a2d",
   "metadata": {},
   "outputs": [],
   "source": []
  }
 ],
 "metadata": {
  "kernelspec": {
   "display_name": "Python 3 (ipykernel)",
   "language": "python",
   "name": "python3"
  },
  "language_info": {
   "codemirror_mode": {
    "name": "ipython",
    "version": 3
   },
   "file_extension": ".py",
   "mimetype": "text/x-python",
   "name": "python",
   "nbconvert_exporter": "python",
   "pygments_lexer": "ipython3",
   "version": "3.11.5"
  }
 },
 "nbformat": 4,
 "nbformat_minor": 5
}
